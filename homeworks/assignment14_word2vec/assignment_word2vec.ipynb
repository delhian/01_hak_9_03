{
  "cells": [
    {
      "cell_type": "markdown",
      "metadata": {
        "id": "nTSf4ro-qU0d"
      },
      "source": [
        "## Бонусное задание: word2vec на PyTorch\n",
        "\n",
        "Как вы уже могли заметить, идея, лежащая в основе [word2vec](https://arxiv.org/pdf/1310.4546), достаточно общая. В данном задании вы реализуете его самостоятельно.\n",
        "\n",
        "Дисклеймер: не стоит удивляться тому, что реализация от `gensim` (или аналоги) обучается быстрее и работает точнее. Она использует множество доработок и ускорений, а также достаточно эффективный код. Ваша задача добиться промежуточных результатов за разумное время.\n",
        "\n",
        "P.s. Как ни странно, GPU в этом задании нам не потребуется."
      ]
    },
    {
      "cell_type": "markdown",
      "metadata": {
        "id": "n9KkDVv4jNaI"
      },
      "source": [
        "__Requirements:__ if you're running locally, in the selected environment run the following command:\n",
        "\n",
        "```pip install --upgrade nltk bokeh umap-learn```\n"
      ]
    },
    {
      "cell_type": "code",
      "execution_count": 3,
      "metadata": {
        "id": "Oipe2DU8qfm7"
      },
      "outputs": [],
      "source": [
        "# !pip install --upgrade nltk bokeh umap-learn"
      ]
    },
    {
      "cell_type": "code",
      "execution_count": 4,
      "metadata": {
        "id": "pqPU4Lu2qU0h"
      },
      "outputs": [],
      "source": [
        "import itertools\n",
        "import random\n",
        "import string\n",
        "from collections import Counter\n",
        "from itertools import chain\n",
        "\n",
        "import matplotlib.pyplot as plt\n",
        "import numpy as np\n",
        "import torch\n",
        "import torch.autograd as autograd\n",
        "import torch.nn as nn\n",
        "import torch.nn.functional as F\n",
        "import torch.optim as optim\n",
        "import umap\n",
        "from IPython.display import clear_output\n",
        "from matplotlib import pyplot as plt\n",
        "from nltk.tokenize import WordPunctTokenizer\n",
        "from torch.optim.lr_scheduler import ReduceLROnPlateau, StepLR\n",
        "from tqdm.auto import tqdm as tqdma"
      ]
    },
    {
      "cell_type": "code",
      "execution_count": 13,
      "metadata": {
        "id": "8Fbx57z3qU0i"
      },
      "outputs": [],
      "source": [
        "# download the data:\n",
        "# !wget https://www.dropbox.com/s/obaitrix9jyu84r/quora.txt?dl=1 -O ./quora.txt -nc\n",
        "# alternative download link: https://yadi.sk/i/BPQrUu1NaTduEw"
      ]
    },
    {
      "cell_type": "code",
      "execution_count": 14,
      "metadata": {
        "colab": {
          "base_uri": "https://localhost:8080/",
          "height": 36
        },
        "id": "8EYy5dQpqU0i",
        "outputId": "b20e0635-8dfb-4d9b-dd67-e5068802e01f",
        "scrolled": false
      },
      "outputs": [
        {
          "output_type": "execute_result",
          "data": {
            "text/plain": [
              "\"What TV shows or books help you read people's body language?\\n\""
            ],
            "application/vnd.google.colaboratory.intrinsic+json": {
              "type": "string"
            }
          },
          "metadata": {},
          "execution_count": 14
        }
      ],
      "source": [
        "data = list(open(\"./quora.txt\", encoding=\"utf-8\"))\n",
        "data[50]"
      ]
    },
    {
      "cell_type": "markdown",
      "metadata": {
        "id": "feBEGI2eqU0j"
      },
      "source": [
        "Токенизация – первый шаг.\n",
        "Тексты, с которыми мы работаем, включают в себя пунктуацию, смайлики и прочие нестандартные токены, так что простой `str.split` не подойдет.\n",
        "\n",
        "Обратимся к `nltk` - библиотеку, нашла широкое применеие в области NLP."
      ]
    },
    {
      "cell_type": "code",
      "execution_count": 15,
      "metadata": {
        "colab": {
          "base_uri": "https://localhost:8080/"
        },
        "id": "7mWTvm50qU0j",
        "outputId": "71b7d25d-5660-40c3-de2c-b510c556afdb"
      },
      "outputs": [
        {
          "output_type": "stream",
          "name": "stdout",
          "text": [
            "['What', 'TV', 'shows', 'or', 'books', 'help', 'you', 'read', 'people', \"'\", 's', 'body', 'language', '?']\n"
          ]
        }
      ],
      "source": [
        "tokenizer = WordPunctTokenizer()\n",
        "print(tokenizer.tokenize(data[50]))"
      ]
    },
    {
      "cell_type": "code",
      "execution_count": 16,
      "metadata": {
        "id": "HzC05EHWqU0j"
      },
      "outputs": [],
      "source": [
        "data_tok = [\n",
        "    tokenizer.tokenize(\n",
        "        line.translate(str.maketrans(\"\", \"\", string.punctuation)).lower()\n",
        "    )\n",
        "    for line in data\n",
        "]\n",
        "data_tok = [x for x in data_tok if len(x) >= 3]"
      ]
    },
    {
      "cell_type": "markdown",
      "metadata": {
        "id": "6azRAgHIqU0k"
      },
      "source": [
        "Несколько проверок:"
      ]
    },
    {
      "cell_type": "code",
      "execution_count": 17,
      "metadata": {
        "id": "Cp8UpxdWqU0k"
      },
      "outputs": [],
      "source": [
        "assert all(\n",
        "    isinstance(row, (list, tuple)) for row in data_tok\n",
        "), \"please convert each line into a list of tokens (strings)\"\n",
        "assert all(\n",
        "    all(isinstance(tok, str) for tok in row) for row in data_tok\n",
        "), \"please convert each line into a list of tokens (strings)\"\n",
        "is_latin = lambda tok: all(\"a\" <= x.lower() <= \"z\" for x in tok)\n",
        "assert all(\n",
        "    map(lambda l: not is_latin(l) or l.islower(), map(\" \".join, data_tok))\n",
        "), \"please make sure to lowercase the data\""
      ]
    },
    {
      "cell_type": "markdown",
      "metadata": {
        "id": "37e7-MIhqU0x"
      },
      "source": [
        "Ниже заданы константы ширины окна контекста и проведена предобработка для построения skip-gram модели."
      ]
    },
    {
      "cell_type": "code",
      "execution_count": 18,
      "metadata": {
        "id": "fugc1IomqU0x"
      },
      "outputs": [],
      "source": [
        "min_count = 5\n",
        "window_radius = 5"
      ]
    },
    {
      "cell_type": "code",
      "execution_count": 19,
      "metadata": {
        "id": "iKFRGfpYjNaN"
      },
      "outputs": [],
      "source": [
        "vocabulary_with_counter = Counter(chain.from_iterable(data_tok))\n",
        "\n",
        "word_count_dict = dict()\n",
        "for word, counter in vocabulary_with_counter.items():\n",
        "    if counter >= min_count:\n",
        "        word_count_dict[word] = counter\n",
        "\n",
        "vocabulary = set(word_count_dict.keys())\n",
        "del vocabulary_with_counter"
      ]
    },
    {
      "cell_type": "code",
      "execution_count": 20,
      "metadata": {
        "id": "T6CKlOVajNaN"
      },
      "outputs": [],
      "source": [
        "word_to_index = {word: index for index, word in enumerate(vocabulary)}\n",
        "index_to_word = {index: word for word, index in word_to_index.items()}"
      ]
    },
    {
      "cell_type": "markdown",
      "metadata": {
        "id": "4Y8rlBfqqU0x"
      },
      "source": [
        "Пары `(слово, контекст)` на основе доступного датасета сгенерированы ниже."
      ]
    },
    {
      "cell_type": "code",
      "execution_count": 21,
      "metadata": {
        "id": "h2-aqyyaqU0x",
        "outputId": "6e1a8904-7c86-4de2-8326-256d49de4349",
        "colab": {
          "base_uri": "https://localhost:8080/"
        }
      },
      "outputs": [
        {
          "output_type": "stream",
          "name": "stdout",
          "text": [
            "Generated 40220313 pairs of target and context words.\n"
          ]
        }
      ],
      "source": [
        "context_pairs = []\n",
        "\n",
        "for text in data_tok:\n",
        "    for i, central_word in enumerate(text):\n",
        "        context_indices = range(\n",
        "            max(0, i - window_radius), min(i + window_radius, len(text))\n",
        "        )\n",
        "        for j in context_indices:\n",
        "            if j == i:\n",
        "                continue\n",
        "            context_word = text[j]\n",
        "            if central_word in vocabulary and context_word in vocabulary:\n",
        "                context_pairs.append(\n",
        "                    (word_to_index[central_word], word_to_index[context_word])\n",
        "                )\n",
        "\n",
        "print(f\"Generated {len(context_pairs)} pairs of target and context words.\")"
      ]
    },
    {
      "cell_type": "markdown",
      "metadata": {
        "id": "yldqEe0QjNaN"
      },
      "source": [
        "#### Подзадача №1: subsampling\n",
        "Для того, чтобы сгладить разницу в частоте встречаемсости слов, необходимо реализовать механизм subsampling'а.\n",
        "Для этого вам необходимо реализовать функцию ниже.\n",
        "\n",
        "Вероятность **исключить** слово из обучения (на фиксированном шаге) вычисляется как\n",
        "$$\n",
        "P_\\text{drop}(w_i)=1 - \\sqrt{\\frac{t}{f(w_i)}},\n",
        "$$\n",
        "где $f(w_i)$ – нормированная частота встречаемости слова, а $t$ – заданный порог (threshold)."
      ]
    },
    {
      "cell_type": "code",
      "execution_count": 22,
      "metadata": {
        "id": "XjBcAOhMjNaO"
      },
      "outputs": [],
      "source": [
        "def subsample_frequent_words(word_count_dict, threshold=1e-5):\n",
        "    \"\"\"\n",
        "    Calculates the subsampling probabilities for words based on their frequencies.\n",
        "\n",
        "    This function is used to determine the probability of keeping a word in the dataset\n",
        "    when subsampling frequent words. The method used is inspired by the subsampling approach\n",
        "    in Word2Vec, where each word's frequency affects its probability of being kept.\n",
        "\n",
        "    Parameters:\n",
        "    - word_count_dict (dict): A dictionary where keys are words and values are the counts of those words.\n",
        "    - threshold (float, optional): A threshold parameter used to adjust the frequency of word subsampling.\n",
        "                                   Defaults to 1e-5.\n",
        "\n",
        "    Returns:\n",
        "    - dict: A dictionary where keys are words and values are the probabilities of keeping each word.\n",
        "\n",
        "    Example:\n",
        "    >>> word_counts = {'the': 5000, 'is': 1000, 'apple': 50}\n",
        "    >>> subsample_frequent_words(word_counts)\n",
        "    {'the': 0.028, 'is': 0.223, 'apple': 1.0}\n",
        "    \"\"\"\n",
        "\n",
        "    sum_freq = sum([x[1] for x in word_count_dict.items()])\n",
        "    keep_prob_dict = {w[0]: (threshold * sum_freq/w[1])**0.5 for w in word_count_dict.items()}\n",
        "\n",
        "    return keep_prob_dict"
      ]
    },
    {
      "cell_type": "markdown",
      "metadata": {
        "id": "zgnLwZe3jNaO"
      },
      "source": [
        "#### Подзадача №2: negative sampling\n",
        "Для более эффективного обучения необходимо не только предсказывать высокие вероятности для слов из контекста, но и предсказывать низкие для слов, не встреченных в контексте. Для этого вам необходимо вычислить вероятност использовать слово в качестве negative sample, реализовав функцию ниже.\n",
        "\n",
        "В оригинальной статье предлагается оценивать вероятность слов выступать в качестве negative sample согласно распределению $P_n(w)$\n",
        "$$\n",
        "P_n(w) = \\frac{U(w)^{3/4}}{Z},\n",
        "$$\n",
        "\n",
        "где $U(w)$ распределение слов по частоте (или, как его еще называют, по униграммам), а $Z$ – нормировочная константа, чтобы общая мера была равна $1$."
      ]
    },
    {
      "cell_type": "code",
      "execution_count": 23,
      "metadata": {
        "id": "WFiGs_-HjNaO"
      },
      "outputs": [],
      "source": [
        "def get_negative_sampling_prob(word_count_dict):\n",
        "    \"\"\"\n",
        "    Calculates the negative sampling probabilities for words based on their frequencies.\n",
        "\n",
        "    This function adjusts the frequency of each word raised to the power of 0.75, which is\n",
        "    commonly used in algorithms like Word2Vec to moderate the influence of very frequent words.\n",
        "    It then normalizes these adjusted frequencies to ensure they sum to 1, forming a probability\n",
        "    distribution used for negative sampling.\n",
        "\n",
        "    Parameters:\n",
        "    - word_count_dict (dict): A dictionary where keys are words and values are the counts of those words.\n",
        "\n",
        "    Returns:\n",
        "    - dict: A dictionary where keys are words and values are the probabilities of selecting each word\n",
        "            for negative sampling.\n",
        "\n",
        "    Example:\n",
        "    >>> word_counts = {'the': 5000, 'is': 1000, 'apple': 50}\n",
        "    >>> get_negative_sampling_prob(word_counts)\n",
        "    {'the': 0.298, 'is': 0.160, 'apple': 0.042}\n",
        "    \"\"\"\n",
        "\n",
        "    ### YOUR CODE HERE\n",
        "    u = {w[0]: w[1]**0.75 for w in word_count_dict.items()}\n",
        "    z = sum([w[1] for w in u.items()])\n",
        "    negative_sampling_prob_dict = {w[0]:w[1]/z for w in u.items()}\n",
        "    return negative_sampling_prob_dict"
      ]
    },
    {
      "cell_type": "markdown",
      "metadata": {
        "id": "T2keiReHjNaO"
      },
      "source": [
        "Для удобства, преобразуем полученные словари в массивы (т.к. все слова все равно уже пронумерованы)."
      ]
    },
    {
      "cell_type": "code",
      "execution_count": 24,
      "metadata": {
        "id": "zgddz2bRjNaO"
      },
      "outputs": [],
      "source": [
        "keep_prob_dict = subsample_frequent_words(word_count_dict)\n",
        "assert keep_prob_dict.keys() == word_count_dict.keys()"
      ]
    },
    {
      "cell_type": "code",
      "execution_count": 25,
      "metadata": {
        "id": "Yb6gJmmJjNaO"
      },
      "outputs": [],
      "source": [
        "negative_sampling_prob_dict = get_negative_sampling_prob(word_count_dict)\n",
        "assert negative_sampling_prob_dict.keys() == negative_sampling_prob_dict.keys()\n",
        "assert np.allclose(sum(negative_sampling_prob_dict.values()), 1)"
      ]
    },
    {
      "cell_type": "code",
      "execution_count": 26,
      "metadata": {
        "id": "erOs49b9jNaO"
      },
      "outputs": [],
      "source": [
        "keep_prob_array = np.array(\n",
        "    [keep_prob_dict[index_to_word[idx]] for idx in range(len(word_to_index))]\n",
        ")\n",
        "negative_sampling_prob_array = np.array(\n",
        "    [\n",
        "        negative_sampling_prob_dict[index_to_word[idx]]\n",
        "        for idx in range(len(word_to_index))\n",
        "    ]\n",
        ")"
      ]
    },
    {
      "cell_type": "markdown",
      "metadata": {
        "id": "1wGkEBfEjNaO"
      },
      "source": [
        "Если все прошло успешно, функция ниже поможет вам с генерацией подвыборок (батчей)."
      ]
    },
    {
      "cell_type": "code",
      "execution_count": 27,
      "metadata": {
        "id": "kJhYMBURjNaO"
      },
      "outputs": [],
      "source": [
        "def generate_batch_with_neg_samples(\n",
        "    context_pairs,\n",
        "    batch_size,\n",
        "    keep_prob_array,\n",
        "    word_to_index,\n",
        "    num_negatives,\n",
        "    negative_sampling_prob_array,\n",
        "):\n",
        "    batch = []\n",
        "    neg_samples = []\n",
        "\n",
        "    while len(batch) < batch_size:\n",
        "        center, context = random.choice(context_pairs)\n",
        "        if random.random() < keep_prob_array[center]:\n",
        "            batch.append((center, context))\n",
        "            neg_sample = np.random.choice(\n",
        "                range(len(negative_sampling_prob_array)),\n",
        "                size=num_negatives,\n",
        "                p=negative_sampling_prob_array,\n",
        "            )\n",
        "            neg_samples.append(neg_sample)\n",
        "    batch = np.array(batch)\n",
        "    neg_samples = np.vstack(neg_samples)\n",
        "    return batch, neg_samples"
      ]
    },
    {
      "cell_type": "code",
      "execution_count": 28,
      "metadata": {
        "id": "_-bAjbyDjNaO"
      },
      "outputs": [],
      "source": [
        "batch_size = 4\n",
        "num_negatives = 15\n",
        "batch, neg_samples = generate_batch_with_neg_samples(\n",
        "    context_pairs,\n",
        "    batch_size,\n",
        "    keep_prob_array,\n",
        "    word_to_index,\n",
        "    num_negatives,\n",
        "    negative_sampling_prob_array,\n",
        ")"
      ]
    },
    {
      "cell_type": "markdown",
      "metadata": {
        "id": "nCZxDmTajNaP"
      },
      "source": [
        "Наконец, время реализовать модель. Обращаем ваше внимание, использование линейных слоев (`nn.Linear`) далеко не всегда оправданно!\n",
        "\n",
        "Напомним, что в случае negative sampling решается задача максимизации следующего функционала:\n",
        "\n",
        "$$\n",
        "\\mathcal{L} = \\log \\sigma({\\mathbf{v}'_{w_O}}^\\top \\mathbf{v}_{w_I}) + \\sum_{i=1}^{k} \\mathbb{E}_{w_i \\sim P_n(w)} \\left[ \\log \\sigma({-\\mathbf{v}'_{w_i}}^\\top \\mathbf{v}_{w_I}) \\right],\n",
        "$$\n",
        "\n",
        "где:\n",
        "- $\\mathbf{v}_{w_I}$ – вектор центрального слова $w_I$,\n",
        "- $\\mathbf{v}'_{w_O}$ – вектор слова из контекста $w_O$,\n",
        "- $k$ – число negative samplesЮ,\n",
        "- $P_n(w)$ – распределение negative samples, заданное выше,\n",
        "- $\\sigma$ – сигмоида."
      ]
    },
    {
      "cell_type": "code",
      "execution_count": null,
      "metadata": {
        "id": "o6T0-Q1AjNaP"
      },
      "outputs": [],
      "source": [
        "class SkipGramModelWithNegSampling(nn.Module):\n",
        "    def __init__(self, vocab_size, embedding_dim):\n",
        "        super().__init__()\n",
        "        self.center_embeddings = None  # YOUR CODE HERE\n",
        "        self.context_embeddings = None  # YOUR CODE HERE\n",
        "\n",
        "    def forward(self, center_words, pos_context_words, neg_context_words):\n",
        "        # YOUR CODE HERE\n",
        "        pos_scores = 0  # THIS IS A PLACEHOLDER\n",
        "        neg_scores = 0  # THIS IS A PLACEHOLDER\n",
        "\n",
        "        return pos_scores, neg_scores"
      ]
    },
    {
      "cell_type": "code",
      "source": [
        "import torch\n",
        "import torch.nn as nn\n",
        "import torch.nn.functional as F\n",
        "\n",
        "class SkipGramModelWithNegSampling(nn.Module):\n",
        "    def __init__(self, vocab_size, embedding_dim):\n",
        "        super().__init__()\n",
        "        self.center_embeddings = nn.Embedding(vocab_size, embedding_dim)\n",
        "        self.context_embeddings = nn.Embedding(vocab_size, embedding_dim)\n",
        "\n",
        "    def forward(self, center_words, pos_context_words, neg_context_words):\n",
        "        # Get embeddings for center words and context words\n",
        "        center_embeds = self.center_embeddings(center_words)  # (batch_size, embedding_dim)\n",
        "        pos_context_embeds = self.context_embeddings(pos_context_words)  # (batch_size, embedding_dim)\n",
        "        neg_context_embeds = self.context_embeddings(neg_context_words)  # (batch_size, num_neg_samples, embedding_dim)\n",
        "\n",
        "        # Compute positive scores as dot product of center and positive context embeddings\n",
        "        pos_scores = torch.sum(center_embeds * pos_context_embeds, dim=1)  # (batch_size)\n",
        "\n",
        "        # Compute negative scores as dot product of center and negative context embeddings\n",
        "        neg_scores = torch.bmm(neg_context_embeds, center_embeds.unsqueeze(2)).squeeze()  # (batch_size, num_neg_samples)\n",
        "\n",
        "        return pos_scores, neg_scores\n"
      ],
      "metadata": {
        "id": "vb5dMxJMC31z"
      },
      "execution_count": 30,
      "outputs": []
    },
    {
      "cell_type": "code",
      "execution_count": 31,
      "metadata": {
        "id": "NaFoGFIGjNaP"
      },
      "outputs": [],
      "source": [
        "device = torch.device(\"cpu\")"
      ]
    },
    {
      "cell_type": "code",
      "execution_count": 54,
      "metadata": {
        "id": "6giH0UxJjNaP"
      },
      "outputs": [],
      "source": [
        "vocab_size = len(word_to_index)\n",
        "embedding_dim = 32\n",
        "num_negatives = 15\n",
        "\n",
        "model = SkipGramModelWithNegSampling(vocab_size, embedding_dim).to(device)\n",
        "optimizer = optim.Adam(model.parameters(), lr=0.1)\n",
        "lr_scheduler = ReduceLROnPlateau(optimizer, factor=0.5, patience=150)\n",
        "criterion = nn.BCEWithLogitsLoss()"
      ]
    },
    {
      "cell_type": "code",
      "execution_count": 55,
      "metadata": {
        "id": "8SjHyqmqjNaP"
      },
      "outputs": [],
      "source": [
        "params_counter = 0\n",
        "for weights in model.parameters():\n",
        "    params_counter += weights.shape.numel()\n",
        "assert params_counter == len(word_to_index) * embedding_dim * 2"
      ]
    },
    {
      "cell_type": "code",
      "execution_count": 56,
      "metadata": {
        "id": "Iiu83J2UjNaP"
      },
      "outputs": [],
      "source": [
        "def train_skipgram_with_neg_sampling(\n",
        "    model,\n",
        "    context_pairs,\n",
        "    keep_prob_array,\n",
        "    word_to_index,\n",
        "    batch_size,\n",
        "    num_negatives,\n",
        "    negative_sampling_prob_array,\n",
        "    steps,\n",
        "    optimizer=optimizer,\n",
        "    lr_scheduler=lr_scheduler,\n",
        "    device=device,\n",
        "):\n",
        "    pos_labels = torch.ones(batch_size).to(device)\n",
        "    neg_labels = torch.zeros(batch_size, num_negatives).to(device)\n",
        "    loss_history = []\n",
        "    for step in tqdma(range(steps)):\n",
        "        batch, neg_samples = generate_batch_with_neg_samples(\n",
        "            context_pairs,\n",
        "            batch_size,\n",
        "            keep_prob_array,\n",
        "            word_to_index,\n",
        "            num_negatives,\n",
        "            negative_sampling_prob_array,\n",
        "        )\n",
        "        center_words = torch.tensor([pair[0] for pair in batch], dtype=torch.long).to(\n",
        "            device\n",
        "        )\n",
        "        pos_context_words = torch.tensor(\n",
        "            [pair[1] for pair in batch], dtype=torch.long\n",
        "        ).to(device)\n",
        "        neg_context_words = torch.tensor(neg_samples, dtype=torch.long).to(device)\n",
        "\n",
        "        optimizer.zero_grad()\n",
        "        pos_scores, neg_scores = model(\n",
        "            center_words, pos_context_words, neg_context_words\n",
        "        )\n",
        "\n",
        "        loss_pos = criterion(pos_scores, pos_labels)\n",
        "        loss_neg = criterion(neg_scores, neg_labels)\n",
        "\n",
        "        loss = loss_pos + loss_neg\n",
        "        loss.backward()\n",
        "        optimizer.step()\n",
        "\n",
        "        loss_history.append(loss.item())\n",
        "        lr_scheduler.step(loss_history[-1])\n",
        "\n",
        "        if step % 100 == 0:\n",
        "            print(\n",
        "                f\"Step {step}, Loss: {np.mean(loss_history[-100:])}, learning rate: {lr_scheduler._last_lr}\"\n",
        "            )"
      ]
    },
    {
      "cell_type": "code",
      "execution_count": 35,
      "metadata": {
        "id": "GXDj78DzjNaP",
        "outputId": "b568659b-2c8d-4ba0-8b9d-8bf56cdda88f",
        "colab": {
          "base_uri": "https://localhost:8080/",
          "height": 483,
          "referenced_widgets": [
            "2248b404cddb454e919e6783371245ec",
            "bb65c9f8266b4d44b07cdc9dc27ac4ff",
            "28dc62e1188a4d38ae0164af082d2c21",
            "226e0104bb19412786e98a0f0ddb2b39",
            "d9e2eacf2e9e4d95976ec8d6d3bf22d5",
            "b4daec31c3b24a97bc5c2f0680b0e402",
            "ca544ef0f5014c9ba8e6c07243fb309c",
            "992bfd6d3ff548b0bd065b938e42f5f2",
            "ee1af7ce33924a6f8054464a723aa884",
            "c83c4a25eda94e528ad73d3ab18b952e",
            "d29bdf91f85e46799de72ffb6f8219b1"
          ]
        }
      },
      "outputs": [
        {
          "data": {
            "application/vnd.jupyter.widget-view+json": {
              "model_id": "2248b404cddb454e919e6783371245ec",
              "version_major": 2,
              "version_minor": 0
            },
            "text/plain": [
              "  0%|          | 0/2500 [00:00<?, ?it/s]"
            ]
          },
          "metadata": {},
          "output_type": "display_data"
        },
        {
          "metadata": {
            "tags": null
          },
          "name": "stdout",
          "output_type": "stream",
          "text": [
            "Step 0, Loss: 4.491418838500977, learning rate: [0.05]\n",
            "Step 100, Loss: 3.465229616165161, learning rate: [0.05]\n",
            "Step 200, Loss: 2.565423891544342, learning rate: [0.05]\n",
            "Step 300, Loss: 2.26579713344574, learning rate: [0.05]\n",
            "Step 400, Loss: 2.126527251005173, learning rate: [0.05]\n",
            "Step 500, Loss: 2.05250665307045, learning rate: [0.05]\n",
            "Step 600, Loss: 2.033232284784317, learning rate: [0.05]\n",
            "Step 700, Loss: 2.080492078065872, learning rate: [0.05]\n",
            "Step 800, Loss: 2.0261582779884337, learning rate: [0.025]\n",
            "Step 900, Loss: 1.9414719784259795, learning rate: [0.025]\n",
            "Step 1000, Loss: 1.8647565865516662, learning rate: [0.025]\n",
            "Step 1100, Loss: 1.8181913661956788, learning rate: [0.025]\n",
            "Step 1200, Loss: 1.7919499611854552, learning rate: [0.025]\n",
            "Step 1300, Loss: 1.7678717732429505, learning rate: [0.025]\n",
            "Step 1400, Loss: 1.7383869659900666, learning rate: [0.025]\n",
            "Step 1500, Loss: 1.718613431453705, learning rate: [0.025]\n",
            "Step 1600, Loss: 1.6916660130023957, learning rate: [0.0125]\n",
            "Step 1700, Loss: 1.6454167342185975, learning rate: [0.0125]\n",
            "Step 1800, Loss: 1.6146878576278687, learning rate: [0.0125]\n",
            "Step 1900, Loss: 1.5965052461624145, learning rate: [0.0125]\n",
            "Step 2000, Loss: 1.574761952161789, learning rate: [0.00625]\n",
            "Step 2100, Loss: 1.5544428074359893, learning rate: [0.00625]\n",
            "Step 2200, Loss: 1.5399191975593567, learning rate: [0.00625]\n",
            "Step 2300, Loss: 1.5248528623580933, learning rate: [0.00625]\n",
            "Step 2400, Loss: 1.514851882457733, learning rate: [0.00625]\n"
          ]
        }
      ],
      "source": [
        "steps = 2500\n",
        "batch_size = 512\n",
        "train_skipgram_with_neg_sampling(\n",
        "    model,\n",
        "    context_pairs,\n",
        "    keep_prob_array,\n",
        "    word_to_index,\n",
        "    batch_size,\n",
        "    num_negatives,\n",
        "    negative_sampling_prob_array,\n",
        "    steps,\n",
        ")"
      ]
    },
    {
      "cell_type": "markdown",
      "metadata": {
        "id": "IBAblAKWjNaQ"
      },
      "source": [
        "Наконец, используйте полученную матрицу весов в качестве матрицы в векторными представлениями слов. Рекомендуем использовать для сдачи матрицу, которая отвечала за слова из контекста (т.е. декодера)."
      ]
    },
    {
      "cell_type": "code",
      "execution_count": 36,
      "metadata": {
        "id": "pI29JMe5jNaQ"
      },
      "outputs": [],
      "source": [
        "_model_parameters = model.parameters()\n",
        "embedding_matrix_center = next(\n",
        "    _model_parameters\n",
        ").detach()  # Assuming that first matrix was for central word\n",
        "embedding_matrix_context = next(\n",
        "    _model_parameters\n",
        ").detach()  # Assuming that second matrix was for context word"
      ]
    },
    {
      "cell_type": "code",
      "execution_count": 37,
      "metadata": {
        "id": "zeBTL-t3jNaQ"
      },
      "outputs": [],
      "source": [
        "def get_word_vector(word, embedding_matrix, word_to_index=word_to_index):\n",
        "    return embedding_matrix[word_to_index[word]]"
      ]
    },
    {
      "cell_type": "markdown",
      "metadata": {
        "id": "AdBVaXJmjNaQ"
      },
      "source": [
        "Простые проверки:"
      ]
    },
    {
      "cell_type": "code",
      "execution_count": 41,
      "metadata": {
        "id": "d945FgSKjNaU"
      },
      "outputs": [],
      "source": [
        "similarity_1 = F.cosine_similarity(\n",
        "    get_word_vector(\"iphone\", embedding_matrix_context)[None, :],\n",
        "    get_word_vector(\"apple\", embedding_matrix_context)[None, :],\n",
        ")\n",
        "similarity_2 = F.cosine_similarity(\n",
        "    get_word_vector(\"iphone\", embedding_matrix_context)[None, :],\n",
        "    get_word_vector(\"dell\", embedding_matrix_context)[None, :],\n",
        ")\n",
        "assert similarity_1 > similarity_2"
      ]
    },
    {
      "cell_type": "code",
      "execution_count": 42,
      "metadata": {
        "id": "XnNu_kqGjNaU"
      },
      "outputs": [],
      "source": [
        "similarity_1 = F.cosine_similarity(\n",
        "    get_word_vector(\"windows\", embedding_matrix_context)[None, :],\n",
        "    get_word_vector(\"laptop\", embedding_matrix_context)[None, :],\n",
        ")\n",
        "similarity_2 = F.cosine_similarity(\n",
        "    get_word_vector(\"windows\", embedding_matrix_context)[None, :],\n",
        "    get_word_vector(\"macbook\", embedding_matrix_context)[None, :],\n",
        ")\n",
        "assert similarity_1 > similarity_2"
      ]
    },
    {
      "cell_type": "markdown",
      "metadata": {
        "id": "XmU3npARjNaU"
      },
      "source": [
        "Наконец, взглянем на ближайшие по косинусной мере слова. Функция реализована ниже."
      ]
    },
    {
      "cell_type": "code",
      "execution_count": 43,
      "metadata": {
        "id": "dA0V6rOYtsLk"
      },
      "outputs": [],
      "source": [
        "def find_nearest(word, embedding_matrix, word_to_index=word_to_index, k=10):\n",
        "    word_vector = get_word_vector(word, embedding_matrix)[None, :]\n",
        "    dists = F.cosine_similarity(embedding_matrix, word_vector)\n",
        "    index_sorted = torch.argsort(dists)\n",
        "    top_k = index_sorted[-k:]\n",
        "    return [(index_to_word[x], dists[x].item()) for x in top_k.numpy()]"
      ]
    },
    {
      "cell_type": "code",
      "execution_count": 44,
      "metadata": {
        "id": "2G1azuvAjNaU",
        "outputId": "d3ef2e66-8989-45d7-888b-e44f2e3b7799",
        "colab": {
          "base_uri": "https://localhost:8080/"
        }
      },
      "outputs": [
        {
          "output_type": "execute_result",
          "data": {
            "text/plain": [
              "[('spring', 0.6319717168807983),\n",
              " ('mockup', 0.6321256160736084),\n",
              " ('preprocessor', 0.6454452872276306),\n",
              " ('penny', 0.6469635367393494),\n",
              " ('deferred', 0.6474225521087646),\n",
              " ('developer', 0.6567201018333435),\n",
              " ('hypnotherapy', 0.6624190807342529),\n",
              " ('millionaires', 0.6875856518745422),\n",
              " ('50k', 0.6982982158660889),\n",
              " ('python', 1.0000001192092896)]"
            ]
          },
          "metadata": {},
          "execution_count": 44
        }
      ],
      "source": [
        "find_nearest(\"python\", embedding_matrix_context, k=10)"
      ]
    },
    {
      "cell_type": "markdown",
      "metadata": {
        "id": "5WfMKYdKjNaU"
      },
      "source": [
        "Также вы можете визуально проверить, как представлены в латентном пространстве часто встречающиеся слова."
      ]
    },
    {
      "cell_type": "code",
      "execution_count": 45,
      "metadata": {
        "id": "KI3mOcxVjNaU"
      },
      "outputs": [],
      "source": [
        "top_k = 5000\n",
        "_top_words = sorted([x for x in word_count_dict.items()], key=lambda x: x[1])[\n",
        "    -top_k - 100 : -100\n",
        "]  # ignoring 100 most frequent words\n",
        "top_words = [x[0] for x in _top_words]\n",
        "del _top_words"
      ]
    },
    {
      "cell_type": "code",
      "execution_count": 46,
      "metadata": {
        "id": "CyrBRmd2jNaV"
      },
      "outputs": [],
      "source": [
        "word_embeddings = torch.cat(\n",
        "    [embedding_matrix_context[word_to_index[x]][None, :] for x in top_words], dim=0\n",
        ").numpy()"
      ]
    },
    {
      "cell_type": "code",
      "execution_count": 47,
      "metadata": {
        "id": "ePUAw8tyjNaV"
      },
      "outputs": [],
      "source": [
        "import bokeh.models as bm\n",
        "import bokeh.plotting as pl\n",
        "from bokeh.io import output_notebook\n",
        "\n",
        "output_notebook()\n",
        "\n",
        "\n",
        "def draw_vectors(\n",
        "    x,\n",
        "    y,\n",
        "    radius=10,\n",
        "    alpha=0.25,\n",
        "    color=\"blue\",\n",
        "    width=600,\n",
        "    height=400,\n",
        "    show=True,\n",
        "    **kwargs,\n",
        "):\n",
        "    \"\"\"draws an interactive plot for data points with auxilirary info on hover\"\"\"\n",
        "    if isinstance(color, str):\n",
        "        color = [color] * len(x)\n",
        "    data_source = bm.ColumnDataSource({\"x\": x, \"y\": y, \"color\": color, **kwargs})\n",
        "\n",
        "    fig = pl.figure(active_scroll=\"wheel_zoom\", width=width, height=height)\n",
        "    fig.scatter(\"x\", \"y\", size=radius, color=\"color\", alpha=alpha, source=data_source)\n",
        "\n",
        "    fig.add_tools(bm.HoverTool(tooltips=[(key, \"@\" + key) for key in kwargs.keys()]))\n",
        "    if show:\n",
        "        pl.show(fig)\n",
        "    return fig"
      ]
    },
    {
      "cell_type": "code",
      "execution_count": 48,
      "metadata": {
        "id": "DK3lST9AjNaV"
      },
      "outputs": [],
      "source": [
        "embedding = umap.UMAP(n_neighbors=5).fit_transform(word_embeddings)"
      ]
    },
    {
      "cell_type": "code",
      "execution_count": 52,
      "metadata": {
        "id": "9r0dPwspjNaV",
        "outputId": "0826d6ce-83c7-4257-9794-5745c294d306",
        "colab": {
          "base_uri": "https://localhost:8080/",
          "height": 434
        }
      },
      "outputs": [
        {
          "output_type": "display_data",
          "data": {
            "application/javascript": [
              "'use strict';\n",
              "(function(root) {\n",
              "  function now() {\n",
              "    return new Date();\n",
              "  }\n",
              "\n",
              "  const force = true;\n",
              "\n",
              "  if (typeof root._bokeh_onload_callbacks === \"undefined\" || force === true) {\n",
              "    root._bokeh_onload_callbacks = [];\n",
              "    root._bokeh_is_loading = undefined;\n",
              "  }\n",
              "\n",
              "const JS_MIME_TYPE = 'application/javascript';\n",
              "  const HTML_MIME_TYPE = 'text/html';\n",
              "  const EXEC_MIME_TYPE = 'application/vnd.bokehjs_exec.v0+json';\n",
              "  const CLASS_NAME = 'output_bokeh rendered_html';\n",
              "\n",
              "  /**\n",
              "   * Render data to the DOM node\n",
              "   */\n",
              "  function render(props, node) {\n",
              "    const script = document.createElement(\"script\");\n",
              "    node.appendChild(script);\n",
              "  }\n",
              "\n",
              "  /**\n",
              "   * Handle when an output is cleared or removed\n",
              "   */\n",
              "  function handleClearOutput(event, handle) {\n",
              "    function drop(id) {\n",
              "      const view = Bokeh.index.get_by_id(id)\n",
              "      if (view != null) {\n",
              "        view.model.document.clear()\n",
              "        Bokeh.index.delete(view)\n",
              "      }\n",
              "    }\n",
              "\n",
              "    const cell = handle.cell;\n",
              "\n",
              "    const id = cell.output_area._bokeh_element_id;\n",
              "    const server_id = cell.output_area._bokeh_server_id;\n",
              "\n",
              "    // Clean up Bokeh references\n",
              "    if (id != null) {\n",
              "      drop(id)\n",
              "    }\n",
              "\n",
              "    if (server_id !== undefined) {\n",
              "      // Clean up Bokeh references\n",
              "      const cmd_clean = \"from bokeh.io.state import curstate; print(curstate().uuid_to_server['\" + server_id + \"'].get_sessions()[0].document.roots[0]._id)\";\n",
              "      cell.notebook.kernel.execute(cmd_clean, {\n",
              "        iopub: {\n",
              "          output: function(msg) {\n",
              "            const id = msg.content.text.trim()\n",
              "            drop(id)\n",
              "          }\n",
              "        }\n",
              "      });\n",
              "      // Destroy server and session\n",
              "      const cmd_destroy = \"import bokeh.io.notebook as ion; ion.destroy_server('\" + server_id + \"')\";\n",
              "      cell.notebook.kernel.execute(cmd_destroy);\n",
              "    }\n",
              "  }\n",
              "\n",
              "  /**\n",
              "   * Handle when a new output is added\n",
              "   */\n",
              "  function handleAddOutput(event, handle) {\n",
              "    const output_area = handle.output_area;\n",
              "    const output = handle.output;\n",
              "\n",
              "    // limit handleAddOutput to display_data with EXEC_MIME_TYPE content only\n",
              "    if ((output.output_type != \"display_data\") || (!Object.prototype.hasOwnProperty.call(output.data, EXEC_MIME_TYPE))) {\n",
              "      return\n",
              "    }\n",
              "\n",
              "    const toinsert = output_area.element.find(\".\" + CLASS_NAME.split(' ')[0]);\n",
              "\n",
              "    if (output.metadata[EXEC_MIME_TYPE][\"id\"] !== undefined) {\n",
              "      toinsert[toinsert.length - 1].firstChild.textContent = output.data[JS_MIME_TYPE];\n",
              "      // store reference to embed id on output_area\n",
              "      output_area._bokeh_element_id = output.metadata[EXEC_MIME_TYPE][\"id\"];\n",
              "    }\n",
              "    if (output.metadata[EXEC_MIME_TYPE][\"server_id\"] !== undefined) {\n",
              "      const bk_div = document.createElement(\"div\");\n",
              "      bk_div.innerHTML = output.data[HTML_MIME_TYPE];\n",
              "      const script_attrs = bk_div.children[0].attributes;\n",
              "      for (let i = 0; i < script_attrs.length; i++) {\n",
              "        toinsert[toinsert.length - 1].firstChild.setAttribute(script_attrs[i].name, script_attrs[i].value);\n",
              "        toinsert[toinsert.length - 1].firstChild.textContent = bk_div.children[0].textContent\n",
              "      }\n",
              "      // store reference to server id on output_area\n",
              "      output_area._bokeh_server_id = output.metadata[EXEC_MIME_TYPE][\"server_id\"];\n",
              "    }\n",
              "  }\n",
              "\n",
              "  function register_renderer(events, OutputArea) {\n",
              "\n",
              "    function append_mime(data, metadata, element) {\n",
              "      // create a DOM node to render to\n",
              "      const toinsert = this.create_output_subarea(\n",
              "        metadata,\n",
              "        CLASS_NAME,\n",
              "        EXEC_MIME_TYPE\n",
              "      );\n",
              "      this.keyboard_manager.register_events(toinsert);\n",
              "      // Render to node\n",
              "      const props = {data: data, metadata: metadata[EXEC_MIME_TYPE]};\n",
              "      render(props, toinsert[toinsert.length - 1]);\n",
              "      element.append(toinsert);\n",
              "      return toinsert\n",
              "    }\n",
              "\n",
              "    /* Handle when an output is cleared or removed */\n",
              "    events.on('clear_output.CodeCell', handleClearOutput);\n",
              "    events.on('delete.Cell', handleClearOutput);\n",
              "\n",
              "    /* Handle when a new output is added */\n",
              "    events.on('output_added.OutputArea', handleAddOutput);\n",
              "\n",
              "    /**\n",
              "     * Register the mime type and append_mime function with output_area\n",
              "     */\n",
              "    OutputArea.prototype.register_mime_type(EXEC_MIME_TYPE, append_mime, {\n",
              "      /* Is output safe? */\n",
              "      safe: true,\n",
              "      /* Index of renderer in `output_area.display_order` */\n",
              "      index: 0\n",
              "    });\n",
              "  }\n",
              "\n",
              "  // register the mime type if in Jupyter Notebook environment and previously unregistered\n",
              "  if (root.Jupyter !== undefined) {\n",
              "    const events = require('base/js/events');\n",
              "    const OutputArea = require('notebook/js/outputarea').OutputArea;\n",
              "\n",
              "    if (OutputArea.prototype.mime_types().indexOf(EXEC_MIME_TYPE) == -1) {\n",
              "      register_renderer(events, OutputArea);\n",
              "    }\n",
              "  }\n",
              "  if (typeof (root._bokeh_timeout) === \"undefined\" || force === true) {\n",
              "    root._bokeh_timeout = Date.now() + 5000;\n",
              "    root._bokeh_failed_load = false;\n",
              "  }\n",
              "\n",
              "  const NB_LOAD_WARNING = {'data': {'text/html':\n",
              "     \"<div style='background-color: #fdd'>\\n\"+\n",
              "     \"<p>\\n\"+\n",
              "     \"BokehJS does not appear to have successfully loaded. If loading BokehJS from CDN, this \\n\"+\n",
              "     \"may be due to a slow or bad network connection. Possible fixes:\\n\"+\n",
              "     \"</p>\\n\"+\n",
              "     \"<ul>\\n\"+\n",
              "     \"<li>re-rerun `output_notebook()` to attempt to load from CDN again, or</li>\\n\"+\n",
              "     \"<li>use INLINE resources instead, as so:</li>\\n\"+\n",
              "     \"</ul>\\n\"+\n",
              "     \"<code>\\n\"+\n",
              "     \"from bokeh.resources import INLINE\\n\"+\n",
              "     \"output_notebook(resources=INLINE)\\n\"+\n",
              "     \"</code>\\n\"+\n",
              "     \"</div>\"}};\n",
              "\n",
              "  function display_loaded(error = null) {\n",
              "    const el = document.getElementById(null);\n",
              "    if (el != null) {\n",
              "      const html = (() => {\n",
              "        if (typeof root.Bokeh === \"undefined\") {\n",
              "          if (error == null) {\n",
              "            return \"BokehJS is loading ...\";\n",
              "          } else {\n",
              "            return \"BokehJS failed to load.\";\n",
              "          }\n",
              "        } else {\n",
              "          const prefix = `BokehJS ${root.Bokeh.version}`;\n",
              "          if (error == null) {\n",
              "            return `${prefix} successfully loaded.`;\n",
              "          } else {\n",
              "            return `${prefix} <b>encountered errors</b> while loading and may not function as expected.`;\n",
              "          }\n",
              "        }\n",
              "      })();\n",
              "      el.innerHTML = html;\n",
              "\n",
              "      if (error != null) {\n",
              "        const wrapper = document.createElement(\"div\");\n",
              "        wrapper.style.overflow = \"auto\";\n",
              "        wrapper.style.height = \"5em\";\n",
              "        wrapper.style.resize = \"vertical\";\n",
              "        const content = document.createElement(\"div\");\n",
              "        content.style.fontFamily = \"monospace\";\n",
              "        content.style.whiteSpace = \"pre-wrap\";\n",
              "        content.style.backgroundColor = \"rgb(255, 221, 221)\";\n",
              "        content.textContent = error.stack ?? error.toString();\n",
              "        wrapper.append(content);\n",
              "        el.append(wrapper);\n",
              "      }\n",
              "    } else if (Date.now() < root._bokeh_timeout) {\n",
              "      setTimeout(() => display_loaded(error), 100);\n",
              "    }\n",
              "  }\n",
              "\n",
              "  function run_callbacks() {\n",
              "    try {\n",
              "      root._bokeh_onload_callbacks.forEach(function(callback) {\n",
              "        if (callback != null)\n",
              "          callback();\n",
              "      });\n",
              "    } finally {\n",
              "      delete root._bokeh_onload_callbacks\n",
              "    }\n",
              "    console.debug(\"Bokeh: all callbacks have finished\");\n",
              "  }\n",
              "\n",
              "  function load_libs(css_urls, js_urls, callback) {\n",
              "    if (css_urls == null) css_urls = [];\n",
              "    if (js_urls == null) js_urls = [];\n",
              "\n",
              "    root._bokeh_onload_callbacks.push(callback);\n",
              "    if (root._bokeh_is_loading > 0) {\n",
              "      console.debug(\"Bokeh: BokehJS is being loaded, scheduling callback at\", now());\n",
              "      return null;\n",
              "    }\n",
              "    if (js_urls == null || js_urls.length === 0) {\n",
              "      run_callbacks();\n",
              "      return null;\n",
              "    }\n",
              "    console.debug(\"Bokeh: BokehJS not loaded, scheduling load and callback at\", now());\n",
              "    root._bokeh_is_loading = css_urls.length + js_urls.length;\n",
              "\n",
              "    function on_load() {\n",
              "      root._bokeh_is_loading--;\n",
              "      if (root._bokeh_is_loading === 0) {\n",
              "        console.debug(\"Bokeh: all BokehJS libraries/stylesheets loaded\");\n",
              "        run_callbacks()\n",
              "      }\n",
              "    }\n",
              "\n",
              "    function on_error(url) {\n",
              "      console.error(\"failed to load \" + url);\n",
              "    }\n",
              "\n",
              "    for (let i = 0; i < css_urls.length; i++) {\n",
              "      const url = css_urls[i];\n",
              "      const element = document.createElement(\"link\");\n",
              "      element.onload = on_load;\n",
              "      element.onerror = on_error.bind(null, url);\n",
              "      element.rel = \"stylesheet\";\n",
              "      element.type = \"text/css\";\n",
              "      element.href = url;\n",
              "      console.debug(\"Bokeh: injecting link tag for BokehJS stylesheet: \", url);\n",
              "      document.body.appendChild(element);\n",
              "    }\n",
              "\n",
              "    for (let i = 0; i < js_urls.length; i++) {\n",
              "      const url = js_urls[i];\n",
              "      const element = document.createElement('script');\n",
              "      element.onload = on_load;\n",
              "      element.onerror = on_error.bind(null, url);\n",
              "      element.async = false;\n",
              "      element.src = url;\n",
              "      console.debug(\"Bokeh: injecting script tag for BokehJS library: \", url);\n",
              "      document.head.appendChild(element);\n",
              "    }\n",
              "  };\n",
              "\n",
              "  function inject_raw_css(css) {\n",
              "    const element = document.createElement(\"style\");\n",
              "    element.appendChild(document.createTextNode(css));\n",
              "    document.body.appendChild(element);\n",
              "  }\n",
              "\n",
              "  const js_urls = [\"https://cdn.bokeh.org/bokeh/release/bokeh-3.6.0.min.js\", \"https://cdn.bokeh.org/bokeh/release/bokeh-gl-3.6.0.min.js\", \"https://cdn.bokeh.org/bokeh/release/bokeh-widgets-3.6.0.min.js\", \"https://cdn.bokeh.org/bokeh/release/bokeh-tables-3.6.0.min.js\", \"https://cdn.bokeh.org/bokeh/release/bokeh-mathjax-3.6.0.min.js\"];\n",
              "  const css_urls = [];\n",
              "\n",
              "  const inline_js = [    function(Bokeh) {\n",
              "      Bokeh.set_log_level(\"info\");\n",
              "    },\n",
              "function(Bokeh) {\n",
              "    }\n",
              "  ];\n",
              "\n",
              "  function run_inline_js() {\n",
              "    if (root.Bokeh !== undefined || force === true) {\n",
              "      try {\n",
              "            for (let i = 0; i < inline_js.length; i++) {\n",
              "      inline_js[i].call(root, root.Bokeh);\n",
              "    }\n",
              "\n",
              "      } catch (error) {throw error;\n",
              "      }} else if (Date.now() < root._bokeh_timeout) {\n",
              "      setTimeout(run_inline_js, 100);\n",
              "    } else if (!root._bokeh_failed_load) {\n",
              "      console.log(\"Bokeh: BokehJS failed to load within specified timeout.\");\n",
              "      root._bokeh_failed_load = true;\n",
              "    } else if (force !== true) {\n",
              "      const cell = $(document.getElementById(null)).parents('.cell').data().cell;\n",
              "      cell.output_area.append_execute_result(NB_LOAD_WARNING)\n",
              "    }\n",
              "  }\n",
              "\n",
              "  if (root._bokeh_is_loading === 0) {\n",
              "    console.debug(\"Bokeh: BokehJS loaded, going straight to plotting\");\n",
              "    run_inline_js();\n",
              "  } else {\n",
              "    load_libs(css_urls, js_urls, function() {\n",
              "      console.debug(\"Bokeh: BokehJS plotting callback run at\", now());\n",
              "      run_inline_js();\n",
              "    });\n",
              "  }\n",
              "}(window));"
            ],
            "application/vnd.bokehjs_load.v0+json": "'use strict';\n(function(root) {\n  function now() {\n    return new Date();\n  }\n\n  const force = true;\n\n  if (typeof root._bokeh_onload_callbacks === \"undefined\" || force === true) {\n    root._bokeh_onload_callbacks = [];\n    root._bokeh_is_loading = undefined;\n  }\n\n\n  if (typeof (root._bokeh_timeout) === \"undefined\" || force === true) {\n    root._bokeh_timeout = Date.now() + 5000;\n    root._bokeh_failed_load = false;\n  }\n\n  const NB_LOAD_WARNING = {'data': {'text/html':\n     \"<div style='background-color: #fdd'>\\n\"+\n     \"<p>\\n\"+\n     \"BokehJS does not appear to have successfully loaded. If loading BokehJS from CDN, this \\n\"+\n     \"may be due to a slow or bad network connection. Possible fixes:\\n\"+\n     \"</p>\\n\"+\n     \"<ul>\\n\"+\n     \"<li>re-rerun `output_notebook()` to attempt to load from CDN again, or</li>\\n\"+\n     \"<li>use INLINE resources instead, as so:</li>\\n\"+\n     \"</ul>\\n\"+\n     \"<code>\\n\"+\n     \"from bokeh.resources import INLINE\\n\"+\n     \"output_notebook(resources=INLINE)\\n\"+\n     \"</code>\\n\"+\n     \"</div>\"}};\n\n  function display_loaded(error = null) {\n    const el = document.getElementById(null);\n    if (el != null) {\n      const html = (() => {\n        if (typeof root.Bokeh === \"undefined\") {\n          if (error == null) {\n            return \"BokehJS is loading ...\";\n          } else {\n            return \"BokehJS failed to load.\";\n          }\n        } else {\n          const prefix = `BokehJS ${root.Bokeh.version}`;\n          if (error == null) {\n            return `${prefix} successfully loaded.`;\n          } else {\n            return `${prefix} <b>encountered errors</b> while loading and may not function as expected.`;\n          }\n        }\n      })();\n      el.innerHTML = html;\n\n      if (error != null) {\n        const wrapper = document.createElement(\"div\");\n        wrapper.style.overflow = \"auto\";\n        wrapper.style.height = \"5em\";\n        wrapper.style.resize = \"vertical\";\n        const content = document.createElement(\"div\");\n        content.style.fontFamily = \"monospace\";\n        content.style.whiteSpace = \"pre-wrap\";\n        content.style.backgroundColor = \"rgb(255, 221, 221)\";\n        content.textContent = error.stack ?? error.toString();\n        wrapper.append(content);\n        el.append(wrapper);\n      }\n    } else if (Date.now() < root._bokeh_timeout) {\n      setTimeout(() => display_loaded(error), 100);\n    }\n  }\n\n  function run_callbacks() {\n    try {\n      root._bokeh_onload_callbacks.forEach(function(callback) {\n        if (callback != null)\n          callback();\n      });\n    } finally {\n      delete root._bokeh_onload_callbacks\n    }\n    console.debug(\"Bokeh: all callbacks have finished\");\n  }\n\n  function load_libs(css_urls, js_urls, callback) {\n    if (css_urls == null) css_urls = [];\n    if (js_urls == null) js_urls = [];\n\n    root._bokeh_onload_callbacks.push(callback);\n    if (root._bokeh_is_loading > 0) {\n      console.debug(\"Bokeh: BokehJS is being loaded, scheduling callback at\", now());\n      return null;\n    }\n    if (js_urls == null || js_urls.length === 0) {\n      run_callbacks();\n      return null;\n    }\n    console.debug(\"Bokeh: BokehJS not loaded, scheduling load and callback at\", now());\n    root._bokeh_is_loading = css_urls.length + js_urls.length;\n\n    function on_load() {\n      root._bokeh_is_loading--;\n      if (root._bokeh_is_loading === 0) {\n        console.debug(\"Bokeh: all BokehJS libraries/stylesheets loaded\");\n        run_callbacks()\n      }\n    }\n\n    function on_error(url) {\n      console.error(\"failed to load \" + url);\n    }\n\n    for (let i = 0; i < css_urls.length; i++) {\n      const url = css_urls[i];\n      const element = document.createElement(\"link\");\n      element.onload = on_load;\n      element.onerror = on_error.bind(null, url);\n      element.rel = \"stylesheet\";\n      element.type = \"text/css\";\n      element.href = url;\n      console.debug(\"Bokeh: injecting link tag for BokehJS stylesheet: \", url);\n      document.body.appendChild(element);\n    }\n\n    for (let i = 0; i < js_urls.length; i++) {\n      const url = js_urls[i];\n      const element = document.createElement('script');\n      element.onload = on_load;\n      element.onerror = on_error.bind(null, url);\n      element.async = false;\n      element.src = url;\n      console.debug(\"Bokeh: injecting script tag for BokehJS library: \", url);\n      document.head.appendChild(element);\n    }\n  };\n\n  function inject_raw_css(css) {\n    const element = document.createElement(\"style\");\n    element.appendChild(document.createTextNode(css));\n    document.body.appendChild(element);\n  }\n\n  const js_urls = [\"https://cdn.bokeh.org/bokeh/release/bokeh-3.6.0.min.js\", \"https://cdn.bokeh.org/bokeh/release/bokeh-gl-3.6.0.min.js\", \"https://cdn.bokeh.org/bokeh/release/bokeh-widgets-3.6.0.min.js\", \"https://cdn.bokeh.org/bokeh/release/bokeh-tables-3.6.0.min.js\", \"https://cdn.bokeh.org/bokeh/release/bokeh-mathjax-3.6.0.min.js\"];\n  const css_urls = [];\n\n  const inline_js = [    function(Bokeh) {\n      Bokeh.set_log_level(\"info\");\n    },\nfunction(Bokeh) {\n    }\n  ];\n\n  function run_inline_js() {\n    if (root.Bokeh !== undefined || force === true) {\n      try {\n            for (let i = 0; i < inline_js.length; i++) {\n      inline_js[i].call(root, root.Bokeh);\n    }\n\n      } catch (error) {throw error;\n      }} else if (Date.now() < root._bokeh_timeout) {\n      setTimeout(run_inline_js, 100);\n    } else if (!root._bokeh_failed_load) {\n      console.log(\"Bokeh: BokehJS failed to load within specified timeout.\");\n      root._bokeh_failed_load = true;\n    } else if (force !== true) {\n      const cell = $(document.getElementById(null)).parents('.cell').data().cell;\n      cell.output_area.append_execute_result(NB_LOAD_WARNING)\n    }\n  }\n\n  if (root._bokeh_is_loading === 0) {\n    console.debug(\"Bokeh: BokehJS loaded, going straight to plotting\");\n    run_inline_js();\n  } else {\n    load_libs(css_urls, js_urls, function() {\n      console.debug(\"Bokeh: BokehJS plotting callback run at\", now());\n      run_inline_js();\n    });\n  }\n}(window));"
          },
          "metadata": {}
        },
        {
          "output_type": "display_data",
          "data": {
            "text/html": [
              "\n",
              "  <div id=\"faefbafc-7ef1-4ed1-a66a-c546d680717f\" data-root-id=\"p1055\" style=\"display: contents;\"></div>\n"
            ]
          },
          "metadata": {}
        },
        {
          "output_type": "display_data",
          "data": {
            "application/javascript": [
              "(function(root) {\n",
              "  function embed_document(root) {\n",
              "  const docs_json = {\"672e4d5d-d50a-41f6-9624-69da0731d87f\":{\"version\":\"3.6.0\",\"title\":\"Bokeh Application\",\"roots\":[{\"type\":\"object\",\"name\":\"Figure\",\"id\":\"p1055\",\"attributes\":{\"height\":400,\"x_range\":{\"type\":\"object\",\"name\":\"DataRange1d\",\"id\":\"p1056\"},\"y_range\":{\"type\":\"object\",\"name\":\"DataRange1d\",\"id\":\"p1057\"},\"x_scale\":{\"type\":\"object\",\"name\":\"LinearScale\",\"id\":\"p1064\"},\"y_scale\":{\"type\":\"object\",\"name\":\"LinearScale\",\"id\":\"p1065\"},\"title\":{\"type\":\"object\",\"name\":\"Title\",\"id\":\"p1062\"},\"renderers\":[{\"type\":\"object\",\"name\":\"GlyphRenderer\",\"id\":\"p1095\",\"attributes\":{\"data_source\":{\"type\":\"object\",\"name\":\"ColumnDataSource\",\"id\":\"p1052\",\"attributes\":{\"selected\":{\"type\":\"object\",\"name\":\"Selection\",\"id\":\"p1053\",\"attributes\":{\"indices\":[],\"line_indices\":[]}},\"selection_policy\":{\"type\":\"object\",\"name\":\"UnionRenderers\",\"id\":\"p1054\"},\"data\":{\"type\":\"map\",\"entries\":[[\"x\",{\"type\":\"ndarray\",\"array\":{\"type\":\"bytes\",\"data\":\"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\"},\"shape\":[5000],\"dtype\":\"float32\",\"order\":\"little\"}],[\"y\",{\"type\":\"ndarray\",\"array\":{\"type\":\"bytes\",\"data\":\"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\"},\"shape\":[5000],\"dtype\":\"float32\",\"order\":\"little\"}],[\"color\",[\"blue\",\"blue\",\"blue\",\"blue\",\"blue\",\"blue\",\"blue\",\"blue\",\"blue\",\"blue\",\"blue\",\"blue\",\"blue\",\"blue\",\"blue\",\"blue\",\"blue\",\"blue\",\"blue\",\"blue\",\"blue\",\"blue\",\"blue\",\"blue\",\"blue\",\"blue\",\"blue\",\"blue\",\"blue\",\"blue\",\"blue\",\"blue\",\"blue\",\"blue\",\"blue\",\"blue\",\"blue\",\"blue\",\"blue\",\"blue\",\"blue\",\"blue\",\"blue\",\"blue\",\"blue\",\"blue\",\"blue\",\"blue\",\"blue\",\"blue\",\"blue\",\"blue\",\"blue\",\"blue\",\"blue\",\"blue\",\"blue\",\"blue\",\"blue\",\"blue\",\"blue\",\"blue\",\"blue\",\"blue\",\"blue\",\"blue\",\"blue\",\"blue\",\"blue\",\"blue\",\"blue\",\"blue\",\"blue\",\"blue\",\"blue\",\"blue\",\"blue\",\"blue\",\"blue\",\"blue\",\"blue\",\"blue\",\"blue\",\"blue\",\"blue\",\"blue\",\"blue\",\"blue\",\"blue\",\"blue\",\"blue\",\"blue\",\"blue\",\"blue\",\"blue\",\"blue\",\"blue\",\"blue\",\"blue\",\"blue\",\"blue\",\"blue\",\"blue\",\"blue\",\"blue\",\"blue\",\"blue\",\"blue\",\"blue\",\"blue\",\"blue\",\"blue\",\"blue\",\"blue\",\"blue\",\"blue\",\"blue\",\"blue\",\"blue\",\"blue\",\"blue\",\"blue\",\"blue\",\"blue\",\"blue\",\"blue\",\"blue\",\"blue\",\"blue\",\"blue\",\"blue\",\"blue\",\"blue\",\"blue\",\"blue\",\"blue\",\"blue\",\"blue\",\"blue\",\"blue\",\"blue\",\"blue\",\"blue\",\"blue\",\"blue\",\"blue\",\"blue\",\"blue\",\"blue\",\"blue\",\"blue\",\"blue\",\"blue\",\"blue\",\"blue\",\"blue\",\"blue\",\"blue\",\"blue\",\"blue\",\"blue\",\"blue\",\"blue\",\"blue\",\"blue\",\"blue\",\"blue\",\"blue\",\"blue\",\"blue\",\"blue\",\"blue\",\"blue\",\"blue\",\"blue\",\"blue\",\"blue\",\"blue\",\"blue\",\"blue\",\"blue\",\"blue\",\"blue\",\"blue\",\"blue\",\"blue\",\"blue\",\"blue\",\"blue\",\"blue\",\"blue\",\"blue\",\"blue\",\"blue\",\"blue\",\"blue\",\"blue\",\"blue\",\"blue\",\"blue\",\"blue\",\"blue\",\"blue\",\"blue\",\"blue\",\"blue\",\"blue\",\"blue\",\"blue\",\"blue\",\"blue\",\"blue\",\"blue\",\"blue\",\"blue\",\"blue\",\"blue\",\"blue\",\"blue\",\"blue\",\"blue\",\"blue\",\"blue\",\"blue\",\"blue\",\"blue\",\"blue\",\"blue\",\"blue\",\"blue\",\"blue\",\"blue\",\"blue\",\"blue\",\"blue\",\"blue\",\"blue\",\"blue\",\"blue\",\"blue\",\"blue\",\"blue\",\"blue\",\"blue\",\"blue\",\"blue\",\"blue\",\"blue\",\"blue\",\"blue\",\"blue\",\"blue\",\"blue\",\"blue\",\"blue\",\"blue\",\"blue\",\"blue\",\"blue\",\"blue\",\"blue\",\"blue\",\"blue\",\"blue\",\"blue\",\"blue\",\"blue\",\"blue\",\"blue\",\"blue\",\"blue\",\"blue\",\"blue\",\"blue\",\"blue\",\"blue\",\"blue\",\"blue\",\"blue\",\"blue\",\"blue\",\"blue\",\"blue\",\"blue\",\"blue\",\"blue\",\"blue\",\"blue\",\"blue\",\"blue\",\"blue\",\"blue\",\"blue\",\"blue\",\"blue\",\"blue\",\"blue\",\"blue\",\"blue\",\"blue\",\"blue\",\"blue\",\"blue\",\"blue\",\"blue\",\"blue\",\"blue\",\"blue\",\"blue\",\"blue\",\"blue\",\"blue\",\"blue\",\"blue\",\"blue\",\"blue\",\"blue\",\"blue\",\"blue\",\"blue\",\"blue\",\"blue\",\"blue\",\"blue\",\"blue\",\"blue\",\"blue\",\"blue\",\"blue\",\"blue\",\"blue\",\"blue\",\"blue\",\"blue\",\"blue\",\"blue\",\"blue\",\"blue\",\"blue\",\"blue\",\"blue\",\"blue\",\"blue\",\"blue\",\"blue\",\"blue\",\"blue\",\"blue\",\"blue\",\"blue\",\"blue\",\"blue\",\"blue\",\"blue\",\"blue\",\"blue\",\"blue\",\"blue\",\"blue\",\"blue\",\"blue\",\"blue\",\"blue\",\"blue\",\"blue\",\"blue\",\"blue\",\"blue\",\"blue\",\"blue\",\"blue\",\"blue\",\"blue\",\"blue\",\"blue\",\"blue\",\"blue\",\"blue\",\"blue\",\"blue\",\"blue\",\"blue\",\"blue\",\"blue\",\"blue\",\"blue\",\"blue\",\"blue\",\"blue\",\"blue\",\"blue\",\"blue\",\"blue\",\"blue\",\"blue\",\"blue\",\"blue\",\"blue\",\"blue\",\"blue\",\"blue\",\"blue\",\"blue\",\"blue\",\"blue\",\"blue\",\"blue\",\"blue\",\"blue\",\"blue\",\"blue\",\"blue\",\"blue\",\"blue\",\"blue\",\"blue\",\"blue\",\"blue\",\"blue\",\"blue\",\"blue\",\"blue\",\"blue\",\"blue\",\"blue\",\"blue\",\"blue\",\"blue\",\"blue\",\"blue\",\"blue\",\"blue\",\"blue\",\"blue\",\"blue\",\"blue\",\"blue\",\"blue\",\"blue\",\"blue\",\"blue\",\"blue\",\"blue\",\"blue\",\"blue\",\"blue\",\"blue\",\"blue\",\"blue\",\"blue\",\"blue\",\"blue\",\"blue\",\"blue\",\"blue\",\"blue\",\"blue\",\"blue\",\"blue\",\"blue\",\"blue\",\"blue\",\"blue\",\"blue\",\"blue\",\"blue\",\"blue\",\"blue\",\"blue\",\"blue\",\"blue\",\"blue\",\"blue\",\"blue\",\"blue\",\"blue\",\"blue\",\"blue\",\"blue\",\"blue\",\"blue\",\"blue\",\"blue\",\"blue\",\"blue\",\"blue\",\"blue\",\"blue\",\"blue\",\"blue\",\"blue\",\"blue\",\"blue\",\"blue\",\"blue\",\"blue\",\"blue\",\"blue\",\"blue\",\"blue\",\"blue\",\"blue\",\"blue\",\"blue\",\"blue\",\"blue\",\"blue\",\"blue\",\"blue\",\"blue\",\"blue\",\"blue\",\"blue\",\"blue\",\"blue\",\"blue\",\"blue\",\"blue\",\"blue\",\"blue\",\"blue\",\"blue\",\"blue\",\"blue\",\"blue\",\"blue\",\"blue\",\"blue\",\"blue\",\"blue\",\"blue\",\"blue\",\"blue\",\"blue\",\"blue\",\"blue\",\"blue\",\"blue\",\"blue\",\"blue\",\"blue\",\"blue\",\"blue\",\"blue\",\"blue\",\"blue\",\"blue\",\"blue\",\"blue\",\"blue\",\"blue\",\"blue\",\"blue\",\"blue\",\"blue\",\"blue\",\"blue\",\"blue\",\"blue\",\"blue\",\"blue\",\"blue\",\"blue\",\"blue\",\"blue\",\"blue\",\"blue\",\"blue\",\"blue\",\"blue\",\"blue\",\"blue\",\"blue\",\"blue\",\"blue\",\"blue\",\"blue\",\"blue\",\"blue\",\"blue\",\"blue\",\"blue\",\"blue\",\"blue\",\"blue\",\"blue\",\"blue\",\"blue\",\"blue\",\"blue\",\"blue\",\"blue\",\"blue\",\"blue\",\"blue\",\"blue\",\"blue\",\"blue\",\"blue\",\"blue\",\"blue\",\"blue\",\"blue\",\"blue\",\"blue\",\"blue\",\"blue\",\"blue\",\"blue\",\"blue\",\"blue\",\"blue\",\"blue\",\"blue\",\"blue\",\"blue\",\"blue\",\"blue\",\"blue\",\"blue\",\"blue\",\"blue\",\"blue\",\"blue\",\"blue\",\"blue\",\"blue\",\"blue\",\"blue\",\"blue\",\"blue\",\"blue\",\"blue\",\"blue\",\"blue\",\"blue\",\"blue\",\"blue\",\"blue\",\"blue\",\"blue\",\"blue\",\"blue\",\"blue\",\"blue\",\"blue\",\"blue\",\"blue\",\"blue\",\"blue\",\"blue\",\"blue\",\"blue\",\"blue\",\"blue\",\"blue\",\"blue\",\"blue\",\"blue\",\"blue\",\"blue\",\"blue\",\"blue\",\"blue\",\"blue\",\"blue\",\"blue\",\"blue\",\"blue\",\"blue\",\"blue\",\"blue\",\"blue\",\"blue\",\"blue\",\"blue\",\"blue\",\"blue\",\"blue\",\"blue\",\"blue\",\"blue\",\"blue\",\"blue\",\"blue\",\"blue\",\"blue\",\"blue\",\"blue\",\"blue\",\"blue\",\"blue\",\"blue\",\"blue\",\"blue\",\"blue\",\"blue\",\"blue\",\"blue\",\"blue\",\"blue\",\"blue\",\"blue\",\"blue\",\"blue\",\"blue\",\"blue\",\"blue\",\"blue\",\"blue\",\"blue\",\"blue\",\"blue\",\"blue\",\"blue\",\"blue\",\"blue\",\"blue\",\"blue\",\"blue\",\"blue\",\"blue\",\"blue\",\"blue\",\"blue\",\"blue\",\"blue\",\"blue\",\"blue\",\"blue\",\"blue\",\"blue\",\"blue\",\"blue\",\"blue\",\"blue\",\"blue\",\"blue\",\"blue\",\"blue\",\"blue\",\"blue\",\"blue\",\"blue\",\"blue\",\"blue\",\"blue\",\"blue\",\"blue\",\"blue\",\"blue\",\"blue\",\"blue\",\"blue\",\"blue\",\"blue\",\"blue\",\"blue\",\"blue\",\"blue\",\"blue\",\"blue\",\"blue\",\"blue\",\"blue\",\"blue\",\"blue\",\"blue\",\"blue\",\"blue\",\"blue\",\"blue\",\"blue\",\"blue\",\"blue\",\"blue\",\"blue\",\"blue\",\"blue\",\"blue\",\"blue\",\"blue\",\"blue\",\"blue\",\"blue\",\"blue\",\"blue\",\"blue\",\"blue\",\"blue\",\"blue\",\"blue\",\"blue\",\"blue\",\"blue\",\"blue\",\"blue\",\"blue\",\"blue\",\"blue\",\"blue\",\"blue\",\"blue\",\"blue\",\"blue\",\"blue\",\"blue\",\"blue\",\"blue\",\"blue\",\"blue\",\"blue\",\"blue\",\"blue\",\"blue\",\"blue\",\"blue\",\"blue\",\"blue\",\"blue\",\"blue\",\"blue\",\"blue\",\"blue\",\"blue\",\"blue\",\"blue\",\"blue\",\"blue\",\"blue\",\"blue\",\"blue\",\"blue\",\"blue\",\"blue\",\"blue\",\"blue\",\"blue\",\"blue\",\"blue\",\"blue\",\"blue\",\"blue\",\"blue\",\"blue\",\"blue\",\"blue\",\"blue\",\"blue\",\"blue\",\"blue\",\"blue\",\"blue\",\"blue\",\"blue\",\"blue\",\"blue\",\"blue\",\"blue\",\"blue\",\"blue\",\"blue\",\"blue\",\"blue\",\"blue\",\"blue\",\"blue\",\"blue\",\"blue\",\"blue\",\"blue\",\"blue\",\"blue\",\"blue\",\"blue\",\"blue\",\"blue\",\"blue\",\"blue\",\"blue\",\"blue\",\"blue\",\"blue\",\"blue\",\"blue\",\"blue\",\"blue\",\"blue\",\"blue\",\"blue\",\"blue\",\"blue\",\"blue\",\"blue\",\"blue\",\"blue\",\"blue\",\"blue\",\"blue\",\"blue\",\"blue\",\"blue\",\"blue\",\"blue\",\"blue\",\"blue\",\"blue\",\"blue\",\"blue\",\"blue\",\"blue\",\"blue\",\"blue\",\"blue\",\"blue\",\"blue\",\"blue\",\"blue\",\"blue\",\"blue\",\"blue\",\"blue\",\"blue\",\"blue\",\"blue\",\"blue\",\"blue\",\"blue\",\"blue\",\"blue\",\"blue\",\"blue\",\"blue\",\"blue\",\"blue\",\"blue\",\"blue\",\"blue\",\"blue\",\"blue\",\"blue\",\"blue\",\"blue\",\"blue\",\"blue\",\"blue\",\"blue\",\"blue\",\"blue\",\"blue\",\"blue\",\"blue\",\"blue\",\"blue\",\"blue\",\"blue\",\"blue\",\"blue\",\"blue\",\"blue\",\"blue\",\"blue\",\"blue\",\"blue\",\"blue\",\"blue\",\"blue\",\"blue\",\"blue\",\"blue\",\"blue\",\"blue\",\"blue\",\"blue\",\"blue\",\"blue\",\"blue\",\"blue\",\"blue\",\"blue\",\"blue\",\"blue\",\"blue\",\"blue\",\"blue\",\"blue\",\"blue\",\"blue\",\"blue\",\"blue\",\"blue\",\"blue\",\"blue\",\"blue\",\"blue\",\"blue\",\"blue\",\"blue\",\"blue\",\"blue\",\"blue\",\"blue\",\"blue\",\"blue\",\"blue\",\"blue\",\"blue\",\"blue\",\"blue\",\"blue\",\"blue\",\"blue\",\"blue\",\"blue\",\"blue\",\"blue\",\"blue\",\"blue\",\"blue\",\"blue\",\"blue\",\"blue\",\"blue\",\"blue\",\"blue\",\"blue\",\"blue\",\"blue\",\"blue\",\"blue\",\"blue\",\"blue\",\"blue\",\"blue\",\"blue\",\"blue\",\"blue\",\"blue\",\"blue\",\"blue\",\"blue\",\"blue\",\"blue\",\"blue\",\"blue\",\"blue\",\"blue\",\"blue\",\"blue\",\"blue\",\"blue\",\"blue\",\"blue\",\"blue\",\"blue\",\"blue\",\"blue\",\"blue\",\"blue\",\"blue\",\"blue\",\"blue\",\"blue\",\"blue\",\"blue\",\"blue\",\"blue\",\"blue\",\"blue\",\"blue\",\"blue\",\"blue\",\"blue\",\"blue\",\"blue\",\"blue\",\"blue\",\"blue\",\"blue\",\"blue\",\"blue\",\"blue\",\"blue\",\"blue\",\"blue\",\"blue\",\"blue\",\"blue\",\"blue\",\"blue\",\"blue\",\"blue\",\"blue\",\"blue\",\"blue\",\"blue\",\"blue\",\"blue\",\"blue\",\"blue\",\"blue\",\"blue\",\"blue\",\"blue\",\"blue\",\"blue\",\"blue\",\"blue\",\"blue\",\"blue\",\"blue\",\"blue\",\"blue\",\"blue\",\"blue\",\"blue\",\"blue\",\"blue\",\"blue\",\"blue\",\"blue\",\"blue\",\"blue\",\"blue\",\"blue\",\"blue\",\"blue\",\"blue\",\"blue\",\"blue\",\"blue\",\"blue\",\"blue\",\"blue\",\"blue\",\"blue\",\"blue\",\"blue\",\"blue\",\"blue\",\"blue\",\"blue\",\"blue\",\"blue\",\"blue\",\"blue\",\"blue\",\"blue\",\"blue\",\"blue\",\"blue\",\"blue\",\"blue\",\"blue\",\"blue\",\"blue\",\"blue\",\"blue\",\"blue\",\"blue\",\"blue\",\"blue\",\"blue\",\"blue\",\"blue\",\"blue\",\"blue\",\"blue\",\"blue\",\"blue\",\"blue\",\"blue\",\"blue\",\"blue\",\"blue\",\"blue\",\"blue\",\"blue\",\"blue\",\"blue\",\"blue\",\"blue\",\"blue\",\"blue\",\"blue\",\"blue\",\"blue\",\"blue\",\"blue\",\"blue\",\"blue\",\"blue\",\"blue\",\"blue\",\"blue\",\"blue\",\"blue\",\"blue\",\"blue\",\"blue\",\"blue\",\"blue\",\"blue\",\"blue\",\"blue\",\"blue\",\"blue\",\"blue\",\"blue\",\"blue\",\"blue\",\"blue\",\"blue\",\"blue\",\"blue\",\"blue\",\"blue\",\"blue\",\"blue\",\"blue\",\"blue\",\"blue\",\"blue\",\"blue\",\"blue\",\"blue\",\"blue\",\"blue\",\"blue\",\"blue\",\"blue\",\"blue\",\"blue\",\"blue\",\"blue\",\"blue\",\"blue\",\"blue\",\"blue\",\"blue\",\"blue\",\"blue\",\"blue\",\"blue\",\"blue\",\"blue\",\"blue\",\"blue\",\"blue\",\"blue\",\"blue\",\"blue\",\"blue\",\"blue\",\"blue\",\"blue\",\"blue\",\"blue\",\"blue\",\"blue\",\"blue\",\"blue\",\"blue\",\"blue\",\"blue\",\"blue\",\"blue\",\"blue\",\"blue\",\"blue\",\"blue\",\"blue\",\"blue\",\"blue\",\"blue\",\"blue\",\"blue\",\"blue\",\"blue\",\"blue\",\"blue\",\"blue\",\"blue\",\"blue\",\"blue\",\"blue\",\"blue\",\"blue\",\"blue\",\"blue\",\"blue\",\"blue\",\"blue\",\"blue\",\"blue\",\"blue\",\"blue\",\"blue\",\"blue\",\"blue\",\"blue\",\"blue\",\"blue\",\"blue\",\"blue\",\"blue\",\"blue\",\"blue\",\"blue\",\"blue\",\"blue\",\"blue\",\"blue\",\"blue\",\"blue\",\"blue\",\"blue\",\"blue\",\"blue\",\"blue\",\"blue\",\"blue\",\"blue\",\"blue\",\"blue\",\"blue\",\"blue\",\"blue\",\"blue\",\"blue\",\"blue\",\"blue\",\"blue\",\"blue\",\"blue\",\"blue\",\"blue\",\"blue\",\"blue\",\"blue\",\"blue\",\"blue\",\"blue\",\"blue\",\"blue\",\"blue\",\"blue\",\"blue\",\"blue\",\"blue\",\"blue\",\"blue\",\"blue\",\"blue\",\"blue\",\"blue\",\"blue\",\"blue\",\"blue\",\"blue\",\"blue\",\"blue\",\"blue\",\"blue\",\"blue\",\"blue\",\"blue\",\"blue\",\"blue\",\"blue\",\"blue\",\"blue\",\"blue\",\"blue\",\"blue\",\"blue\",\"blue\",\"blue\",\"blue\",\"blue\",\"blue\",\"blue\",\"blue\",\"blue\",\"blue\",\"blue\",\"blue\",\"blue\",\"blue\",\"blue\",\"blue\",\"blue\",\"blue\",\"blue\",\"blue\",\"blue\",\"blue\",\"blue\",\"blue\",\"blue\",\"blue\",\"blue\",\"blue\",\"blue\",\"blue\",\"blue\",\"blue\",\"blue\",\"blue\",\"blue\",\"blue\",\"blue\",\"blue\",\"blue\",\"blue\",\"blue\",\"blue\",\"blue\",\"blue\",\"blue\",\"blue\",\"blue\",\"blue\",\"blue\",\"blue\",\"blue\",\"blue\",\"blue\",\"blue\",\"blue\",\"blue\",\"blue\",\"blue\",\"blue\",\"blue\",\"blue\",\"blue\",\"blue\",\"blue\",\"blue\",\"blue\",\"blue\",\"blue\",\"blue\",\"blue\",\"blue\",\"blue\",\"blue\",\"blue\",\"blue\",\"blue\",\"blue\",\"blue\",\"blue\",\"blue\",\"blue\",\"blue\",\"blue\",\"blue\",\"blue\",\"blue\",\"blue\",\"blue\",\"blue\",\"blue\",\"blue\",\"blue\",\"blue\",\"blue\",\"blue\",\"blue\",\"blue\",\"blue\",\"blue\",\"blue\",\"blue\",\"blue\",\"blue\",\"blue\",\"blue\",\"blue\",\"blue\",\"blue\",\"blue\",\"blue\",\"blue\",\"blue\",\"blue\",\"blue\",\"blue\",\"blue\",\"blue\",\"blue\",\"blue\",\"blue\",\"blue\",\"blue\",\"blue\",\"blue\",\"blue\",\"blue\",\"blue\",\"blue\",\"blue\",\"blue\",\"blue\",\"blue\",\"blue\",\"blue\",\"blue\",\"blue\",\"blue\",\"blue\",\"blue\",\"blue\",\"blue\",\"blue\",\"blue\",\"blue\",\"blue\",\"blue\",\"blue\",\"blue\",\"blue\",\"blue\",\"blue\",\"blue\",\"blue\",\"blue\",\"blue\",\"blue\",\"blue\",\"blue\",\"blue\",\"blue\",\"blue\",\"blue\",\"blue\",\"blue\",\"blue\",\"blue\",\"blue\",\"blue\",\"blue\",\"blue\",\"blue\",\"blue\",\"blue\",\"blue\",\"blue\",\"blue\",\"blue\",\"blue\",\"blue\",\"blue\",\"blue\",\"blue\",\"blue\",\"blue\",\"blue\",\"blue\",\"blue\",\"blue\",\"blue\",\"blue\",\"blue\",\"blue\",\"blue\",\"blue\",\"blue\",\"blue\",\"blue\",\"blue\",\"blue\",\"blue\",\"blue\",\"blue\",\"blue\",\"blue\",\"blue\",\"blue\",\"blue\",\"blue\",\"blue\",\"blue\",\"blue\",\"blue\",\"blue\",\"blue\",\"blue\",\"blue\",\"blue\",\"blue\",\"blue\",\"blue\",\"blue\",\"blue\",\"blue\",\"blue\",\"blue\",\"blue\",\"blue\",\"blue\",\"blue\",\"blue\",\"blue\",\"blue\",\"blue\",\"blue\",\"blue\",\"blue\",\"blue\",\"blue\",\"blue\",\"blue\",\"blue\",\"blue\",\"blue\",\"blue\",\"blue\",\"blue\",\"blue\",\"blue\",\"blue\",\"blue\",\"blue\",\"blue\",\"blue\",\"blue\",\"blue\",\"blue\",\"blue\",\"blue\",\"blue\",\"blue\",\"blue\",\"blue\",\"blue\",\"blue\",\"blue\",\"blue\",\"blue\",\"blue\",\"blue\",\"blue\",\"blue\",\"blue\",\"blue\",\"blue\",\"blue\",\"blue\",\"blue\",\"blue\",\"blue\",\"blue\",\"blue\",\"blue\",\"blue\",\"blue\",\"blue\",\"blue\",\"blue\",\"blue\",\"blue\",\"blue\",\"blue\",\"blue\",\"blue\",\"blue\",\"blue\",\"blue\",\"blue\",\"blue\",\"blue\",\"blue\",\"blue\",\"blue\",\"blue\",\"blue\",\"blue\",\"blue\",\"blue\",\"blue\",\"blue\",\"blue\",\"blue\",\"blue\",\"blue\",\"blue\",\"blue\",\"blue\",\"blue\",\"blue\",\"blue\",\"blue\",\"blue\",\"blue\",\"blue\",\"blue\",\"blue\",\"blue\",\"blue\",\"blue\",\"blue\",\"blue\",\"blue\",\"blue\",\"blue\",\"blue\",\"blue\",\"blue\",\"blue\",\"blue\",\"blue\",\"blue\",\"blue\",\"blue\",\"blue\",\"blue\",\"blue\",\"blue\",\"blue\",\"blue\",\"blue\",\"blue\",\"blue\",\"blue\",\"blue\",\"blue\",\"blue\",\"blue\",\"blue\",\"blue\",\"blue\",\"blue\",\"blue\",\"blue\",\"blue\",\"blue\",\"blue\",\"blue\",\"blue\",\"blue\",\"blue\",\"blue\",\"blue\",\"blue\",\"blue\",\"blue\",\"blue\",\"blue\",\"blue\",\"blue\",\"blue\",\"blue\",\"blue\",\"blue\",\"blue\",\"blue\",\"blue\",\"blue\",\"blue\",\"blue\",\"blue\",\"blue\",\"blue\",\"blue\",\"blue\",\"blue\",\"blue\",\"blue\",\"blue\",\"blue\",\"blue\",\"blue\",\"blue\",\"blue\",\"blue\",\"blue\",\"blue\",\"blue\",\"blue\",\"blue\",\"blue\",\"blue\",\"blue\",\"blue\",\"blue\",\"blue\",\"blue\",\"blue\",\"blue\",\"blue\",\"blue\",\"blue\",\"blue\",\"blue\",\"blue\",\"blue\",\"blue\",\"blue\",\"blue\",\"blue\",\"blue\",\"blue\",\"blue\",\"blue\",\"blue\",\"blue\",\"blue\",\"blue\",\"blue\",\"blue\",\"blue\",\"blue\",\"blue\",\"blue\",\"blue\",\"blue\",\"blue\",\"blue\",\"blue\",\"blue\",\"blue\",\"blue\",\"blue\",\"blue\",\"blue\",\"blue\",\"blue\",\"blue\",\"blue\",\"blue\",\"blue\",\"blue\",\"blue\",\"blue\",\"blue\",\"blue\",\"blue\",\"blue\",\"blue\",\"blue\",\"blue\",\"blue\",\"blue\",\"blue\",\"blue\",\"blue\",\"blue\",\"blue\",\"blue\",\"blue\",\"blue\",\"blue\",\"blue\",\"blue\",\"blue\",\"blue\",\"blue\",\"blue\",\"blue\",\"blue\",\"blue\",\"blue\",\"blue\",\"blue\",\"blue\",\"blue\",\"blue\",\"blue\",\"blue\",\"blue\",\"blue\",\"blue\",\"blue\",\"blue\",\"blue\",\"blue\",\"blue\",\"blue\",\"blue\",\"blue\",\"blue\",\"blue\",\"blue\",\"blue\",\"blue\",\"blue\",\"blue\",\"blue\",\"blue\",\"blue\",\"blue\",\"blue\",\"blue\",\"blue\",\"blue\",\"blue\",\"blue\",\"blue\",\"blue\",\"blue\",\"blue\",\"blue\",\"blue\",\"blue\",\"blue\",\"blue\",\"blue\",\"blue\",\"blue\",\"blue\",\"blue\",\"blue\",\"blue\",\"blue\",\"blue\",\"blue\",\"blue\",\"blue\",\"blue\",\"blue\",\"blue\",\"blue\",\"blue\",\"blue\",\"blue\",\"blue\",\"blue\",\"blue\",\"blue\",\"blue\",\"blue\",\"blue\",\"blue\",\"blue\",\"blue\",\"blue\",\"blue\",\"blue\",\"blue\",\"blue\",\"blue\",\"blue\",\"blue\",\"blue\",\"blue\",\"blue\",\"blue\",\"blue\",\"blue\",\"blue\",\"blue\",\"blue\",\"blue\",\"blue\",\"blue\",\"blue\",\"blue\",\"blue\",\"blue\",\"blue\",\"blue\",\"blue\",\"blue\",\"blue\",\"blue\",\"blue\",\"blue\",\"blue\",\"blue\",\"blue\",\"blue\",\"blue\",\"blue\",\"blue\",\"blue\",\"blue\",\"blue\",\"blue\",\"blue\",\"blue\",\"blue\",\"blue\",\"blue\",\"blue\",\"blue\",\"blue\",\"blue\",\"blue\",\"blue\",\"blue\",\"blue\",\"blue\",\"blue\",\"blue\",\"blue\",\"blue\",\"blue\",\"blue\",\"blue\",\"blue\",\"blue\",\"blue\",\"blue\",\"blue\",\"blue\",\"blue\",\"blue\",\"blue\",\"blue\",\"blue\",\"blue\",\"blue\",\"blue\",\"blue\",\"blue\",\"blue\",\"blue\",\"blue\",\"blue\",\"blue\",\"blue\",\"blue\",\"blue\",\"blue\",\"blue\",\"blue\",\"blue\",\"blue\",\"blue\",\"blue\",\"blue\",\"blue\",\"blue\",\"blue\",\"blue\",\"blue\",\"blue\",\"blue\",\"blue\",\"blue\",\"blue\",\"blue\",\"blue\",\"blue\",\"blue\",\"blue\",\"blue\",\"blue\",\"blue\",\"blue\",\"blue\",\"blue\",\"blue\",\"blue\",\"blue\",\"blue\",\"blue\",\"blue\",\"blue\",\"blue\",\"blue\",\"blue\",\"blue\",\"blue\",\"blue\",\"blue\",\"blue\",\"blue\",\"blue\",\"blue\",\"blue\",\"blue\",\"blue\",\"blue\",\"blue\",\"blue\",\"blue\",\"blue\",\"blue\",\"blue\",\"blue\",\"blue\",\"blue\",\"blue\",\"blue\",\"blue\",\"blue\",\"blue\",\"blue\",\"blue\",\"blue\",\"blue\",\"blue\",\"blue\",\"blue\",\"blue\",\"blue\",\"blue\",\"blue\",\"blue\",\"blue\",\"blue\",\"blue\",\"blue\",\"blue\",\"blue\",\"blue\",\"blue\",\"blue\",\"blue\",\"blue\",\"blue\",\"blue\",\"blue\",\"blue\",\"blue\",\"blue\",\"blue\",\"blue\",\"blue\",\"blue\",\"blue\",\"blue\",\"blue\",\"blue\",\"blue\",\"blue\",\"blue\",\"blue\",\"blue\",\"blue\",\"blue\",\"blue\",\"blue\",\"blue\",\"blue\",\"blue\",\"blue\",\"blue\",\"blue\",\"blue\",\"blue\",\"blue\",\"blue\",\"blue\",\"blue\",\"blue\",\"blue\",\"blue\",\"blue\",\"blue\",\"blue\",\"blue\",\"blue\",\"blue\",\"blue\",\"blue\",\"blue\",\"blue\",\"blue\",\"blue\",\"blue\",\"blue\",\"blue\",\"blue\",\"blue\",\"blue\",\"blue\",\"blue\",\"blue\",\"blue\",\"blue\",\"blue\",\"blue\",\"blue\",\"blue\",\"blue\",\"blue\",\"blue\",\"blue\",\"blue\",\"blue\",\"blue\",\"blue\",\"blue\",\"blue\",\"blue\",\"blue\",\"blue\",\"blue\",\"blue\",\"blue\",\"blue\",\"blue\",\"blue\",\"blue\",\"blue\",\"blue\",\"blue\",\"blue\",\"blue\",\"blue\",\"blue\",\"blue\",\"blue\",\"blue\",\"blue\",\"blue\",\"blue\",\"blue\",\"blue\",\"blue\",\"blue\",\"blue\",\"blue\",\"blue\",\"blue\",\"blue\",\"blue\",\"blue\",\"blue\",\"blue\",\"blue\",\"blue\",\"blue\",\"blue\",\"blue\",\"blue\",\"blue\",\"blue\",\"blue\",\"blue\",\"blue\",\"blue\",\"blue\",\"blue\",\"blue\",\"blue\",\"blue\",\"blue\",\"blue\",\"blue\",\"blue\",\"blue\",\"blue\",\"blue\",\"blue\",\"blue\",\"blue\",\"blue\",\"blue\",\"blue\",\"blue\",\"blue\",\"blue\",\"blue\",\"blue\",\"blue\",\"blue\",\"blue\",\"blue\",\"blue\",\"blue\",\"blue\",\"blue\",\"blue\",\"blue\",\"blue\",\"blue\",\"blue\",\"blue\",\"blue\",\"blue\",\"blue\",\"blue\",\"blue\",\"blue\",\"blue\",\"blue\",\"blue\",\"blue\",\"blue\",\"blue\",\"blue\",\"blue\",\"blue\",\"blue\",\"blue\",\"blue\",\"blue\",\"blue\",\"blue\",\"blue\",\"blue\",\"blue\",\"blue\",\"blue\",\"blue\",\"blue\",\"blue\",\"blue\",\"blue\",\"blue\",\"blue\",\"blue\",\"blue\",\"blue\",\"blue\",\"blue\",\"blue\",\"blue\",\"blue\",\"blue\",\"blue\",\"blue\",\"blue\",\"blue\",\"blue\",\"blue\",\"blue\",\"blue\",\"blue\",\"blue\",\"blue\",\"blue\",\"blue\",\"blue\",\"blue\",\"blue\",\"blue\",\"blue\",\"blue\",\"blue\",\"blue\",\"blue\",\"blue\",\"blue\",\"blue\",\"blue\",\"blue\",\"blue\",\"blue\",\"blue\",\"blue\",\"blue\",\"blue\",\"blue\",\"blue\",\"blue\",\"blue\",\"blue\",\"blue\",\"blue\",\"blue\",\"blue\",\"blue\",\"blue\",\"blue\",\"blue\",\"blue\",\"blue\",\"blue\",\"blue\",\"blue\",\"blue\",\"blue\",\"blue\",\"blue\",\"blue\",\"blue\",\"blue\",\"blue\",\"blue\",\"blue\",\"blue\",\"blue\",\"blue\",\"blue\",\"blue\",\"blue\",\"blue\",\"blue\",\"blue\",\"blue\",\"blue\",\"blue\",\"blue\",\"blue\",\"blue\",\"blue\",\"blue\",\"blue\",\"blue\",\"blue\",\"blue\",\"blue\",\"blue\",\"blue\",\"blue\",\"blue\",\"blue\",\"blue\",\"blue\",\"blue\",\"blue\",\"blue\",\"blue\",\"blue\",\"blue\",\"blue\",\"blue\",\"blue\",\"blue\",\"blue\",\"blue\",\"blue\",\"blue\",\"blue\",\"blue\",\"blue\",\"blue\",\"blue\",\"blue\",\"blue\",\"blue\",\"blue\",\"blue\",\"blue\",\"blue\",\"blue\",\"blue\",\"blue\",\"blue\",\"blue\",\"blue\",\"blue\",\"blue\",\"blue\",\"blue\",\"blue\",\"blue\",\"blue\",\"blue\",\"blue\",\"blue\",\"blue\",\"blue\",\"blue\",\"blue\",\"blue\",\"blue\",\"blue\",\"blue\",\"blue\",\"blue\",\"blue\",\"blue\",\"blue\",\"blue\",\"blue\",\"blue\",\"blue\",\"blue\",\"blue\",\"blue\",\"blue\",\"blue\",\"blue\",\"blue\",\"blue\",\"blue\",\"blue\",\"blue\",\"blue\",\"blue\",\"blue\",\"blue\",\"blue\",\"blue\",\"blue\",\"blue\",\"blue\",\"blue\",\"blue\",\"blue\",\"blue\",\"blue\",\"blue\",\"blue\",\"blue\",\"blue\",\"blue\",\"blue\",\"blue\",\"blue\",\"blue\",\"blue\",\"blue\",\"blue\",\"blue\",\"blue\",\"blue\",\"blue\",\"blue\",\"blue\",\"blue\",\"blue\",\"blue\",\"blue\",\"blue\",\"blue\",\"blue\",\"blue\",\"blue\",\"blue\",\"blue\",\"blue\",\"blue\",\"blue\",\"blue\",\"blue\",\"blue\",\"blue\",\"blue\",\"blue\",\"blue\",\"blue\",\"blue\",\"blue\",\"blue\",\"blue\",\"blue\",\"blue\",\"blue\",\"blue\",\"blue\",\"blue\",\"blue\",\"blue\",\"blue\",\"blue\",\"blue\",\"blue\",\"blue\",\"blue\",\"blue\",\"blue\",\"blue\",\"blue\",\"blue\",\"blue\",\"blue\",\"blue\",\"blue\",\"blue\",\"blue\",\"blue\",\"blue\",\"blue\",\"blue\",\"blue\",\"blue\",\"blue\",\"blue\",\"blue\",\"blue\",\"blue\",\"blue\",\"blue\",\"blue\",\"blue\",\"blue\",\"blue\",\"blue\",\"blue\",\"blue\",\"blue\",\"blue\",\"blue\",\"blue\",\"blue\",\"blue\",\"blue\",\"blue\",\"blue\",\"blue\",\"blue\",\"blue\",\"blue\",\"blue\",\"blue\",\"blue\",\"blue\",\"blue\",\"blue\",\"blue\",\"blue\",\"blue\",\"blue\",\"blue\",\"blue\",\"blue\",\"blue\",\"blue\",\"blue\",\"blue\",\"blue\",\"blue\",\"blue\",\"blue\",\"blue\",\"blue\",\"blue\",\"blue\",\"blue\",\"blue\",\"blue\",\"blue\",\"blue\",\"blue\",\"blue\",\"blue\",\"blue\",\"blue\",\"blue\",\"blue\",\"blue\",\"blue\",\"blue\",\"blue\",\"blue\",\"blue\",\"blue\",\"blue\",\"blue\",\"blue\",\"blue\",\"blue\",\"blue\",\"blue\",\"blue\",\"blue\",\"blue\",\"blue\",\"blue\",\"blue\",\"blue\",\"blue\",\"blue\",\"blue\",\"blue\",\"blue\",\"blue\",\"blue\",\"blue\",\"blue\",\"blue\",\"blue\",\"blue\",\"blue\",\"blue\",\"blue\",\"blue\",\"blue\",\"blue\",\"blue\",\"blue\",\"blue\",\"blue\",\"blue\",\"blue\",\"blue\",\"blue\",\"blue\",\"blue\",\"blue\",\"blue\",\"blue\",\"blue\",\"blue\",\"blue\",\"blue\",\"blue\",\"blue\",\"blue\",\"blue\",\"blue\",\"blue\",\"blue\",\"blue\",\"blue\",\"blue\",\"blue\",\"blue\",\"blue\",\"blue\",\"blue\",\"blue\",\"blue\",\"blue\",\"blue\",\"blue\",\"blue\",\"blue\",\"blue\",\"blue\",\"blue\",\"blue\",\"blue\",\"blue\",\"blue\",\"blue\",\"blue\",\"blue\",\"blue\",\"blue\",\"blue\",\"blue\",\"blue\",\"blue\",\"blue\",\"blue\",\"blue\",\"blue\",\"blue\",\"blue\",\"blue\",\"blue\",\"blue\",\"blue\",\"blue\",\"blue\",\"blue\",\"blue\",\"blue\",\"blue\",\"blue\",\"blue\",\"blue\",\"blue\",\"blue\",\"blue\",\"blue\",\"blue\",\"blue\",\"blue\",\"blue\",\"blue\",\"blue\",\"blue\",\"blue\",\"blue\",\"blue\",\"blue\",\"blue\",\"blue\",\"blue\",\"blue\",\"blue\",\"blue\",\"blue\",\"blue\",\"blue\",\"blue\",\"blue\",\"blue\",\"blue\",\"blue\",\"blue\",\"blue\",\"blue\",\"blue\",\"blue\",\"blue\",\"blue\",\"blue\",\"blue\",\"blue\",\"blue\",\"blue\",\"blue\",\"blue\",\"blue\",\"blue\",\"blue\",\"blue\",\"blue\",\"blue\",\"blue\",\"blue\",\"blue\",\"blue\",\"blue\",\"blue\",\"blue\",\"blue\",\"blue\",\"blue\",\"blue\",\"blue\",\"blue\",\"blue\",\"blue\",\"blue\",\"blue\",\"blue\",\"blue\",\"blue\",\"blue\",\"blue\",\"blue\",\"blue\",\"blue\",\"blue\",\"blue\",\"blue\",\"blue\",\"blue\",\"blue\",\"blue\",\"blue\",\"blue\",\"blue\",\"blue\",\"blue\",\"blue\",\"blue\",\"blue\",\"blue\",\"blue\",\"blue\",\"blue\",\"blue\",\"blue\",\"blue\",\"blue\",\"blue\",\"blue\",\"blue\",\"blue\",\"blue\",\"blue\",\"blue\",\"blue\",\"blue\",\"blue\",\"blue\",\"blue\",\"blue\",\"blue\",\"blue\",\"blue\",\"blue\",\"blue\",\"blue\",\"blue\",\"blue\",\"blue\",\"blue\",\"blue\",\"blue\",\"blue\",\"blue\",\"blue\",\"blue\",\"blue\",\"blue\",\"blue\",\"blue\",\"blue\",\"blue\",\"blue\",\"blue\",\"blue\",\"blue\",\"blue\",\"blue\",\"blue\",\"blue\",\"blue\",\"blue\",\"blue\",\"blue\",\"blue\",\"blue\",\"blue\",\"blue\",\"blue\",\"blue\",\"blue\",\"blue\",\"blue\",\"blue\",\"blue\",\"blue\",\"blue\",\"blue\",\"blue\",\"blue\",\"blue\",\"blue\",\"blue\",\"blue\",\"blue\",\"blue\",\"blue\",\"blue\",\"blue\",\"blue\",\"blue\",\"blue\",\"blue\",\"blue\",\"blue\",\"blue\",\"blue\",\"blue\",\"blue\",\"blue\",\"blue\",\"blue\",\"blue\",\"blue\",\"blue\",\"blue\",\"blue\",\"blue\",\"blue\",\"blue\",\"blue\",\"blue\",\"blue\",\"blue\",\"blue\",\"blue\",\"blue\",\"blue\",\"blue\",\"blue\",\"blue\",\"blue\",\"blue\",\"blue\",\"blue\",\"blue\",\"blue\",\"blue\",\"blue\",\"blue\",\"blue\",\"blue\",\"blue\",\"blue\",\"blue\",\"blue\",\"blue\",\"blue\",\"blue\",\"blue\",\"blue\",\"blue\",\"blue\",\"blue\",\"blue\",\"blue\",\"blue\",\"blue\",\"blue\",\"blue\",\"blue\",\"blue\",\"blue\",\"blue\",\"blue\",\"blue\",\"blue\",\"blue\",\"blue\",\"blue\",\"blue\",\"blue\",\"blue\",\"blue\",\"blue\",\"blue\",\"blue\",\"blue\",\"blue\",\"blue\",\"blue\",\"blue\",\"blue\",\"blue\",\"blue\",\"blue\",\"blue\",\"blue\",\"blue\",\"blue\",\"blue\",\"blue\",\"blue\",\"blue\",\"blue\",\"blue\",\"blue\",\"blue\",\"blue\",\"blue\",\"blue\",\"blue\",\"blue\",\"blue\",\"blue\",\"blue\",\"blue\",\"blue\",\"blue\",\"blue\",\"blue\",\"blue\",\"blue\",\"blue\",\"blue\",\"blue\",\"blue\",\"blue\",\"blue\",\"blue\",\"blue\",\"blue\",\"blue\",\"blue\",\"blue\",\"blue\",\"blue\",\"blue\",\"blue\",\"blue\",\"blue\",\"blue\",\"blue\",\"blue\",\"blue\",\"blue\",\"blue\",\"blue\",\"blue\",\"blue\",\"blue\",\"blue\",\"blue\",\"blue\",\"blue\",\"blue\",\"blue\",\"blue\",\"blue\",\"blue\",\"blue\",\"blue\",\"blue\",\"blue\",\"blue\",\"blue\",\"blue\",\"blue\",\"blue\",\"blue\",\"blue\",\"blue\",\"blue\",\"blue\",\"blue\",\"blue\",\"blue\",\"blue\",\"blue\",\"blue\",\"blue\",\"blue\",\"blue\",\"blue\",\"blue\",\"blue\",\"blue\",\"blue\",\"blue\",\"blue\",\"blue\",\"blue\",\"blue\",\"blue\",\"blue\",\"blue\",\"blue\",\"blue\",\"blue\",\"blue\",\"blue\",\"blue\",\"blue\",\"blue\",\"blue\",\"blue\",\"blue\",\"blue\",\"blue\",\"blue\",\"blue\",\"blue\",\"blue\",\"blue\",\"blue\",\"blue\",\"blue\",\"blue\",\"blue\",\"blue\",\"blue\",\"blue\",\"blue\",\"blue\",\"blue\",\"blue\",\"blue\",\"blue\",\"blue\",\"blue\",\"blue\",\"blue\",\"blue\",\"blue\",\"blue\",\"blue\",\"blue\",\"blue\",\"blue\",\"blue\",\"blue\",\"blue\",\"blue\",\"blue\",\"blue\",\"blue\",\"blue\",\"blue\",\"blue\",\"blue\",\"blue\",\"blue\",\"blue\",\"blue\",\"blue\",\"blue\",\"blue\",\"blue\",\"blue\",\"blue\",\"blue\",\"blue\",\"blue\",\"blue\",\"blue\",\"blue\",\"blue\",\"blue\",\"blue\",\"blue\",\"blue\",\"blue\",\"blue\",\"blue\",\"blue\",\"blue\",\"blue\",\"blue\",\"blue\",\"blue\",\"blue\",\"blue\",\"blue\",\"blue\",\"blue\",\"blue\",\"blue\",\"blue\",\"blue\",\"blue\",\"blue\",\"blue\",\"blue\",\"blue\",\"blue\",\"blue\",\"blue\",\"blue\",\"blue\",\"blue\",\"blue\",\"blue\",\"blue\",\"blue\",\"blue\",\"blue\",\"blue\",\"blue\",\"blue\",\"blue\",\"blue\",\"blue\",\"blue\",\"blue\",\"blue\",\"blue\",\"blue\",\"blue\",\"blue\",\"blue\",\"blue\",\"blue\",\"blue\",\"blue\",\"blue\",\"blue\",\"blue\",\"blue\",\"blue\",\"blue\",\"blue\",\"blue\",\"blue\",\"blue\",\"blue\",\"blue\",\"blue\",\"blue\",\"blue\",\"blue\",\"blue\",\"blue\",\"blue\",\"blue\",\"blue\",\"blue\",\"blue\",\"blue\",\"blue\",\"blue\",\"blue\",\"blue\",\"blue\",\"blue\",\"blue\",\"blue\",\"blue\",\"blue\",\"blue\",\"blue\",\"blue\",\"blue\",\"blue\",\"blue\",\"blue\",\"blue\",\"blue\",\"blue\",\"blue\",\"blue\",\"blue\",\"blue\",\"blue\",\"blue\",\"blue\",\"blue\",\"blue\",\"blue\",\"blue\",\"blue\",\"blue\",\"blue\",\"blue\",\"blue\",\"blue\",\"blue\",\"blue\",\"blue\",\"blue\",\"blue\",\"blue\",\"blue\",\"blue\",\"blue\",\"blue\",\"blue\",\"blue\",\"blue\",\"blue\",\"blue\",\"blue\",\"blue\",\"blue\",\"blue\",\"blue\",\"blue\",\"blue\",\"blue\",\"blue\",\"blue\",\"blue\",\"blue\",\"blue\",\"blue\",\"blue\",\"blue\",\"blue\",\"blue\",\"blue\",\"blue\",\"blue\",\"blue\",\"blue\",\"blue\",\"blue\",\"blue\",\"blue\",\"blue\",\"blue\",\"blue\",\"blue\",\"blue\",\"blue\",\"blue\",\"blue\",\"blue\",\"blue\",\"blue\",\"blue\",\"blue\",\"blue\",\"blue\",\"blue\",\"blue\",\"blue\",\"blue\",\"blue\",\"blue\",\"blue\",\"blue\",\"blue\",\"blue\",\"blue\",\"blue\",\"blue\",\"blue\",\"blue\",\"blue\",\"blue\",\"blue\",\"blue\",\"blue\",\"blue\",\"blue\",\"blue\",\"blue\",\"blue\",\"blue\",\"blue\",\"blue\",\"blue\",\"blue\",\"blue\",\"blue\",\"blue\",\"blue\",\"blue\",\"blue\",\"blue\",\"blue\",\"blue\",\"blue\",\"blue\",\"blue\",\"blue\",\"blue\",\"blue\",\"blue\",\"blue\",\"blue\",\"blue\",\"blue\",\"blue\",\"blue\",\"blue\",\"blue\",\"blue\",\"blue\",\"blue\",\"blue\",\"blue\",\"blue\",\"blue\",\"blue\",\"blue\",\"blue\",\"blue\",\"blue\",\"blue\",\"blue\",\"blue\",\"blue\",\"blue\",\"blue\",\"blue\",\"blue\",\"blue\",\"blue\",\"blue\",\"blue\",\"blue\",\"blue\",\"blue\",\"blue\",\"blue\",\"blue\",\"blue\",\"blue\",\"blue\",\"blue\",\"blue\",\"blue\",\"blue\",\"blue\",\"blue\",\"blue\",\"blue\",\"blue\",\"blue\",\"blue\",\"blue\",\"blue\",\"blue\",\"blue\",\"blue\",\"blue\",\"blue\",\"blue\",\"blue\",\"blue\",\"blue\",\"blue\",\"blue\",\"blue\",\"blue\",\"blue\",\"blue\",\"blue\",\"blue\",\"blue\",\"blue\",\"blue\",\"blue\",\"blue\",\"blue\",\"blue\",\"blue\",\"blue\",\"blue\",\"blue\",\"blue\",\"blue\",\"blue\",\"blue\",\"blue\",\"blue\",\"blue\",\"blue\",\"blue\",\"blue\",\"blue\",\"blue\",\"blue\",\"blue\",\"blue\",\"blue\",\"blue\",\"blue\",\"blue\",\"blue\",\"blue\",\"blue\",\"blue\",\"blue\",\"blue\",\"blue\",\"blue\",\"blue\",\"blue\",\"blue\",\"blue\",\"blue\",\"blue\",\"blue\",\"blue\",\"blue\",\"blue\",\"blue\",\"blue\",\"blue\",\"blue\",\"blue\",\"blue\",\"blue\",\"blue\",\"blue\",\"blue\",\"blue\",\"blue\",\"blue\",\"blue\",\"blue\",\"blue\",\"blue\",\"blue\",\"blue\",\"blue\",\"blue\",\"blue\",\"blue\",\"blue\",\"blue\",\"blue\",\"blue\",\"blue\",\"blue\",\"blue\",\"blue\",\"blue\",\"blue\",\"blue\",\"blue\",\"blue\",\"blue\",\"blue\",\"blue\",\"blue\",\"blue\",\"blue\",\"blue\",\"blue\",\"blue\",\"blue\",\"blue\",\"blue\",\"blue\",\"blue\",\"blue\",\"blue\",\"blue\",\"blue\",\"blue\",\"blue\",\"blue\",\"blue\",\"blue\",\"blue\",\"blue\",\"blue\",\"blue\",\"blue\",\"blue\",\"blue\",\"blue\",\"blue\",\"blue\",\"blue\",\"blue\",\"blue\",\"blue\",\"blue\",\"blue\",\"blue\",\"blue\",\"blue\",\"blue\",\"blue\",\"blue\",\"blue\",\"blue\",\"blue\",\"blue\",\"blue\",\"blue\",\"blue\",\"blue\",\"blue\",\"blue\",\"blue\",\"blue\",\"blue\",\"blue\",\"blue\",\"blue\",\"blue\",\"blue\",\"blue\",\"blue\",\"blue\",\"blue\",\"blue\",\"blue\",\"blue\",\"blue\",\"blue\",\"blue\",\"blue\",\"blue\",\"blue\",\"blue\",\"blue\",\"blue\",\"blue\",\"blue\",\"blue\",\"blue\",\"blue\",\"blue\",\"blue\",\"blue\",\"blue\",\"blue\",\"blue\",\"blue\",\"blue\",\"blue\",\"blue\",\"blue\",\"blue\",\"blue\",\"blue\",\"blue\",\"blue\",\"blue\",\"blue\",\"blue\",\"blue\",\"blue\",\"blue\",\"blue\",\"blue\",\"blue\",\"blue\",\"blue\",\"blue\",\"blue\",\"blue\",\"blue\",\"blue\",\"blue\",\"blue\",\"blue\",\"blue\",\"blue\",\"blue\",\"blue\",\"blue\",\"blue\",\"blue\",\"blue\",\"blue\",\"blue\",\"blue\",\"blue\",\"blue\",\"blue\",\"blue\",\"blue\",\"blue\",\"blue\",\"blue\",\"blue\",\"blue\",\"blue\",\"blue\",\"blue\",\"blue\",\"blue\",\"blue\",\"blue\",\"blue\",\"blue\",\"blue\",\"blue\",\"blue\",\"blue\",\"blue\",\"blue\",\"blue\",\"blue\",\"blue\",\"blue\",\"blue\",\"blue\",\"blue\",\"blue\",\"blue\",\"blue\",\"blue\",\"blue\",\"blue\",\"blue\",\"blue\",\"blue\",\"blue\",\"blue\",\"blue\",\"blue\",\"blue\",\"blue\",\"blue\",\"blue\",\"blue\",\"blue\",\"blue\",\"blue\",\"blue\",\"blue\",\"blue\",\"blue\",\"blue\",\"blue\",\"blue\",\"blue\",\"blue\",\"blue\",\"blue\",\"blue\",\"blue\",\"blue\",\"blue\",\"blue\",\"blue\",\"blue\",\"blue\",\"blue\",\"blue\",\"blue\",\"blue\",\"blue\",\"blue\",\"blue\",\"blue\",\"blue\",\"blue\",\"blue\",\"blue\",\"blue\",\"blue\",\"blue\",\"blue\",\"blue\",\"blue\",\"blue\",\"blue\",\"blue\",\"blue\",\"blue\",\"blue\",\"blue\",\"blue\",\"blue\",\"blue\",\"blue\",\"blue\",\"blue\",\"blue\",\"blue\",\"blue\",\"blue\",\"blue\",\"blue\",\"blue\",\"blue\",\"blue\",\"blue\",\"blue\",\"blue\",\"blue\",\"blue\",\"blue\",\"blue\",\"blue\",\"blue\",\"blue\",\"blue\",\"blue\",\"blue\",\"blue\",\"blue\",\"blue\",\"blue\",\"blue\",\"blue\",\"blue\",\"blue\",\"blue\",\"blue\",\"blue\",\"blue\",\"blue\",\"blue\",\"blue\",\"blue\",\"blue\",\"blue\",\"blue\",\"blue\",\"blue\",\"blue\",\"blue\",\"blue\",\"blue\",\"blue\",\"blue\",\"blue\",\"blue\",\"blue\",\"blue\",\"blue\",\"blue\",\"blue\",\"blue\",\"blue\",\"blue\",\"blue\",\"blue\",\"blue\",\"blue\",\"blue\",\"blue\",\"blue\",\"blue\",\"blue\",\"blue\",\"blue\",\"blue\",\"blue\",\"blue\",\"blue\",\"blue\",\"blue\",\"blue\",\"blue\",\"blue\",\"blue\",\"blue\",\"blue\",\"blue\",\"blue\",\"blue\",\"blue\",\"blue\",\"blue\",\"blue\",\"blue\",\"blue\",\"blue\",\"blue\",\"blue\",\"blue\",\"blue\",\"blue\",\"blue\",\"blue\",\"blue\",\"blue\",\"blue\",\"blue\",\"blue\",\"blue\",\"blue\",\"blue\",\"blue\",\"blue\",\"blue\",\"blue\",\"blue\",\"blue\",\"blue\",\"blue\",\"blue\",\"blue\",\"blue\",\"blue\",\"blue\",\"blue\",\"blue\",\"blue\",\"blue\",\"blue\",\"blue\",\"blue\",\"blue\",\"blue\",\"blue\",\"blue\",\"blue\",\"blue\",\"blue\",\"blue\",\"blue\",\"blue\",\"blue\",\"blue\",\"blue\",\"blue\",\"blue\",\"blue\",\"blue\",\"blue\",\"blue\",\"blue\",\"blue\",\"blue\",\"blue\",\"blue\",\"blue\",\"blue\",\"blue\",\"blue\",\"blue\",\"blue\",\"blue\",\"blue\",\"blue\",\"blue\",\"blue\",\"blue\",\"blue\",\"blue\",\"blue\",\"blue\",\"blue\",\"blue\",\"blue\",\"blue\",\"blue\",\"blue\",\"blue\",\"blue\",\"blue\",\"blue\",\"blue\",\"blue\",\"blue\",\"blue\",\"blue\",\"blue\",\"blue\",\"blue\",\"blue\",\"blue\",\"blue\",\"blue\",\"blue\",\"blue\",\"blue\",\"blue\",\"blue\",\"blue\",\"blue\",\"blue\",\"blue\",\"blue\",\"blue\",\"blue\",\"blue\",\"blue\",\"blue\",\"blue\",\"blue\",\"blue\",\"blue\",\"blue\",\"blue\",\"blue\",\"blue\",\"blue\",\"blue\",\"blue\",\"blue\",\"blue\",\"blue\",\"blue\",\"blue\",\"blue\",\"blue\",\"blue\",\"blue\",\"blue\",\"blue\",\"blue\",\"blue\",\"blue\",\"blue\",\"blue\",\"blue\",\"blue\",\"blue\",\"blue\",\"blue\",\"blue\",\"blue\",\"blue\",\"blue\",\"blue\",\"blue\",\"blue\",\"blue\",\"blue\",\"blue\",\"blue\",\"blue\",\"blue\",\"blue\",\"blue\",\"blue\",\"blue\",\"blue\",\"blue\",\"blue\",\"blue\",\"blue\",\"blue\",\"blue\",\"blue\",\"blue\",\"blue\",\"blue\",\"blue\",\"blue\",\"blue\",\"blue\",\"blue\",\"blue\",\"blue\",\"blue\",\"blue\",\"blue\",\"blue\",\"blue\",\"blue\",\"blue\",\"blue\",\"blue\",\"blue\",\"blue\",\"blue\",\"blue\",\"blue\",\"blue\",\"blue\",\"blue\",\"blue\",\"blue\",\"blue\",\"blue\",\"blue\",\"blue\",\"blue\",\"blue\",\"blue\",\"blue\",\"blue\",\"blue\",\"blue\",\"blue\",\"blue\",\"blue\",\"blue\",\"blue\",\"blue\",\"blue\",\"blue\",\"blue\",\"blue\",\"blue\",\"blue\",\"blue\",\"blue\",\"blue\",\"blue\",\"blue\",\"blue\",\"blue\",\"blue\",\"blue\",\"blue\",\"blue\",\"blue\",\"blue\",\"blue\",\"blue\",\"blue\",\"blue\",\"blue\",\"blue\",\"blue\",\"blue\",\"blue\",\"blue\",\"blue\",\"blue\",\"blue\",\"blue\",\"blue\",\"blue\",\"blue\",\"blue\",\"blue\",\"blue\",\"blue\",\"blue\",\"blue\",\"blue\",\"blue\",\"blue\",\"blue\",\"blue\",\"blue\",\"blue\",\"blue\",\"blue\",\"blue\",\"blue\",\"blue\",\"blue\",\"blue\",\"blue\",\"blue\",\"blue\",\"blue\",\"blue\",\"blue\",\"blue\",\"blue\",\"blue\",\"blue\",\"blue\",\"blue\",\"blue\",\"blue\",\"blue\",\"blue\",\"blue\",\"blue\",\"blue\",\"blue\",\"blue\",\"blue\",\"blue\",\"blue\",\"blue\",\"blue\",\"blue\",\"blue\",\"blue\",\"blue\",\"blue\",\"blue\",\"blue\",\"blue\",\"blue\",\"blue\",\"blue\",\"blue\",\"blue\",\"blue\",\"blue\",\"blue\",\"blue\",\"blue\",\"blue\",\"blue\",\"blue\",\"blue\",\"blue\",\"blue\",\"blue\",\"blue\",\"blue\",\"blue\",\"blue\",\"blue\",\"blue\",\"blue\",\"blue\",\"blue\",\"blue\",\"blue\",\"blue\",\"blue\",\"blue\",\"blue\",\"blue\",\"blue\",\"blue\",\"blue\",\"blue\",\"blue\",\"blue\",\"blue\",\"blue\",\"blue\",\"blue\",\"blue\",\"blue\",\"blue\",\"blue\",\"blue\",\"blue\",\"blue\",\"blue\",\"blue\",\"blue\",\"blue\",\"blue\",\"blue\",\"blue\",\"blue\",\"blue\",\"blue\",\"blue\",\"blue\",\"blue\",\"blue\",\"blue\",\"blue\",\"blue\",\"blue\",\"blue\",\"blue\",\"blue\",\"blue\",\"blue\",\"blue\",\"blue\",\"blue\",\"blue\",\"blue\",\"blue\",\"blue\",\"blue\",\"blue\",\"blue\",\"blue\",\"blue\",\"blue\",\"blue\",\"blue\",\"blue\",\"blue\",\"blue\",\"blue\",\"blue\",\"blue\",\"blue\",\"blue\",\"blue\",\"blue\",\"blue\",\"blue\",\"blue\",\"blue\",\"blue\",\"blue\",\"blue\",\"blue\",\"blue\",\"blue\",\"blue\",\"blue\",\"blue\",\"blue\",\"blue\",\"blue\",\"blue\",\"blue\",\"blue\",\"blue\",\"blue\",\"blue\",\"blue\",\"blue\",\"blue\",\"blue\",\"blue\",\"blue\",\"blue\",\"blue\",\"blue\",\"blue\",\"blue\",\"blue\",\"blue\",\"blue\",\"blue\",\"blue\",\"blue\",\"blue\",\"blue\",\"blue\",\"blue\",\"blue\",\"blue\",\"blue\",\"blue\",\"blue\",\"blue\",\"blue\",\"blue\",\"blue\",\"blue\",\"blue\",\"blue\",\"blue\",\"blue\",\"blue\",\"blue\",\"blue\",\"blue\",\"blue\",\"blue\",\"blue\",\"blue\",\"blue\",\"blue\",\"blue\",\"blue\",\"blue\",\"blue\",\"blue\",\"blue\",\"blue\",\"blue\",\"blue\",\"blue\",\"blue\",\"blue\",\"blue\",\"blue\",\"blue\",\"blue\",\"blue\",\"blue\",\"blue\",\"blue\",\"blue\",\"blue\",\"blue\",\"blue\",\"blue\",\"blue\",\"blue\",\"blue\",\"blue\",\"blue\",\"blue\",\"blue\",\"blue\",\"blue\",\"blue\",\"blue\",\"blue\",\"blue\",\"blue\",\"blue\",\"blue\",\"blue\",\"blue\",\"blue\",\"blue\",\"blue\",\"blue\",\"blue\",\"blue\",\"blue\",\"blue\",\"blue\",\"blue\",\"blue\",\"blue\",\"blue\",\"blue\",\"blue\",\"blue\",\"blue\",\"blue\",\"blue\",\"blue\",\"blue\",\"blue\",\"blue\",\"blue\",\"blue\",\"blue\",\"blue\",\"blue\",\"blue\",\"blue\",\"blue\",\"blue\",\"blue\",\"blue\",\"blue\",\"blue\",\"blue\",\"blue\",\"blue\",\"blue\",\"blue\",\"blue\",\"blue\",\"blue\",\"blue\",\"blue\",\"blue\",\"blue\",\"blue\",\"blue\",\"blue\",\"blue\",\"blue\",\"blue\",\"blue\",\"blue\",\"blue\",\"blue\",\"blue\",\"blue\",\"blue\",\"blue\",\"blue\",\"blue\",\"blue\",\"blue\",\"blue\",\"blue\",\"blue\",\"blue\",\"blue\",\"blue\",\"blue\",\"blue\",\"blue\",\"blue\",\"blue\",\"blue\",\"blue\",\"blue\",\"blue\",\"blue\",\"blue\",\"blue\",\"blue\",\"blue\",\"blue\",\"blue\",\"blue\",\"blue\",\"blue\",\"blue\",\"blue\",\"blue\",\"blue\",\"blue\",\"blue\",\"blue\",\"blue\",\"blue\",\"blue\",\"blue\",\"blue\",\"blue\",\"blue\",\"blue\",\"blue\",\"blue\",\"blue\",\"blue\",\"blue\",\"blue\",\"blue\",\"blue\",\"blue\",\"blue\",\"blue\",\"blue\",\"blue\",\"blue\",\"blue\",\"blue\",\"blue\",\"blue\",\"blue\",\"blue\",\"blue\",\"blue\",\"blue\",\"blue\",\"blue\",\"blue\",\"blue\",\"blue\",\"blue\",\"blue\",\"blue\",\"blue\",\"blue\",\"blue\",\"blue\",\"blue\",\"blue\",\"blue\",\"blue\",\"blue\",\"blue\",\"blue\",\"blue\",\"blue\",\"blue\",\"blue\",\"blue\",\"blue\",\"blue\",\"blue\",\"blue\",\"blue\",\"blue\",\"blue\",\"blue\",\"blue\",\"blue\",\"blue\",\"blue\",\"blue\",\"blue\",\"blue\",\"blue\",\"blue\",\"blue\",\"blue\",\"blue\",\"blue\",\"blue\",\"blue\",\"blue\",\"blue\",\"blue\",\"blue\",\"blue\",\"blue\",\"blue\",\"blue\",\"blue\",\"blue\",\"blue\",\"blue\",\"blue\",\"blue\",\"blue\",\"blue\",\"blue\",\"blue\",\"blue\",\"blue\",\"blue\",\"blue\",\"blue\",\"blue\",\"blue\",\"blue\",\"blue\",\"blue\",\"blue\",\"blue\",\"blue\",\"blue\",\"blue\",\"blue\",\"blue\",\"blue\",\"blue\",\"blue\",\"blue\",\"blue\",\"blue\",\"blue\",\"blue\",\"blue\",\"blue\",\"blue\",\"blue\",\"blue\",\"blue\",\"blue\",\"blue\",\"blue\",\"blue\",\"blue\",\"blue\",\"blue\",\"blue\",\"blue\",\"blue\",\"blue\",\"blue\",\"blue\",\"blue\",\"blue\",\"blue\",\"blue\",\"blue\",\"blue\",\"blue\",\"blue\",\"blue\",\"blue\",\"blue\",\"blue\",\"blue\",\"blue\",\"blue\",\"blue\",\"blue\",\"blue\",\"blue\",\"blue\",\"blue\",\"blue\",\"blue\",\"blue\",\"blue\",\"blue\",\"blue\",\"blue\",\"blue\",\"blue\",\"blue\",\"blue\",\"blue\",\"blue\",\"blue\",\"blue\",\"blue\",\"blue\",\"blue\",\"blue\",\"blue\",\"blue\",\"blue\",\"blue\",\"blue\",\"blue\",\"blue\",\"blue\",\"blue\",\"blue\",\"blue\",\"blue\",\"blue\",\"blue\",\"blue\",\"blue\",\"blue\",\"blue\",\"blue\",\"blue\",\"blue\",\"blue\",\"blue\",\"blue\",\"blue\",\"blue\",\"blue\",\"blue\",\"blue\",\"blue\",\"blue\",\"blue\",\"blue\",\"blue\",\"blue\",\"blue\",\"blue\",\"blue\",\"blue\",\"blue\",\"blue\",\"blue\",\"blue\",\"blue\",\"blue\",\"blue\",\"blue\",\"blue\",\"blue\",\"blue\",\"blue\",\"blue\",\"blue\",\"blue\",\"blue\",\"blue\",\"blue\",\"blue\",\"blue\",\"blue\",\"blue\",\"blue\",\"blue\",\"blue\",\"blue\",\"blue\",\"blue\",\"blue\",\"blue\",\"blue\",\"blue\",\"blue\",\"blue\",\"blue\",\"blue\",\"blue\",\"blue\",\"blue\",\"blue\",\"blue\",\"blue\",\"blue\",\"blue\",\"blue\",\"blue\",\"blue\",\"blue\",\"blue\",\"blue\",\"blue\",\"blue\",\"blue\",\"blue\",\"blue\",\"blue\",\"blue\",\"blue\",\"blue\",\"blue\",\"blue\",\"blue\",\"blue\",\"blue\",\"blue\",\"blue\",\"blue\",\"blue\",\"blue\",\"blue\",\"blue\",\"blue\",\"blue\",\"blue\",\"blue\",\"blue\",\"blue\",\"blue\",\"blue\",\"blue\",\"blue\",\"blue\",\"blue\",\"blue\",\"blue\",\"blue\",\"blue\",\"blue\",\"blue\",\"blue\",\"blue\",\"blue\",\"blue\",\"blue\",\"blue\",\"blue\",\"blue\",\"blue\",\"blue\",\"blue\",\"blue\",\"blue\",\"blue\",\"blue\",\"blue\",\"blue\",\"blue\",\"blue\",\"blue\",\"blue\",\"blue\",\"blue\",\"blue\",\"blue\",\"blue\",\"blue\",\"blue\",\"blue\",\"blue\",\"blue\",\"blue\",\"blue\",\"blue\",\"blue\",\"blue\",\"blue\",\"blue\",\"blue\",\"blue\",\"blue\",\"blue\",\"blue\",\"blue\",\"blue\",\"blue\",\"blue\",\"blue\",\"blue\",\"blue\",\"blue\",\"blue\",\"blue\",\"blue\",\"blue\",\"blue\",\"blue\",\"blue\",\"blue\",\"blue\",\"blue\",\"blue\",\"blue\",\"blue\",\"blue\",\"blue\",\"blue\",\"blue\",\"blue\",\"blue\",\"blue\",\"blue\",\"blue\",\"blue\",\"blue\",\"blue\",\"blue\",\"blue\",\"blue\",\"blue\",\"blue\",\"blue\",\"blue\",\"blue\",\"blue\",\"blue\",\"blue\",\"blue\",\"blue\",\"blue\",\"blue\",\"blue\",\"blue\",\"blue\",\"blue\",\"blue\",\"blue\",\"blue\",\"blue\",\"blue\",\"blue\",\"blue\",\"blue\",\"blue\",\"blue\",\"blue\",\"blue\",\"blue\",\"blue\",\"blue\",\"blue\",\"blue\",\"blue\",\"blue\",\"blue\",\"blue\",\"blue\",\"blue\",\"blue\",\"blue\",\"blue\",\"blue\",\"blue\",\"blue\",\"blue\",\"blue\",\"blue\",\"blue\",\"blue\",\"blue\",\"blue\",\"blue\",\"blue\",\"blue\",\"blue\",\"blue\",\"blue\",\"blue\",\"blue\",\"blue\",\"blue\",\"blue\",\"blue\",\"blue\",\"blue\",\"blue\",\"blue\",\"blue\",\"blue\",\"blue\",\"blue\",\"blue\",\"blue\",\"blue\",\"blue\",\"blue\",\"blue\",\"blue\",\"blue\",\"blue\",\"blue\",\"blue\",\"blue\",\"blue\",\"blue\",\"blue\",\"blue\",\"blue\",\"blue\",\"blue\",\"blue\",\"blue\",\"blue\",\"blue\",\"blue\",\"blue\",\"blue\",\"blue\",\"blue\",\"blue\",\"blue\",\"blue\",\"blue\",\"blue\",\"blue\",\"blue\",\"blue\",\"blue\",\"blue\",\"blue\",\"blue\",\"blue\",\"blue\",\"blue\",\"blue\",\"blue\",\"blue\",\"blue\",\"blue\",\"blue\",\"blue\",\"blue\",\"blue\",\"blue\",\"blue\",\"blue\",\"blue\",\"blue\",\"blue\",\"blue\",\"blue\"]],[\"token\",[\"verified\",\"2gb\",\"illinois\",\"jazz\",\"checking\",\"telescope\",\"seasons\",\"astrologer\",\"contribution\",\"homemade\",\"heroes\",\"warcraft\",\"kumar\",\"tester\",\"politically\",\"conquer\",\"columbia\",\"quiet\",\"repeat\",\"kapil\",\"involve\",\"mckinsey\",\"switched\",\"att\",\"instance\",\"innocent\",\"portuguese\",\"subscribers\",\"cabinet\",\"terror\",\"85\",\"rotation\",\"shirts\",\"drawn\",\"bi\",\"aspergers\",\"inspiration\",\"beats\",\"\\u00a3\",\"approximately\",\"asset\",\"empathy\",\"rooting\",\"ia\",\"dandruff\",\"slab\",\"operator\",\"horrible\",\"dominant\",\"ocd\",\"spacetime\",\"blow\",\"installing\",\"learnt\",\"separation\",\"institution\",\"temples\",\"hons\",\"pound\",\"removing\",\"unemployment\",\"greenlit\",\"audit\",\"supplement\",\"roller\",\"dota\",\"tiny\",\"equally\",\"braces\",\"aggressive\",\"corn\",\"camps\",\"additional\",\"consent\",\"granted\",\"welfare\",\"myths\",\"stations\",\"timeline\",\"psychologist\",\"nagpur\",\"herself\",\"cooper\",\"exgirlfriend\",\"intercourse\",\"flip\",\"hurts\",\"lpa\",\"nerve\",\"tvs\",\"halloween\",\"screenshot\",\"biomedical\",\"covered\",\"milky\",\"onsite\",\"aside\",\"meaningful\",\"stretch\",\"joker\",\"encounter\",\"tone\",\"founders\",\"talked\",\"respectively\",\"downloads\",\"cocaine\",\"toxic\",\"sword\",\"fuck\",\"trainer\",\"partition\",\"boxing\",\"grid\",\"practicing\",\"menu\",\"cms\",\"indore\",\"ate\",\"volunteer\",\"misconceptions\",\"pics\",\"flies\",\"instantly\",\"trans\",\"friday\",\"sociopaths\",\"ctc\",\"hoax\",\"detailed\",\"sizes\",\"rejection\",\"limitations\",\"bharat\",\"kissing\",\"renewable\",\"oriented\",\"countrys\",\"dumps\",\"spiders\",\"technological\",\"advertisement\",\"headache\",\"zodiac\",\"accommodation\",\"venus\",\"calcium\",\"passenger\",\"falls\",\"overnight\",\"pickup\",\"gary\",\"transportation\",\"odds\",\"jupiter\",\"purchasing\",\"fluently\",\"flu\",\"photons\",\"conductor\",\"ohio\",\"balaji\",\"mcdonalds\",\"betting\",\"irrational\",\"sachin\",\"deactivate\",\"estimate\",\"hairs\",\"fluent\",\"errors\",\"remaining\",\"marriages\",\"medieval\",\"charles\",\"spider\",\"oxford\",\"gita\",\"races\",\"liquor\",\"poland\",\"lease\",\"co2\",\"selenium\",\"attempts\",\"crystal\",\"manaphy\",\"knight\",\"collapsed\",\"wheels\",\"behaviour\",\"bitcoins\",\"parliament\",\"himher\",\"handsome\",\"thousands\",\"caring\",\"kings\",\"lucky\",\"workplace\",\"condom\",\"intuitive\",\"chronic\",\"eyesight\",\"simulation\",\"prank\",\"quickest\",\"concert\",\"popularity\",\"connections\",\"disorders\",\"scripting\",\"appearance\",\"js\",\"depth\",\"cheque\",\"longterm\",\"documentaries\",\"dioxide\",\"bright\",\"info\",\"diseases\",\"appeal\",\"snap\",\"smoked\",\"singers\",\"boil\",\"probably\",\"temperatures\",\"appearing\",\"olive\",\"ntse\",\"telecom\",\"brief\",\"discrimination\",\"ethnic\",\"cache\",\"passionate\",\"shoulder\",\"assault\",\"marshmallow\",\"momentum\",\"yr\",\"migrate\",\"retire\",\"cet\",\"canvas\",\"vietnamese\",\"institutions\",\"meter\",\"roots\",\"integer\",\"imported\",\"ants\",\"lyft\",\"piercing\",\"il\",\"poop\",\"organisms\",\"ve\",\"entropy\",\"calm\",\"saddest\",\"toward\",\"myth\",\"sight\",\"filling\",\"hdmi\",\"satisfied\",\"transactions\",\"pharmacy\",\"nursing\",\"correlation\",\"regression\",\"awake\",\"md\",\"nri\",\"recommendations\",\"bin\",\"finland\",\"multi\",\"voted\",\"discovery\",\"edward\",\"touching\",\"immigrant\",\"geometry\",\"indicate\",\"ourselves\",\"texting\",\"seek\",\"expecting\",\"dj\",\"brake\",\"helicopter\",\"blonde\",\"triple\",\"ladies\",\"vivekananda\",\"switching\",\"prostitution\",\"banana\",\"magazines\",\"shippuden\",\"lucknow\",\"2019\",\"failing\",\"elizabeth\",\"irish\",\"ebook\",\"temporary\",\"governor\",\"wasting\",\"weekends\",\"cpt\",\"wax\",\"labor\",\"instruments\",\"instrumentation\",\"hates\",\"hip\",\"arnab\",\"bubble\",\"employers\",\"aadhaar\",\"boyfriends\",\"jake\",\"explained\",\"yesterday\",\"beta\",\"extrovert\",\"andhra\",\"micromax\",\"vertical\",\"lay\",\"nonprofit\",\"dubbed\",\"typing\",\"automotive\",\"thomas\",\"procedures\",\"priority\",\"funded\",\"arabs\",\"siblings\",\"guinea\",\"missile\",\"luck\",\"strategic\",\"defend\",\"module\",\"tuition\",\"acids\",\"controller\",\"committee\",\"housing\",\"integral\",\"peaceful\",\"refugees\",\"prescription\",\"interns\",\"supported\",\"womans\",\"dentist\",\"wives\",\"village\",\"affecting\",\"lte\",\"beaches\",\"austin\",\"substance\",\"engagement\",\"trainee\",\"measures\",\"trailer\",\"purchased\",\"15000\",\"uttar\",\"glue\",\"dtu\",\"medal\",\"photon\",\"engg\",\"violin\",\"column\",\"somehow\",\"rotate\",\"3000\",\"virat\",\"forgotten\",\"fingers\",\"slim\",\"arrest\",\"covalent\",\"ncert\",\"kernel\",\"da\",\"alarm\",\"ngo\",\"4gb\",\"productivity\",\"planned\",\"district\",\"berlin\",\"lists\",\"leads\",\"slang\",\"defence\",\"aspiring\",\"56\",\"enemy\",\"farming\",\"muller\",\"pays\",\"liver\",\"membrane\",\"secretly\",\"plug\",\"gum\",\"eclipse\",\"chewing\",\"labs\",\"zombie\",\"authority\",\"males\",\"argentina\",\"tasks\",\"fell\",\"nails\",\"palestine\",\"tanks\",\"identical\",\"deck\",\"qualification\",\"leadership\",\"kohli\",\"pronunciation\",\"hello\",\"violent\",\"sabha\",\"respiration\",\"transform\",\"warranty\",\"faculty\",\"adolf\",\"expenses\",\"jersey\",\"mercury\",\"whiskey\",\"tackle\",\"tweet\",\"blame\",\"cruise\",\"mahindra\",\"discharge\",\"reduced\",\"vodka\",\"mahatma\",\"bass\",\"compete\",\"stains\",\"pill\",\"swim\",\"ali\",\"gf\",\"ford\",\"prince\",\"sweat\",\"performing\",\"limits\",\"leonardo\",\"cow\",\"resolve\",\"matters\",\"pharmaceutical\",\"ray\",\"remotely\",\"pf\",\"clinical\",\"bpo\",\"homeless\",\"husbands\",\"rising\",\"newtons\",\"outcome\",\"derivative\",\"alpha\",\"grown\",\"capitalism\",\"astronaut\",\"hybrid\",\"palm\",\"teens\",\"hits\",\"airplanes\",\"none\",\"admin\",\"applicable\",\"amcat\",\"spam\",\"neutrality\",\"pixel\",\"festival\",\"faces\",\"molar\",\"snakes\",\"sip\",\"kik\",\"farm\",\"ltd\",\"votes\",\"publishing\",\"comfort\",\"frontend\",\"spin\",\"diagnosed\",\"buildings\",\"\\u00b0\",\"cashless\",\"addictive\",\"extinct\",\"ugc\",\"coke\",\"llb\",\"phrases\",\"struggle\",\"drives\",\"fiber\",\"grocery\",\"achieved\",\"penny\",\"bath\",\"allies\",\"uninstall\",\"ny\",\"appears\",\"effort\",\"satellites\",\"confirmed\",\"loneliness\",\"illuminati\",\"uri\",\"lucid\",\"preferably\",\"neither\",\"\\u221a\",\"pacific\",\"americas\",\"bs\",\"graduated\",\"bills\",\"tube\",\"germans\",\"assume\",\"cleared\",\"mate\",\"divide\",\"versions\",\"fallen\",\"journey\",\"anthem\",\"certificates\",\"looked\",\"sponsor\",\"useless\",\"dependent\",\"invite\",\"guru\",\"keyword\",\"aipmt\",\"clone\",\"kgs\",\"chip\",\"origins\",\"wide\",\"motivational\",\"elite\",\"wanna\",\"unity\",\"cough\",\"connecting\",\"mystery\",\"kim\",\"syrian\",\"voldemort\",\"responsibilities\",\"molecules\",\"boobs\",\"holidays\",\"tutorial\",\"circumstances\",\"fiitjee\",\"islands\",\"bypass\",\"slowly\",\"mixture\",\"aluminum\",\"salesforce\",\"twin\",\"iot\",\"remedy\",\"sheets\",\"pole\",\"hated\",\"females\",\"protected\",\"irs\",\"insecure\",\"entering\",\"neuroscience\",\"offices\",\"delta\",\"suggestion\",\"snapdeal\",\"backstory\",\"periodic\",\"cancelled\",\"mans\",\"complicated\",\"bitsat\",\"pleasure\",\"loop\",\"dropbox\",\"selfish\",\"nude\",\"20000\",\"voter\",\"variables\",\"victory\",\"closest\",\"compensation\",\"extended\",\"locations\",\"cracked\",\"perks\",\"ended\",\"exit\",\"awareness\",\"pakistanis\",\"ebooks\",\"bull\",\"unblock\",\"100000\",\"entrepreneurship\",\"infrastructure\",\"scotland\",\"guest\",\"attacked\",\"hurting\",\"lion\",\"reject\",\"purposes\",\"knife\",\"thai\",\"ipl\",\"knee\",\"accepting\",\"spent\",\"punjabi\",\"tab\",\"quoras\",\"caffeine\",\"athletes\",\"ink\",\"cooked\",\"improving\",\"invaded\",\"allah\",\"thermodynamics\",\"mortgage\",\"firsttime\",\"achievements\",\"issued\",\"breath\",\"award\",\"llc\",\"legends\",\"mood\",\"influenced\",\"proteins\",\"holy\",\"performed\",\"pee\",\"blocks\",\"molecule\",\"interests\",\"imei\",\"requires\",\"cisco\",\"moves\",\"marrying\",\"mca\",\"perfectly\",\"iisc\",\"corporation\",\"shiva\",\"viruses\",\"difficulty\",\"50000\",\"volte\",\"shampoo\",\"secular\",\"transplant\",\"ghz\",\"ahead\",\"crew\",\"interact\",\"depend\",\"hawaii\",\"hiv\",\"evening\",\"vegetable\",\"revenge\",\"suppose\",\"busy\",\"label\",\"rogue\",\"rational\",\"hillstation\",\"brains\",\"urdu\",\"imagine\",\"salaries\",\"survey\",\"g4\",\"butt\",\"manufacturers\",\"saas\",\"residency\",\"recommendation\",\"purple\",\"fault\",\"aadhar\",\"aging\",\"bhopal\",\"conducted\",\"loses\",\"infection\",\"forest\",\"impacts\",\"collection\",\"fridge\",\"diamond\",\"mis\",\"recorded\",\"march\",\"conditioner\",\"signature\",\"listed\",\"branches\",\"manchester\",\"wanting\",\"perception\",\"absolutely\",\"servers\",\"soluble\",\"swami\",\"lumia\",\"directors\",\"52\",\"2008\",\"gaining\",\"stereotypes\",\"homes\",\"vegas\",\"jam\",\"behave\",\"relatively\",\"forum\",\"ib\",\"earphones\",\"facilities\",\"april\",\"finally\",\"tail\",\"capacitor\",\"tiger\",\"deaf\",\"deliver\",\"django\",\"expand\",\"skip\",\"nearly\",\"maybe\",\"task\",\"gateway\",\"strangest\",\"abstract\",\"adding\",\"suck\",\"tim\",\"printed\",\"sigma\",\"immigrate\",\"decline\",\"arrested\",\"95\",\"narcissistic\",\"freelancing\",\"patterns\",\"expired\",\"casual\",\"tablets\",\"patients\",\"lean\",\"pieces\",\"laymans\",\"whatever\",\"polish\",\"lemon\",\"abortion\",\"i3\",\"theorem\",\"h\",\"compulsory\",\"helped\",\"sons\",\"feminism\",\"compiler\",\"tested\",\"enhance\",\"adhd\",\"manhattan\",\"iii\",\"nail\",\"eee\",\"deals\",\"excellent\",\"ipo\",\"folder\",\"sand\",\"continuous\",\"capable\",\"libraries\",\"aggregate\",\"64\",\"bsnl\",\"profiles\",\"spirit\",\"pulled\",\"owns\",\"deloitte\",\"therapist\",\"acts\",\"millions\",\"authors\",\"marathi\",\"dvd\",\"coconut\",\"swiss\",\"interaction\",\"ncr\",\"kannada\",\"smallest\",\"advisable\",\"smartest\",\"sorry\",\"normally\",\"ends\",\"rome\",\"spectrum\",\"cousin\",\"75\",\"suzuki\",\"nights\",\"cap\",\"enable\",\"counselling\",\"proxy\",\"margin\",\"shops\",\"hackers\",\"tatkal\",\"opened\",\"cinema\",\"consumption\",\"coal\",\"silent\",\"choosing\",\"introduction\",\"electromagnetic\",\"hcl\",\"complaint\",\"puppies\",\"vc\",\"symbols\",\"lenses\",\"username\",\"arrow\",\"adopted\",\"affects\",\"sudden\",\"pcm\",\"gel\",\"affair\",\"pinterest\",\"statements\",\"supplements\",\"justified\",\"turns\",\"santa\",\"shoe\",\"trek\",\"headphone\",\"girlfriends\",\"verizon\",\"rocket\",\"conference\",\"ego\",\"srm\",\"afghanistan\",\"nucleus\",\"generated\",\"chinas\",\"ww1\",\"consultancy\",\"socially\",\"allen\",\"berkeley\",\"missed\",\"crying\",\"introduced\",\"ps3\",\"flour\",\"brought\",\"elder\",\"minecraft\",\"9th\",\"freelancer\",\"circles\",\"scars\",\"entertainment\",\"turbine\",\"deeply\",\"rom\",\"evolved\",\"nato\",\"strengths\",\"ide\",\"tweets\",\"scholarships\",\"mentor\",\"collect\",\"hdfc\",\"mandarin\",\"solo\",\"terrible\",\"influential\",\"professionals\",\"65\",\"recognition\",\"nvidia\",\"cia\",\"designs\",\"10k\",\"creation\",\"tom\",\"rated\",\"introverts\",\"boiling\",\"communism\",\"treaty\",\"whereas\",\"thanks\",\"cigarette\",\"bengaluru\",\"oneplus\",\"reserve\",\"advertise\",\"nits\",\"helping\",\"bruce\",\"mp3\",\"severe\",\"proposal\",\"cultures\",\"tap\",\"animated\",\"planes\",\"hall\",\"cognitive\",\"supports\",\"keys\",\"gotten\",\"feedback\",\"recording\",\"proceed\",\"membership\",\"console\",\"overseas\",\"hows\",\"william\",\"billionaires\",\"updated\",\"pre\",\"organizations\",\"messi\",\"unexpected\",\"nitrogen\",\"hungry\",\"nigeria\",\"sync\",\"arduino\",\"gross\",\"outer\",\"searching\",\"workers\",\"outlook\",\"europeans\",\"founder\",\"lectures\",\"legitimate\",\"camp\",\"ordinary\",\"investments\",\"bone\",\"raising\",\"quite\",\"ages\",\"joint\",\"johnson\",\"destination\",\"concerned\",\"belief\",\"refrigerator\",\"implications\",\"manga\",\"mandatory\",\"obamas\",\"lawyers\",\"bedroom\",\"icon\",\"qualifications\",\"qa\",\"bikes\",\"boston\",\"holding\",\"session\",\"appointment\",\"weaknesses\",\"iphones\",\"motorcycle\",\"schizophrenia\",\"5th\",\"intellectual\",\"eaten\",\"attending\",\"medals\",\"adsense\",\"nda\",\"6th\",\"kali\",\"georgia\",\"wechat\",\"earlier\",\"drone\",\"truck\",\"horse\",\"merchant\",\"torque\",\"seed\",\"backend\",\"holmes\",\"graduating\",\"400\",\"bones\",\"sufficient\",\"participate\",\"rifle\",\"shock\",\"downloaded\",\"earthquake\",\"breasts\",\"secretary\",\"insert\",\"damaged\",\"massive\",\"standing\",\"remainder\",\"programme\",\"holocaust\",\"totally\",\"belt\",\"affairs\",\"nokia\",\"mechanism\",\"pin\",\"scan\",\"fought\",\"superpower\",\"poetry\",\"signals\",\"educated\",\"scariest\",\"trains\",\"closer\",\"weapon\",\"icici\",\"serial\",\"bicycle\",\"terminal\",\"finished\",\"stolen\",\"inspiring\",\"cuisine\",\"spark\",\"sounds\",\"pricing\",\"click\",\"underwear\",\"kidney\",\"bengal\",\"invention\",\"discount\",\"chase\",\"evaluate\",\"distributed\",\"themes\",\"amd\",\"stem\",\"st\",\"genre\",\"vegetables\",\"council\",\"bihar\",\"thick\",\"mouse\",\"worry\",\"newly\",\"updates\",\"candy\",\"prepaid\",\"wet\",\"rap\",\"motors\",\"implemented\",\"theoretical\",\"fabric\",\"mexican\",\"portfolio\",\"technique\",\"icse\",\"expansion\",\"evolutionary\",\"justify\",\"trick\",\"attached\",\"lightning\",\"pitch\",\"armed\",\"einstein\",\"conversion\",\"iitjee\",\"declared\",\"admit\",\"acquisition\",\"innovation\",\"runs\",\"wwe\",\"trial\",\"memories\",\"refuse\",\"netherlands\",\"committed\",\"fraud\",\"jailbreak\",\"settle\",\"badly\",\"approved\",\"eligibility\",\"trend\",\"increases\",\"comic\",\"quorans\",\"cellular\",\"matches\",\"receiving\",\"bmw\",\"vlsi\",\"signed\",\"lakes\",\"350\",\"communications\",\"pork\",\"joined\",\"anyway\",\"differentiate\",\"actresses\",\"29\",\"ethics\",\"premier\",\"hearing\",\"vehicles\",\"drama\",\"instant\",\"lips\",\"dates\",\"july\",\"holiday\",\"coach\",\"malayalam\",\"superior\",\"soviet\",\"plate\",\"throw\",\"worship\",\"bars\",\"sharma\",\"mothers\",\"integrated\",\"clubs\",\"bug\",\"melbourne\",\"co\",\"bisexual\",\"regions\",\"lesson\",\"heads\",\"reader\",\"snake\",\"qualify\",\"paul\",\"causing\",\"disappear\",\"era\",\"lets\",\"qualified\",\"spiritual\",\"wolf\",\"requirement\",\"journalism\",\"studied\",\"lowest\",\"vader\",\"coursera\",\"stark\",\"configuration\",\"verbal\",\"undergrad\",\"dimensions\",\"transition\",\"efficiently\",\"interstellar\",\"locked\",\"summary\",\"chandigarh\",\"ghosts\",\"included\",\"operate\",\"dimension\",\"mount\",\"noticed\",\"rating\",\"somewhere\",\"martin\",\"bra\",\"bird\",\"zuckerberg\",\"sensor\",\"audience\",\"dirty\",\"starbucks\",\"permission\",\"residential\",\"wholesale\",\"assets\",\"clearly\",\"km\",\"invade\",\"ipcc\",\"fb\",\"shell\",\"shave\",\"loud\",\"tip\",\"seeds\",\"sets\",\"polar\",\"although\",\"june\",\"judaism\",\"anti\",\"instrument\",\"seven\",\"shooting\",\"j\",\"portal\",\"tower\",\"github\",\"linked\",\"admitted\",\"punishment\",\"mid\",\"micro\",\"cured\",\"lifestyle\",\"nor\",\"upset\",\"challenge\",\"soap\",\"standards\",\"integration\",\"lottery\",\"lab\",\"williams\",\"odd\",\"soil\",\"sensitive\",\"route\",\"tattoos\",\"coin\",\"declare\",\"frame\",\"differential\",\"bowl\",\"softwares\",\"notifications\",\"maintenance\",\"inner\",\"apples\",\"converted\",\"recruiter\",\"bombay\",\"command\",\"posting\",\"controlled\",\"balls\",\"personally\",\"poker\",\"extract\",\"hired\",\"bugs\",\"providers\",\"loans\",\"calculator\",\"attractions\",\"torrents\",\"keywords\",\"profession\",\"blogging\",\"transport\",\"sue\",\"anonymously\",\"compounds\",\"robot\",\"buddhism\",\"sweet\",\"defense\",\"nobody\",\"uc\",\"defined\",\"division\",\"bags\",\"epic\",\"unhealthy\",\"craziest\",\"urban\",\"combination\",\"pair\",\"laugh\",\"cv\",\"usd\",\"launched\",\"usps\",\"visited\",\"nexus\",\"regularly\",\"brothers\",\"broker\",\"concentrate\",\"agreement\",\"nervous\",\"frozen\",\"detail\",\"sir\",\"situations\",\"borderline\",\"angularjs\",\"abusive\",\"tourism\",\"relate\",\"august\",\"communist\",\"accountant\",\"dumb\",\"arab\",\"b2b\",\"du\",\"thermal\",\"asians\",\"threat\",\"karma\",\"passive\",\"homosexuality\",\"putting\",\"quantitative\",\"relativity\",\"sanskrit\",\"opinions\",\"verify\",\"bear\",\"roll\",\"expanding\",\"teenage\",\"jeans\",\"providing\",\"shared\",\"extreme\",\"mi\",\"vr\",\"progress\",\"greece\",\"cpu\",\"ips\",\"merge\",\"reputation\",\"loving\",\"salman\",\"iss\",\"warm\",\"dental\",\"extension\",\"attraction\",\"fictional\",\"journal\",\"login\",\"secondary\",\"recognize\",\"southern\",\"ph\",\"lunch\",\"wallet\",\"ronaldo\",\"larger\",\"actions\",\"fathers\",\"adopt\",\"claims\",\"bottom\",\"therapy\",\"patient\",\"described\",\"virginity\",\"functional\",\"ionic\",\"chartered\",\"discover\",\"55\",\"21st\",\"biased\",\"mad\",\"northern\",\"onto\",\"liberals\",\"premium\",\"neutral\",\"detect\",\"diagram\",\"sperm\",\"ga\",\"bleach\",\"spread\",\"contributions\",\"activate\",\"prior\",\"safest\",\"holder\",\"360\",\"aim\",\"rental\",\"families\",\"everybody\",\"shut\",\"payments\",\"150\",\"cube\",\"vegan\",\"newspaper\",\"beef\",\"houses\",\"preferred\",\"simultaneously\",\"marked\",\"reactions\",\"emergency\",\"protection\",\"cab\",\"forex\",\"norway\",\"immigrants\",\"googles\",\"ssb\",\"wing\",\"yrs\",\"ensure\",\"spy\",\"reasoning\",\"strange\",\"forgive\",\"turkish\",\"tag\",\"ranking\",\"platforms\",\"fox\",\"existed\",\"walmart\",\"lazy\",\"ears\",\"clock\",\"beam\",\"rare\",\"bush\",\"2011\",\"stops\",\"batteries\",\"certified\",\"naked\",\"worldwide\",\"staying\",\"lifetime\",\"ted\",\"lake\",\"wealthy\",\"transit\",\"stephen\",\"rural\",\"versa\",\"pets\",\"commonly\",\"adults\",\"ultimate\",\"genius\",\"vinegar\",\"allows\",\"aid\",\"retirement\",\"airtel\",\"sciences\",\"mountain\",\"drinks\",\"tour\",\"wind\",\"seattle\",\"disabled\",\"bodies\",\"lesbian\",\"governments\",\"kinetic\",\"tumblr\",\"absolute\",\"author\",\"toilet\",\"whey\",\"sleepy\",\"molecular\",\"watches\",\"inventions\",\"rain\",\"34\",\"angular\",\"o\",\"dish\",\"however\",\"agents\",\"abs\",\"switzerland\",\"transformer\",\"clearing\",\"consciousness\",\"broadband\",\"uae\",\"automatic\",\"opposed\",\"geography\",\"astronauts\",\"decisions\",\"cement\",\"induction\",\"luxury\",\"upvotes\",\"politicians\",\"posted\",\"toefl\",\"kitchen\",\"noise\",\"radius\",\"dye\",\"miles\",\"risks\",\"scientifically\",\"mnc\",\"propose\",\"prepared\",\"iiit\",\"mention\",\"equipment\",\"darth\",\"january\",\"surname\",\"raised\",\"attitude\",\"gta\",\"david\",\"hike\",\"awkward\",\"proven\",\"productive\",\"lg\",\"filled\",\"atmosphere\",\"lee\",\"irctc\",\"addicted\",\"dynamic\",\"employment\",\"weekend\",\"replacement\",\"singing\",\"owners\",\"bipolar\",\"tomorrow\",\"poems\",\"default\",\"kvpy\",\"sauce\",\"competitors\",\"russians\",\"sample\",\"crimes\",\"hang\",\"inspired\",\"furniture\",\"throughout\",\"presence\",\"efficiency\",\"leg\",\"biological\",\"pilani\",\"conversations\",\"inspirational\",\"bachelor\",\"centers\",\"withdraw\",\"fundamental\",\"comparison\",\"november\",\"fifa\",\"penalty\",\"algebra\",\"joke\",\"htc\",\"pilots\",\"collapse\",\"texts\",\"vocabulary\",\"moved\",\"sc\",\"smile\",\"october\",\"dot\",\"genetic\",\"architect\",\"url\",\"51\",\"sore\",\"uniform\",\"re\",\"rails\",\"smaller\",\"marine\",\"terrorists\",\"nazi\",\"breast\",\"politician\",\"subtitles\",\"chosen\",\"egypt\",\"thin\",\"packages\",\"editor\",\"bands\",\"mythology\",\"reasonable\",\"permit\",\"acceptable\",\"seriously\",\"iraq\",\"fever\",\"visitor\",\"honest\",\"friction\",\"offering\",\"smarter\",\"ahmedabad\",\"replaced\",\"resolution\",\"burning\",\"bridge\",\"catholic\",\"calendar\",\"resident\",\"policies\",\"forced\",\"leading\",\"arm\",\"deserve\",\"context\",\"coolest\",\"arranged\",\"arizona\",\"comics\",\"harm\",\"democrats\",\"jail\",\"breed\",\"anywhere\",\"psu\",\"christ\",\"violence\",\"agriculture\",\"objective\",\"moments\",\"infinity\",\"supporting\",\"critical\",\"trees\",\"beyond\",\"bag\",\"vitamin\",\"assembly\",\"solved\",\"array\",\"perspective\",\"pas\",\"wwii\",\"skinny\",\"contains\",\"lift\",\"cleaning\",\"peter\",\"aap\",\"pimples\",\"initial\",\"lesserknown\",\"sights\",\"principles\",\"realize\",\"millionaire\",\"faux\",\"orbit\",\"desire\",\"hi\",\"prophet\",\"suits\",\"careers\",\"thinks\",\"quantity\",\"spots\",\"wage\",\"asleep\",\"sociology\",\"guard\",\"units\",\"structural\",\"operation\",\"pants\",\"w\",\"bulk\",\"possibly\",\"drunk\",\"fired\",\"accident\",\"inch\",\"bottle\",\"aerospace\",\"narcissist\",\"ux\",\"angeles\",\"wood\",\"index\",\"safely\",\"robotics\",\"edition\",\"metals\",\"practices\",\"scheme\",\"interior\",\"diabetes\",\"nobel\",\"youth\",\"lived\",\"september\",\"chief\",\"proposed\",\"assuming\",\"sin\",\"counter\",\"disable\",\"introduce\",\"restore\",\"swimming\",\"intern\",\"answering\",\"mentioned\",\"crash\",\"laser\",\"teenagers\",\"presentation\",\"quran\",\"classified\",\"demonetisation\",\"communicate\",\"cotton\",\"autism\",\"anger\",\"environmental\",\"stable\",\"7th\",\"bread\",\"invited\",\"wisdom\",\"wrote\",\"widely\",\"minor\",\"formal\",\"dreaming\",\"managers\",\"escape\",\"pollution\",\"taiwan\",\"verification\",\"los\",\"figures\",\"26\",\"illness\",\"sides\",\"compatible\",\"pack\",\"conspiracy\",\"hedge\",\"flights\",\"dropped\",\"former\",\"suffer\",\"aware\",\"designers\",\"mahabharata\",\"evolve\",\"weigh\",\"dies\",\"fruits\",\"cc\",\"butter\",\"sharing\",\"atoms\",\"tongue\",\"transaction\",\"poverty\",\"suffering\",\"presidents\",\"resistance\",\"adam\",\"civilization\",\"mining\",\"toronto\",\"stick\",\"increased\",\"wild\",\"freelance\",\"removal\",\"aws\",\"rio\",\"principle\",\"asus\",\"cute\",\"consumer\",\"pool\",\"variable\",\"tutorials\",\"advance\",\"keeping\",\"visible\",\"cognizant\",\"equations\",\"rooms\",\"krishna\",\"printer\",\"tooth\",\"mentally\",\"realistic\",\"automobile\",\"cake\",\"tie\",\"beach\",\"ghost\",\"comfortable\",\"mysql\",\"oral\",\"closed\",\"helps\",\"maharashtra\",\"admissions\",\"i5\",\"partners\",\"axis\",\"beliefs\",\"neck\",\"clans\",\"hidden\",\"cyber\",\"voting\",\"bacteria\",\"layer\",\"chhattisgarh\",\"5000\",\"sitting\",\"murder\",\"argument\",\"f\",\"privacy\",\"syndrome\",\"2010\",\"bite\",\"vacation\",\"isro\",\"trouble\",\"records\",\"answered\",\"digit\",\"defeat\",\"childhood\",\"5s\",\"gates\",\"f1\",\"town\",\"anal\",\"copper\",\"talks\",\"affiliate\",\"sociopath\",\"installed\",\"static\",\"copyright\",\"animation\",\"donate\",\"stranger\",\"bcom\",\"destroyed\",\"gujarat\",\"foundation\",\"prize\",\"components\",\"foreigner\",\"arms\",\"unlimited\",\"needing\",\"settings\",\"item\",\"eve\",\"competition\",\"landing\",\"beard\",\"patent\",\"ending\",\"2020\",\"incident\",\"petroleum\",\"florida\",\"particularly\",\"ups\",\"generator\",\"leather\",\"heal\",\"experiment\",\"28\",\"passing\",\"talent\",\"remote\",\"300\",\"published\",\"impossible\",\"steam\",\"80\",\"washing\",\"guilty\",\"punjab\",\"70\",\"album\",\"bullet\",\"paris\",\"interface\",\"agencies\",\"mission\",\"digits\",\"modis\",\"recruitment\",\"manipal\",\"telling\",\"meal\",\"orange\",\"stone\",\"links\",\"ab\",\"upper\",\"cameras\",\"p\",\"combat\",\"passion\",\"shower\",\"thailand\",\"beings\",\"grad\",\"27\",\"finger\",\"jump\",\"lights\",\"ui\",\"bba\",\"sweden\",\"arrive\",\"4th\",\"amendment\",\"window\",\"satellite\",\"al\",\"matlab\",\"jokes\",\"muhammad\",\"expression\",\"booking\",\"dinner\",\"skype\",\"lots\",\"2018\",\"teen\",\"finish\",\"dslr\",\"mens\",\"proud\",\"entrepreneurs\",\"ukraine\",\"coins\",\"scenario\",\"transmission\",\"ignore\",\"pride\",\"contribute\",\"grand\",\"curve\",\"false\",\"operations\",\"breakup\",\"eventually\",\"acquire\",\"commission\",\"lies\",\"spoken\",\"pills\",\"masturbating\",\"jackson\",\"airbnb\",\"delivered\",\"disk\",\"radiation\",\"plays\",\"marvel\",\"particle\",\"breakfast\",\"smartphones\",\"relevant\",\"quota\",\"refund\",\"inches\",\"telugu\",\"angel\",\"eastern\",\"inflation\",\"predict\",\"annoying\",\"obc\",\"tough\",\"conduct\",\"originate\",\"notification\",\"backup\",\"harder\",\"richest\",\"pronounce\",\"sri\",\"wheel\",\"wasnt\",\"oldest\",\"sheet\",\"soda\",\"20s\",\"wipro\",\"awesome\",\"facial\",\"z\",\"noida\",\"confident\",\"fbi\",\"corrupt\",\"succeed\",\"reddit\",\"associate\",\"input\",\"guns\",\"rahul\",\"baking\",\"description\",\"musical\",\"apache\",\"nowadays\",\"fluid\",\"capacity\",\"loose\",\"freshman\",\"cfa\",\"optional\",\"theres\",\"ps4\",\"trends\",\"jon\",\"richard\",\"legit\",\"nodejs\",\"document\",\"sexually\",\"particles\",\"singer\",\"printing\",\"captain\",\"valuable\",\"several\",\"aiims\",\"boot\",\"sit\",\"zone\",\"billionaire\",\"floor\",\"gravitational\",\"export\",\"motivation\",\"golden\",\"transgender\",\"healthcare\",\"heaven\",\"81\",\"leaves\",\"listening\",\"overall\",\"press\",\"dishes\",\"railways\",\"warming\",\"enfield\",\"extent\",\"acceleration\",\"afford\",\"bonds\",\"border\",\"registration\",\"cast\",\"hope\",\"shipping\",\"karnataka\",\"specifically\",\"opportunity\",\"arabia\",\"pump\",\"pg\",\"carrier\",\"plot\",\"kingdom\",\"contract\",\"painful\",\"kindle\",\"boring\",\"essential\",\"disney\",\"charger\",\"seconds\",\"measured\",\"honda\",\"ba\",\"makeup\",\"\\u2013\",\"mini\",\"annual\",\"traits\",\"retrieve\",\"willing\",\"swift\",\"consume\",\"hindus\",\"psychopath\",\"tells\",\"solving\",\"conditions\",\"artists\",\"spotify\",\"bomb\",\"integrate\",\"stuck\",\"nikon\",\"gadgets\",\"womens\",\"judge\",\"republicans\",\"vacuum\",\"felt\",\"putin\",\"tennis\",\"concentration\",\"fans\",\"constantly\",\"matrix\",\"secrets\",\"spot\",\"soft\",\"stored\",\"neural\",\"submit\",\"scores\",\"ola\",\"wire\",\"gdp\",\"jaipur\",\"typically\",\"airline\",\"roles\",\"cheaper\",\"machines\",\"shift\",\"impress\",\"basics\",\"32\",\"conservative\",\"birds\",\"tend\",\"duty\",\"setup\",\"rude\",\"pink\",\"church\",\"mine\",\"jack\",\"sending\",\"cooking\",\"versus\",\"expert\",\"olympic\",\"biotechnology\",\"gurgaon\",\"worked\",\"codes\",\"successfully\",\"hardware\",\"faith\",\"pr\",\"television\",\"compound\",\"vit\",\"universal\",\"thank\",\"grammatically\",\"chicago\",\"ivy\",\"worried\",\"enterprise\",\"sodium\",\"railway\",\"remedies\",\"racism\",\"tracking\",\"psychological\",\"apartment\",\"magazine\",\"martial\",\"beauty\",\"waiting\",\"attacks\",\"horror\",\"fantasy\",\"ma\",\"select\",\"increasing\",\"metro\",\"opt\",\"map\",\"watched\",\"gear\",\"icloud\",\"james\",\"comedy\",\"lollipop\",\"ireland\",\"upcoming\",\"italian\",\"oven\",\"emotionally\",\"decided\",\"lakh\",\"grey\",\"kept\",\"produced\",\"mouth\",\"manual\",\"dhoni\",\"fill\",\"throat\",\"shoot\",\"liked\",\"innovative\",\"immediately\",\"lonely\",\"fighting\",\"max\",\"accidentally\",\"schedule\",\"orgasm\",\"rape\",\"ride\",\"muscles\",\"graduates\",\"taller\",\"boost\",\"lakhs\",\"microwave\",\"electrons\",\"upon\",\"attract\",\"ap\",\"abuse\",\"earths\",\"forever\",\"underrated\",\"facing\",\"terrorist\",\"alien\",\"celebrity\",\"frequently\",\"vpn\",\"wales\",\"powder\",\"superman\",\"mixed\",\"caught\",\"goods\",\"beginning\",\"starts\",\"atomic\",\"associated\",\"triangle\",\"parties\",\"banning\",\"k\",\"honey\",\"monitor\",\"graph\",\"leaders\",\"embedded\",\"juice\",\"split\",\"lady\",\"sequence\",\"911\",\"harassment\",\"nepal\",\"pop\",\"habit\",\"setting\",\"edge\",\"ww2\",\"gps\",\"federal\",\"charged\",\"lying\",\"empty\",\"whenever\",\"airplane\",\"jet\",\"destroy\",\"ies\",\"wouldnt\",\"quick\",\"decrease\",\"robert\",\"pradesh\",\"professors\",\"massage\",\"held\",\"spending\",\"markets\",\"objects\",\"chart\",\"mechanics\",\"silver\",\"usage\",\"basketball\",\"gen\",\"periods\",\"identity\",\"individuals\",\"css\",\"soul\",\"ipod\",\"chest\",\"understanding\",\"coast\",\"classic\",\"spain\",\"babies\",\"sd\",\"hostel\",\"shirt\",\"further\",\"logical\",\"franchise\",\"obtain\",\"foreigners\",\"fully\",\"region\",\"designed\",\"cheated\",\"beneficial\",\"shes\",\"accent\",\"couldnt\",\"queen\",\"sick\",\"blowing\",\"properly\",\"stronger\",\"returns\",\"condition\",\"musk\",\"ugly\",\"teams\",\"filter\",\"snow\",\"glasses\",\"employer\",\"solid\",\"followed\",\"embarrassing\",\"auto\",\"meeting\",\"belong\",\"strike\",\"internships\",\"bachelors\",\"administration\",\"temple\",\"wealth\",\"retail\",\"speakers\",\"electoral\",\"headphones\",\"streaming\",\"mirror\",\"diesel\",\"republic\",\"antivirus\",\"customers\",\"atm\",\"vagina\",\"cigarettes\",\"aptitude\",\"lewis\",\"saudi\",\"puppy\",\"recovery\",\"jimmy\",\"obsessed\",\"domestic\",\"pen\",\"batch\",\"de\",\"drawing\",\"ai\",\"medium\",\"simply\",\"photoshop\",\"sms\",\"turning\",\"nadu\",\"appropriate\",\"adobe\",\"substitute\",\"fruit\",\"recipes\",\"fighter\",\"saving\",\"greater\",\"cheat\",\"routine\",\"push\",\"sherlock\",\"arguments\",\"sony\",\"import\",\"soldiers\",\"charges\",\"emotions\",\"ibm\",\"un\",\"innovations\",\"itunes\",\"consultant\",\"iims\",\"relations\",\"psychopaths\",\"existing\",\"angle\",\"clash\",\"bus\",\"australian\",\"crazy\",\"pull\",\"theories\",\"savings\",\"suit\",\"contrast\",\"calculus\",\"pi\",\"credits\",\"bluetooth\",\"himself\",\"traveling\",\"criminal\",\"xiaomi\",\"zealand\",\"seats\",\"electron\",\"script\",\"11th\",\"lessons\",\"programmers\",\"december\",\"flag\",\"singh\",\"arabic\",\"sale\",\"nfl\",\"grammar\",\"killing\",\"virgin\",\"differently\",\"poem\",\"provided\",\"automation\",\"shy\",\"translation\",\"mathematical\",\"45\",\"celebrities\",\"spring\",\"downloading\",\"dr\",\"organization\",\"majority\",\"clients\",\"hd\",\"motivate\",\"thats\",\"thesis\",\"door\",\"weakest\",\"saw\",\"canon\",\"younger\",\"costs\",\"river\",\"rings\",\"factory\",\"decent\",\"clintons\",\"holes\",\"desert\",\"divorce\",\"sold\",\"cheese\",\"atom\",\"taught\",\"minute\",\"ocean\",\"crisis\",\"represent\",\"surgical\",\"parent\",\"brexit\",\"possibility\",\"longest\",\"edit\",\"scholarship\",\"motivated\",\"chocolate\",\"faced\",\"90\",\"parallel\",\"foot\",\"examination\",\"friendly\",\"kinds\",\"wins\",\"islamic\",\"degrees\",\"registered\",\"distribution\",\"junior\",\"gave\",\"sing\",\"articles\",\"hadoop\",\"saved\",\"hero\",\"ear\",\"asks\",\"improved\",\"teenager\",\"forms\",\"wash\",\"provides\",\"washington\",\"strikes\",\"binary\",\"syria\",\"indonesia\",\"powers\",\"highly\",\"heshe\",\"happiness\",\"director\",\"citizenship\",\"knew\",\"humanity\",\"translate\",\"nba\",\"permanently\",\"soccer\",\"todays\",\"challenges\",\"barack\",\"title\",\"latin\",\"fitness\",\"genuine\",\"investor\",\"dislike\",\"scenes\",\"hacker\",\"bangladesh\",\"ebay\",\"earning\",\"dell\",\"paytm\",\"spouse\",\"bored\",\"roman\",\"official\",\"dragon\",\"park\",\"except\",\"habits\",\"quote\",\"astrology\",\"congress\",\"automatically\",\"island\",\"religions\",\"christianity\",\"supreme\",\"owner\",\"hell\",\"wikipedia\",\"cancel\",\"industries\",\"actress\",\"client\",\"visual\",\"michael\",\"remain\",\"ability\",\"concrete\",\"conflict\",\"string\",\"linear\",\"supposed\",\"engines\",\"2012\",\"\\u2018\",\"lesser\",\"traditional\",\"episodes\",\"goals\",\"tata\",\"opening\",\"target\",\"weak\",\"anonymous\",\"bjp\",\"resource\",\"concepts\",\"ruby\",\"friendship\",\"nyc\",\"pretty\",\"implement\",\"painting\",\"ill\",\"agency\",\"reverse\",\"confused\",\"italy\",\"response\",\"yellow\",\"dance\",\"contain\",\"vice\",\"editing\",\"acting\",\"weirdest\",\"feels\",\"govt\",\"accounting\",\"rise\",\"wise\",\"leaving\",\"lens\",\"artist\",\"arvind\",\"pattern\",\"scared\",\"attention\",\"airlines\",\"sky\",\"malaysia\",\"port\",\"attempt\",\"element\",\"classical\",\"shown\",\"safety\",\"including\",\"tablet\",\"la\",\"terrorism\",\"commit\",\"maps\",\"african\",\"viewed\",\"calling\",\"6s\",\"agent\",\"output\",\"justice\",\"don\",\"addiction\",\"lock\",\"vegetarian\",\"britain\",\"percent\",\"meditation\",\"ibps\",\"monthly\",\"writers\",\"forward\",\"stuff\",\"mr\",\"ready\",\"forgot\",\"flying\",\"recommended\",\"fields\",\"blind\",\"l\",\"hinduism\",\"desktop\",\"host\",\"tattoo\",\"maintain\",\"boards\",\"helpful\",\"semester\",\"load\",\"tier\",\"agree\",\"factor\",\"elon\",\"freshers\",\"sql\",\"cases\",\"exact\",\"confidence\",\"behavior\",\"hacked\",\"quotes\",\"hydrogen\",\"pakistani\",\"masturbate\",\"divided\",\"skill\",\"fine\",\"falling\",\"chess\",\"charging\",\"pages\",\"vector\",\"supporters\",\"waste\",\"sanders\",\"affordable\",\"unlock\",\"techniques\",\"wine\",\"keyboard\",\"cm\",\"wireless\",\"lawyer\",\"egg\",\"cope\",\"mindblowing\",\"recipe\",\"corruption\",\"scored\",\"secure\",\"teaching\",\"opposite\",\"educational\",\"bernie\",\"y\",\"library\",\"models\",\"kid\",\"stack\",\"separate\",\"19\",\"extremely\",\"properties\",\"cable\",\"magic\",\"removed\",\"computing\",\"hospital\",\"beer\",\"christians\",\"twice\",\"kg\",\"consulting\",\"whose\",\"serious\",\"petrol\",\"travelling\",\"revolution\",\"custom\",\"structures\",\"guide\",\"celebrate\",\"lenovo\",\"turned\",\"ielts\",\"grades\",\"fuel\",\"relative\",\"oracle\",\"academy\",\"lack\",\"passed\",\"relation\",\"values\",\"movement\",\"strategies\",\"eu\",\"emotional\",\"legs\",\"pokemon\",\"3g\",\"iran\",\"mostly\",\"jewish\",\"offered\",\"log\",\"hasnt\",\"explanation\",\"signal\",\"stores\",\"syllabus\",\"bits\",\"yoga\",\"weapons\",\"gods\",\"10000\",\"delivery\",\"gb\",\"sum\",\"letters\",\"venture\",\"selection\",\"winning\",\"35\",\"comment\",\"consequences\",\"sport\",\"items\",\"seems\",\"ring\",\"jealous\",\"laptops\",\"criteria\",\"fresh\",\"reference\",\"bitcoin\",\"infinite\",\"perform\",\"brazil\",\"density\",\"plans\",\"hosting\",\"clothing\",\"hong\",\"dying\",\"heavy\",\"steve\",\"gone\",\"damage\",\"missing\",\"ethical\",\"republican\",\"contacts\",\"activity\",\"electronic\",\"qualities\",\"piano\",\"hisher\",\"repair\",\"posts\",\"disease\",\"winter\",\"ten\",\"publish\",\"paint\",\"physically\",\"executive\",\"deposit\",\"elements\",\"xbox\",\"ceo\",\"visitors\",\"discovered\",\"tickets\",\"literature\",\"primary\",\"naturally\",\"senior\",\"u\",\"hardest\",\"debate\",\"frequency\",\"vietnam\",\"cry\",\"assistant\",\"gifts\",\"practical\",\"funny\",\"valid\",\"liberal\",\"refer\",\"beat\",\"shape\",\"institutes\",\"msc\",\"internal\",\"located\",\"significant\",\"scientists\",\"g\",\"ship\",\"proper\",\"independence\",\"added\",\"hes\",\"catch\",\"urine\",\"effectively\",\"named\",\"responsible\",\"strength\",\"whos\",\"immigration\",\"vehicle\",\"tesla\",\"kong\",\"meth\",\"england\",\"huge\",\"pizza\",\"rejected\",\"george\",\"fan\",\"salt\",\"browser\",\"sat\",\"loved\",\"fees\",\"walking\",\"symbol\",\"equity\",\"ubuntu\",\"alternatives\",\"theme\",\"virus\",\"manufacturing\",\"cutoff\",\"pure\",\"22\",\"introvert\",\"unable\",\"greek\",\"rice\",\"gst\",\"happening\",\"centre\",\"kiss\",\"prison\",\"bigger\",\"font\",\"construction\",\"exercises\",\"keeps\",\"gmat\",\"offers\",\"cross\",\"nasa\",\"unit\",\"advertising\",\"cup\",\"fixed\",\"limited\",\"billion\",\"subjects\",\"arts\",\"worlds\",\"stupid\",\"breaking\",\"funding\",\"tank\",\"generate\",\"efficient\",\"exists\",\"atheist\",\"entrepreneur\",\"direction\",\"broken\",\"offline\",\"firms\",\"station\",\"magnetic\",\"include\",\"aliens\",\"tinder\",\"logo\",\"photography\",\"worse\",\"besides\",\"path\",\"somebody\",\"interviews\",\"persons\",\"figure\",\"placed\",\"nation\",\"knows\",\"unmarried\",\"hp\",\"profitable\",\"tricks\",\"boss\",\"reply\",\"scam\",\"circle\",\"processor\",\"debt\",\"growing\",\"royal\",\"fiction\",\"department\",\"mistake\",\"weird\",\"graphics\",\"external\",\"article\",\"volume\",\"scratch\",\"chain\",\"protect\",\"storage\",\"texas\",\"liquid\",\"circuit\",\"graphic\",\"tired\",\"weather\",\"oxygen\",\"velocity\",\"dad\",\"band\",\"teachers\",\"drugs\",\"complex\",\"studio\",\"accenture\",\"leader\",\"levels\",\"goal\",\"logic\",\"acne\",\"plastic\",\"motion\",\"button\",\"peoples\",\"vision\",\"gap\",\"dollar\",\"computers\",\"stomach\",\"sources\",\"constant\",\"draw\",\"dress\",\"calculated\",\"sort\",\"3rd\",\"club\",\"channels\",\"creating\",\"candidates\",\"kejriwal\",\"broke\",\"sentences\",\"format\",\"emails\",\"raw\",\"stanford\",\"completed\",\"documents\",\"pan\",\"showing\",\"enter\",\"unknown\",\"bought\",\"router\",\"claim\",\"six\",\"technologies\",\"\\u20b9\",\"flipkart\",\"infosys\",\"mutual\",\"angry\",\"iits\",\"affected\",\"prices\",\"shares\",\"naruto\",\"processing\",\"finding\",\"democratic\",\"evolution\",\"harmful\",\"dual\",\"virtual\",\"member\",\"wave\",\"actual\",\"extra\",\"radio\",\"citizens\",\"e\",\"hr\",\"previous\",\"stopped\",\"walk\",\"redmi\",\"speaker\",\"torrent\",\"smoke\",\"mistakes\",\"flash\",\"iron\",\"entire\",\"individual\",\"express\",\"flow\",\"mode\",\"aircraft\",\"section\",\"planets\",\"10th\",\"respond\",\"easier\",\"evil\",\"percentile\",\"seeing\",\"calories\",\"upgrade\",\"professor\",\"v\",\"launch\",\"staff\",\"till\",\"silicon\",\"entry\",\"constitution\",\"century\",\"notice\",\"ie\",\"atheists\",\"tests\",\"21\",\"became\",\"kerala\",\"truly\",\"count\",\"essay\",\"papers\",\"accurate\",\"colors\",\"respect\",\"ideal\",\"rock\",\"reliance\",\"peace\",\"masturbation\",\"audio\",\"random\",\"independent\",\"colour\",\"hotels\",\"presidency\",\"generation\",\"paypal\",\"shot\",\"central\",\"released\",\"occur\",\"display\",\"industrial\",\"particular\",\"risk\",\"eg\",\"belly\",\"pet\",\"similarities\",\"organic\",\"marijuana\",\"networks\",\"aspects\",\"flat\",\"d\",\"comments\",\"nose\",\"identify\",\"rbi\",\"improvement\",\"directly\",\"framework\",\"suggestions\",\"designing\",\"brands\",\"religious\",\"influence\",\"novels\",\"statistics\",\"historical\",\"ground\",\"commerce\",\"pregnancy\",\"romantic\",\"failure\",\"wearing\",\"john\",\"apart\",\"bay\",\"symptoms\",\"200\",\"couple\",\"60\",\"canadian\",\"lie\",\"print\",\"carry\",\"gender\",\"experienced\",\"pounds\",\"reservation\",\"either\",\"stage\",\"artificial\",\"fit\",\"blogs\",\"developing\",\"environment\",\"learned\",\"copy\",\"phase\",\"bond\",\"democracy\",\"cgpa\",\"operating\",\"surface\",\"officers\",\"h1b\",\"ip\",\"workout\",\"fee\",\"elected\",\"hands\",\"largest\",\"sad\",\"shouldnt\",\"seat\",\"sister\",\"developers\",\"despite\",\"scene\",\"po\",\"diploma\",\"request\",\"empire\",\"ratio\",\"considering\",\"academic\",\"tree\",\"register\",\"advantage\",\"eligible\",\"nit\",\"shop\",\"intel\",\"funniest\",\"alternative\",\"fail\",\"ads\",\"nature\",\"miss\",\"involved\",\"overrated\",\"attend\",\"freedom\",\"dna\",\"beginners\",\"raise\",\"dry\",\"failed\",\"legally\",\"batman\",\"upload\",\"carbon\",\"regret\",\"applied\",\"points\",\"investors\",\"pick\",\"equivalent\",\"connected\",\"christmas\",\"lyrics\",\"nations\",\"caused\",\"bsc\",\"1st\",\"action\",\"activities\",\"biology\",\"hide\",\"asia\",\"takes\",\"require\",\"alive\",\"mom\",\"cycle\",\"generally\",\"campaign\",\"fair\",\"wake\",\"bit\",\"rules\",\"olympics\",\"racist\",\"areas\",\"eggs\",\"feature\",\"sap\",\"taxes\",\"ad\",\"shall\",\"theyre\",\"species\",\"pilot\",\"firm\",\"fish\",\"define\",\"doctors\",\"piece\",\"itself\",\"bang\",\"solutions\",\"iim\",\"2013\",\"wanted\",\"length\",\"burn\",\"waves\",\"bar\",\"gives\",\"forces\",\"christian\",\"anybody\",\"relationships\",\"nice\",\"wedding\",\"various\",\"brother\",\"films\",\"cream\",\"suddenly\",\"philippines\",\"fashion\",\"truth\",\"gpa\",\"cgl\",\"tall\",\"goa\",\"hacking\",\"statement\",\"reset\",\"materials\",\"played\",\"match\",\"usb\",\"novel\",\"unusual\",\"knowing\",\"selected\",\"valley\",\"chrome\",\"couples\",\"becomes\",\"died\",\"cheating\",\"community\",\"groups\",\"category\",\"pursuing\",\"writer\",\"mexico\",\"anymore\",\"sugar\",\"climate\",\"brown\",\"players\",\"ii\",\"reviews\",\"took\",\"led\",\"connection\",\"begin\",\"html\",\"changing\",\"received\",\"plants\",\"debit\",\"record\",\"revenue\",\"mars\",\"strongest\",\"members\",\"formed\",\"union\",\"thought\",\"existence\",\"kashmir\",\"gandhi\",\"pdf\",\"banned\",\"0\",\"plane\",\"treated\",\"electricity\",\"scale\",\"basis\",\"moral\",\"images\",\"methods\",\"certification\",\"voltage\",\"style\",\"base\",\"excel\",\"amazing\",\"regarding\",\"result\",\"rates\",\"hold\",\"indias\",\"airport\",\"businesses\",\"feet\",\"built\",\"linkedin\",\"signs\",\"above\",\"networking\",\"r\",\"shopping\",\"looks\",\"went\",\"placements\",\"bed\",\"experiences\",\"daughter\",\"tourist\",\"employee\",\"caste\",\"wait\",\"direct\",\"especially\",\"feed\",\"continue\",\"expected\",\"algorithm\",\"depressed\",\"shoes\",\"soon\",\"supply\",\"stress\",\"24\",\"inr\",\"foods\",\"rent\",\"architecture\",\"ban\",\"entrance\",\"actors\",\"messenger\",\"unique\",\"kolkata\",\"funds\",\"rupee\",\"promote\",\"rupees\",\"jews\",\"23\",\"cook\",\"cultural\",\"accepted\",\"hear\",\"glass\",\"road\",\"joining\",\"measure\",\"havent\",\"metal\",\"resume\",\"afraid\",\"turkey\",\"meat\",\"goes\",\"installation\",\"netflix\",\"benefit\",\"demand\",\"release\",\"produce\",\"report\",\"cover\",\"changes\",\"double\",\"2nd\",\"reaction\",\"killed\",\"steel\",\"requirements\",\"france\",\"exchange\",\"ac\",\"quantum\",\"reliable\",\"box\",\"results\",\"lives\",\"treatment\",\"4g\",\"ece\",\"probability\",\"sleeping\",\"philosophy\",\"handle\",\"forget\",\"driver\",\"demonetization\",\"algorithms\",\"trade\",\"rule\",\"muscle\",\"calls\",\"tried\",\"mental\",\"sure\",\"quit\",\"navy\",\"achieve\",\"francisco\",\"location\",\"until\",\"sense\",\"anxiety\",\"wordpress\",\"focus\",\"fact\",\"production\",\"conversation\",\"motor\",\"five\",\"attracted\",\"hit\",\"analyst\",\"moto\",\"isis\",\"chicken\",\"sector\",\"permanent\",\"along\",\"king\",\"slow\",\"candidate\",\"minutes\",\"purchase\",\"gun\",\"selling\",\"usually\",\"\\u2026\",\"fly\",\"round\",\"panel\",\"error\",\"stocks\",\"api\",\"remember\",\"africa\",\"paying\",\"hitler\",\"3d\",\"regular\",\"losing\",\"mail\",\"yahoo\",\"cheapest\",\"older\",\"concept\",\"characters\",\"definition\",\"lines\",\"pm\",\"cloud\",\"cats\",\"russian\",\"ipad\",\"korean\",\"proof\",\"battle\",\"stars\",\"stream\",\"recent\",\"typical\",\"performance\",\"harvard\",\"restaurant\",\"origin\",\"listen\",\"smell\",\"decide\",\"serve\",\"undergraduate\",\"profit\",\"situation\",\"surgery\",\"asking\",\"plant\",\"link\",\"square\",\"completing\",\"four\",\"trust\",\"payment\",\"gym\",\"andor\",\"worklife\",\"guitar\",\"elections\",\"half\",\"investing\",\"scientist\",\"street\",\"needs\",\"native\",\"thoughts\",\"reality\",\"40\",\"medicine\",\"race\",\"choice\",\"longer\",\"came\",\"applying\",\"hiring\",\"west\",\"weed\",\"hacks\",\"step\",\"sea\",\"crime\",\"devices\",\"event\",\"citizen\",\"14\",\"17\",\"ticket\",\"fund\",\"equation\",\"suicide\",\"whom\",\"met\",\"almost\",\"designer\",\"local\",\"departments\",\"khan\",\"customer\",\"banking\",\"javascript\",\"trip\",\"issue\",\"react\",\"cannot\",\"dubai\",\"wall\",\"touch\",\"parts\",\"loves\",\"clothes\",\"straight\",\"sexual\",\"active\",\"inpatient\",\"dreams\",\"protein\",\"table\",\"exercise\",\"lord\",\"mtech\",\"creative\",\"ball\",\"speaking\",\"son\",\"receive\",\"dollars\",\"domain\",\"prospects\",\"hour\",\"graduation\",\"commercial\",\"themselves\",\"factors\",\"jesus\",\"programmer\",\"recommend\",\"replace\",\"chat\",\"placement\",\"episode\",\"fastest\",\"restaurants\",\"object\",\"drivers\",\"gaming\",\"mark\",\"taste\",\"seem\",\"perfect\",\"potential\",\"trumps\",\"appear\",\"rights\",\"equal\",\"rest\",\"package\",\"meant\",\"drop\",\"cool\",\"material\",\"potter\",\"events\",\"convince\",\"completely\",\"n\",\"zero\",\"significance\",\"lower\",\"feelings\",\"followers\",\"evidence\",\"certain\",\"later\",\"original\",\"bible\",\"disorder\",\"testing\",\"via\",\"stand\",\"actor\",\"characteristics\",\"cities\",\"reach\",\"ago\",\"mbbs\",\"speech\",\"electric\",\"approach\",\"scientific\",\"root\",\"analytics\",\"below\",\"grade\",\"mains\",\"topic\",\"fun\",\"ancient\",\"adult\",\"standard\",\"ice\",\"everyday\",\"population\",\"invented\",\"european\",\"intelligent\",\"11\",\"subject\",\"rehab\",\"background\",\"giving\",\"platform\",\"flight\",\"thrones\",\"maths\",\"dc\",\"teeth\",\"mit\",\"weeks\",\"east\",\"means\",\"programs\",\"beginner\",\"heat\",\"third\",\"tea\",\"range\",\"london\",\"maximum\",\"enjoy\",\"2000\",\"cells\",\"quickly\",\"here\",\"expensive\",\"phrase\",\"partner\",\"league\",\"anime\",\"latest\",\"specific\",\"whether\",\"functions\",\"os\",\"fire\",\"saying\",\"secret\",\"13\",\"planet\",\"hole\",\"super\",\"teacher\",\"strong\",\"accounts\",\"minister\",\"database\",\"economic\",\"channel\",\"estate\",\"ram\",\"switch\",\"asian\",\"smoking\",\"branch\",\"israel\",\"18\",\"features\",\"success\",\"lead\",\"total\",\"key\",\"master\",\"ok\",\"favourite\",\"psychology\",\"pok\\u00e9mon\",\"nothing\",\"clean\",\"25\",\"politics\",\"drinking\",\"sometimes\",\"recently\",\"korea\",\"sent\",\"poor\",\"hindu\",\"hollywood\",\"survive\",\"cure\",\"property\",\"return\",\"narendra\",\"budget\",\"sports\",\"limit\",\"arent\",\"boys\",\"driving\",\"whole\",\"cash\",\"smartphone\",\"php\",\"developed\",\"ssc\",\"hot\",\"attractive\",\"tool\",\"physical\",\"ecommerce\",\"sbi\",\"morning\",\"animal\",\"multiple\",\"loan\",\"acid\",\"fresher\",\"spanish\",\"moving\",\"decision\",\"county\",\"determined\",\"becoming\",\"seo\",\"summer\",\"manage\",\"server\",\"competitive\",\"milk\",\"importance\",\"banks\",\"cheap\",\"powerful\",\"issues\",\"penis\",\"according\",\"analysis\",\"bike\",\"position\",\"western\",\"advanced\",\"campus\",\"highest\",\"front\",\"court\",\"status\",\"gravity\",\"positions\",\"comes\",\"steps\",\"complete\",\"electronics\",\"won\",\"hurt\",\"certificate\",\"temperature\",\"player\",\"someones\",\"communication\",\"million\",\"talking\",\"preparing\",\"finance\",\"cancer\",\"9\",\"harry\",\"accept\",\"2014\",\"plus\",\"born\",\"tcs\",\"license\",\"bring\",\"teach\",\"practice\",\"trading\",\"m\",\"might\",\"opportunities\",\"global\",\"wish\",\"outside\",\"attack\",\"procedure\",\"needed\",\"update\",\"coffee\",\"provider\",\"rather\",\"16\",\"allow\",\"tamil\",\"mix\",\"connect\",\"room\",\"watching\",\"deep\",\"york\",\"image\",\"birth\",\"sign\",\"birthday\",\"playing\",\"wars\",\"grads\",\"hire\",\"phones\",\"cbse\",\"details\",\"clear\",\"cricket\",\"dangerous\",\"track\",\"corporate\",\"voice\",\"upsc\",\"content\",\"okay\",\"san\",\"heart\",\"far\",\"heard\",\"prove\",\"positive\",\"moment\",\"sales\",\"opinion\",\"engineers\",\"block\",\"diet\",\"coding\",\"core\",\"baby\",\"father\",\"little\",\"large\",\"blocked\",\"distance\",\"land\",\"simple\",\"husband\",\"told\",\"traffic\",\"prevent\",\"pictures\",\"planning\",\"fear\",\"classes\",\"towards\",\"technical\",\"building\",\"trying\",\"photo\",\"early\",\"uses\",\"sydney\",\"startups\",\"act\",\"id\",\"describe\",\"12th\",\"may\",\"formula\",\"gets\",\"present\",\"wont\",\"cut\",\"treat\",\"mathematics\",\"visiting\",\"eye\",\"policy\",\"close\",\"cse\",\"suitable\",\"version\",\"tools\",\"head\",\"minimum\",\"chennai\",\"easily\",\"method\",\"intelligence\",\"gre\",\"mother\",\"doctor\",\"macbook\",\"deleted\",\"gas\",\"suggest\",\"cards\",\"files\",\"loss\",\"art\",\"easiest\",\"late\",\"among\",\"together\",\"depression\",\"higher\",\"alone\",\"economics\",\"dead\",\"growth\",\"insurance\",\"gold\",\"necessary\",\"neet\",\"blog\",\"example\",\"memory\",\"crack\",\"consider\",\"works\",\"currency\",\"recruit\",\"pursue\",\"strategy\",\"young\",\"cs\",\"projects\",\"50\",\"manager\",\"abroad\",\"schools\",\"illegal\",\"inside\",\"stories\",\"hand\",\"t\",\"greatest\",\"personality\",\"galaxy\",\"device\",\"views\",\"user\",\"chemistry\",\"cars\",\"iq\",\"prefer\",\"picture\",\"nuclear\",\"middle\",\"applications\",\"gmail\",\"laws\",\"final\",\"capital\",\"kids\",\"society\",\"fake\",\"bill\",\"save\",\"though\",\"likely\",\"determine\",\"shows\",\"character\",\"snapchat\",\"youre\",\"eyes\",\"islam\",\"marry\",\"brand\",\"yet\",\"impact\",\"speak\",\"within\",\"rich\",\"resources\",\"net\",\"non\",\"pressure\",\"changed\",\"allowed\",\"obama\",\"cold\",\"running\",\"feeling\",\"jio\",\"football\",\"gift\",\"written\",\"buying\",\"mac\",\"spend\",\"prime\",\"blue\",\"train\",\"studies\",\"negative\",\"thinking\",\"solution\",\"sun\",\"least\",\"following\",\"install\",\"else\",\"muslims\",\"camera\",\"vote\",\"linux\",\"expect\",\"german\",\"recover\",\"starting\",\"crush\",\"coming\",\"muslim\",\"modern\",\"battery\",\"provide\",\"access\",\"presidential\",\"interest\",\"dating\",\"pro\",\"likes\",\"french\",\"singapore\",\"useful\",\"already\",\"professional\",\"percentage\",\"drink\",\"created\",\"board\",\"passport\",\"structure\",\"case\",\"height\",\"microsoft\",\"break\",\"screen\",\"names\",\"chance\",\"special\",\"30\",\"skin\",\"natural\",\"color\",\"interested\",\"amount\",\"pain\",\"healthy\",\"hack\",\"messages\",\"ias\",\"gay\",\"disadvantages\",\"pass\",\"moon\",\"systems\",\"hindi\",\"financial\",\"taken\",\"yes\",\"sim\",\"pregnant\",\"faster\",\"animals\",\"internship\",\"let\",\"photos\",\"balance\",\"sound\",\"due\",\"knowledge\",\"charge\",\"message\",\"officer\",\"solar\",\"military\",\"meet\",\"option\",\"reading\",\"across\",\"overcome\",\"everyone\",\"everything\",\"wife\",\"reduce\",\"chances\",\"samsung\",\"income\",\"bollywood\",\"season\",\"europe\",\"boy\",\"currently\",\"ex\",\"smart\",\"california\",\"engine\",\"paid\",\"army\",\"contact\",\"address\",\"wants\",\"ones\",\"gain\",\"reasons\",\"avoid\",\"please\",\"note\",\"known\",\"pune\",\"film\",\"national\",\"once\",\"users\",\"porn\",\"scope\",\"twitter\",\"drug\",\"rank\",\"japan\",\"fight\",\"transfer\",\"political\",\"green\",\"news\",\"self\",\"uber\",\"basic\",\"british\",\"religion\",\"hyderabad\",\"topics\",\"explain\",\"phd\",\"eating\",\"letter\",\"calculate\",\"ive\",\"tech\",\"personal\",\"japanese\",\"check\",\"hotel\",\"wifi\",\"beautiful\",\"difficult\",\"paper\",\"languages\",\"investment\",\"develop\",\"north\",\"electrical\",\"ios\",\"alcohol\",\"exactly\",\"profile\",\"past\",\"exams\",\"ca\",\"convert\",\"vs\",\"understand\",\"care\",\"dream\",\"try\",\"americans\",\"lost\",\"chemical\",\"source\",\"b\",\"admission\",\"easy\",\"must\",\"three\",\"effect\",\"view\",\"options\",\"page\",\"away\",\"red\",\"said\",\"line\",\"short\",\"happy\",\"security\",\"dark\",\"preparation\",\"second\",\"fat\",\"matter\",\"few\",\"since\",\"role\",\"pc\",\"office\",\"team\",\"delete\",\"cell\",\"election\",\"economy\",\"term\",\"dogs\",\"text\",\"female\",\"effective\",\"brain\",\"share\",\"digital\",\"btech\",\"russia\",\"\\u201c\",\"party\",\"numbers\",\"20\",\"store\",\"male\",\"mass\",\"turn\",\"left\",\"married\",\"rs\",\"taking\",\"those\",\"password\",\"follow\",\"advice\",\"isnt\",\"15\",\"types\",\"network\",\"\\u201d\",\"week\",\"purpose\",\"related\",\"fix\",\"started\",\"courses\",\"masters\",\"grow\",\"8\",\"fast\",\"leave\",\"100\",\"often\",\"found\",\"pros\",\"marriage\",\"cons\",\"quality\",\"words\",\"kill\",\"price\",\"near\",\"modi\",\"enough\",\"search\",\"python\",\"x\",\"blood\",\"math\",\"yourself\",\"drive\",\"size\",\"star\",\"graduate\",\"majors\",\"500\",\"model\",\"studying\",\"general\",\"oil\",\"colleges\",\"area\",\"developer\",\"germany\",\"industry\",\"full\",\"training\",\"says\",\"period\",\"videos\",\"universe\",\"fall\",\"daily\",\"information\",\"foreign\",\"credit\",\"force\",\"12\",\"youve\",\"south\",\"offer\",\"set\",\"add\",\"send\",\"australia\",\"center\",\"1000\",\"famous\",\"2015\",\"lot\",\"function\",\"tax\",\"correct\",\"solve\",\"advantages\",\"coaching\",\"institute\",\"effects\",\"guys\",\"again\",\"group\",\"hours\",\"side\",\"sentence\",\"low\",\"similar\",\"plan\",\"children\",\"answers\",\"talk\",\"marks\",\"ideas\",\"theory\",\"death\",\"compared\",\"night\",\"remove\",\"dog\",\"anything\",\"single\",\"successful\",\"gate\",\"indians\",\"put\",\"problems\",\"move\",\"writing\",\"point\",\"invest\",\"asked\",\"biggest\",\"others\",\"stock\",\"notes\",\"story\",\"machine\",\"private\",\"sell\",\"seen\",\"required\",\"field\",\"file\",\"rate\",\"humans\",\"application\",\"face\",\"sites\",\"mind\",\"facts\",\"mumbai\",\"post\",\"stay\",\"child\",\"terms\",\"products\",\"control\",\"legal\",\"police\",\"didnt\",\"level\",\"worst\",\"hate\",\"visit\",\"called\",\"amazon\",\"causes\",\"health\",\"form\",\"physics\",\"iit\",\"skills\",\"times\",\"medical\",\"based\",\"list\",\"websites\",\"die\",\"part\",\"less\",\"benefits\",\"apple\",\"instead\",\"these\",\"boyfriend\",\"sleep\",\"canada\",\"reason\",\"education\",\"cause\",\"jee\",\"value\",\"today\",\"media\",\"public\",\"happened\",\"product\",\"research\",\"main\",\"behind\",\"international\",\"project\",\"uk\",\"differ\",\"7\",\"places\",\"wear\",\"order\",\"date\",\"etc\",\"small\",\"songs\",\"apps\",\"email\",\"given\",\"wrong\",\"site\",\"normal\",\"culture\",\"also\",\"civil\",\"city\",\"available\",\"house\",\"exist\",\"startup\",\"services\",\"ms\",\"both\",\"down\",\"2017\",\"run\",\"cat\",\"well\",\"space\",\"join\",\"deal\",\"games\",\"visa\",\"rid\",\"air\",\"speed\",\"popular\",\"problem\",\"support\",\"current\",\"pakistan\",\"choose\",\"build\",\"idea\",\"america\",\"whatsapp\",\"affect\",\"law\",\"technology\",\"call\",\"6\",\"universities\",\"family\",\"marketing\",\"major\",\"actually\",\"favorite\",\"light\",\"bangalore\",\"woman\",\"because\",\"type\",\"program\",\"looking\",\"living\",\"open\",\"believe\",\"month\",\"able\",\"management\",\"travel\",\"degree\",\"show\",\"interesting\",\"score\",\"months\",\"series\",\"chinese\",\"development\",\"end\",\"code\",\"design\",\"per\",\"employees\",\"review\",\"clinton\",\"common\",\"kind\",\"internet\",\"song\",\"download\",\"course\",\"parents\",\"jobs\",\"such\",\"increase\",\"java\",\"god\",\"another\",\"united\",\"girlfriend\",\"mechanical\",\"always\",\"next\",\"never\",\"around\",\"tips\",\"mba\",\"myself\",\"hillary\",\"apply\",\"answer\",\"something\",\"considered\",\"making\",\"differences\",\"market\",\"compare\",\"great\",\"keep\",\"test\",\"s\",\"win\",\"against\",\"states\",\"earn\",\"youtube\",\"worth\",\"delhi\",\"energy\",\"laptop\",\"american\",\"lose\",\"each\",\"hard\",\"makes\",\"age\",\"ask\",\"safe\",\"body\",\"power\",\"salary\",\"4\",\"watch\",\"white\",\"windows\",\"instagram\",\"history\",\"pay\",\"every\",\"last\",\"create\",\"relationship\",\"music\",\"too\",\"meaning\",\"state\",\"average\",\"earth\",\"got\",\"process\",\"class\",\"tv\",\"eat\",\"done\",\"happens\",\"days\",\"big\",\"off\",\"improve\",\"future\",\"place\",\"man\",\"human\",\"government\",\"play\",\"countries\",\"food\",\"service\",\"students\",\"weight\",\"game\",\"engineer\",\"write\",\"very\",\"interview\",\"web\",\"tell\",\"social\",\"girls\",\"video\",\"look\",\"having\",\"guy\",\"home\",\"hair\",\"usa\",\"doesnt\",\"word\",\"bank\",\"friend\",\"true\",\"experience\",\"career\",\"president\",\"question\",\"own\",\"china\",\"come\",\"under\",\"working\",\"him\",\"doing\",\"donald\",\"friends\",\"right\",\"5\",\"cost\",\"mobile\",\"even\",\"movies\",\"then\",\"c\",\"\\u2019\",\"exam\",\"men\",\"learning\",\"card\",\"war\",\"read\",\"programming\",\"black\",\"anyone\",\"high\",\"10\",\"companies\",\"car\",\"getting\",\"give\",\"important\",\"questions\",\"cant\",\"iphone\",\"website\",\"top\",\"water\",\"prepare\",\"during\",\"real\",\"say\",\"system\",\"name\",\"through\",\"two\",\"1\",\"our\",\"study\",\"3\",\"university\",\"made\",\"back\",\"happen\",\"stop\",\"student\",\"sex\",\"bad\",\"language\",\"going\",\"same\",\"before\",\"software\",\"school\",\"live\",\"country\",\"android\",\"science\",\"help\",\"she\",\"see\",\"thing\",\"women\",\"over\",\"data\",\"examples\",\"computer\",\"had\",\"ways\",\"change\",\"while\",\"book\",\"english\",\"account\",\"still\",\"movie\",\"books\",\"2016\",\"facebook\",\"free\",\"number\",\"college\",\"app\",\"2\",\"just\",\"now\",\"no\",\"trump\",\"company\",\"only\",\"old\",\"been\",\"google\",\"phone\",\"long\",\"different\",\"girl\",\"his\",\"her\",\"years\",\"really\",\"them\",\"using\",\"business\",\"need\",\"being\",\"buy\",\"day\",\"person\",\"things\",\"possible\",\"could\",\"were\",\"its\",\"love\",\"engineering\",\"im\",\"used\",\"online\",\"go\",\"year\",\"he\",\"into\",\"feel\",\"dont\",\"first\",\"up\"]]]}}},\"view\":{\"type\":\"object\",\"name\":\"CDSView\",\"id\":\"p1096\",\"attributes\":{\"filter\":{\"type\":\"object\",\"name\":\"AllIndices\",\"id\":\"p1097\"}}},\"glyph\":{\"type\":\"object\",\"name\":\"Scatter\",\"id\":\"p1092\",\"attributes\":{\"x\":{\"type\":\"field\",\"field\":\"x\"},\"y\":{\"type\":\"field\",\"field\":\"y\"},\"size\":{\"type\":\"value\",\"value\":10},\"line_color\":{\"type\":\"field\",\"field\":\"color\"},\"line_alpha\":{\"type\":\"value\",\"value\":0.25},\"fill_color\":{\"type\":\"field\",\"field\":\"color\"},\"fill_alpha\":{\"type\":\"value\",\"value\":0.25},\"hatch_color\":{\"type\":\"field\",\"field\":\"color\"},\"hatch_alpha\":{\"type\":\"value\",\"value\":0.25}}},\"nonselection_glyph\":{\"type\":\"object\",\"name\":\"Scatter\",\"id\":\"p1093\",\"attributes\":{\"x\":{\"type\":\"field\",\"field\":\"x\"},\"y\":{\"type\":\"field\",\"field\":\"y\"},\"size\":{\"type\":\"value\",\"value\":10},\"line_color\":{\"type\":\"field\",\"field\":\"color\"},\"line_alpha\":{\"type\":\"value\",\"value\":0.1},\"fill_color\":{\"type\":\"field\",\"field\":\"color\"},\"fill_alpha\":{\"type\":\"value\",\"value\":0.1},\"hatch_color\":{\"type\":\"field\",\"field\":\"color\"},\"hatch_alpha\":{\"type\":\"value\",\"value\":0.1}}},\"muted_glyph\":{\"type\":\"object\",\"name\":\"Scatter\",\"id\":\"p1094\",\"attributes\":{\"x\":{\"type\":\"field\",\"field\":\"x\"},\"y\":{\"type\":\"field\",\"field\":\"y\"},\"size\":{\"type\":\"value\",\"value\":10},\"line_color\":{\"type\":\"field\",\"field\":\"color\"},\"line_alpha\":{\"type\":\"value\",\"value\":0.2},\"fill_color\":{\"type\":\"field\",\"field\":\"color\"},\"fill_alpha\":{\"type\":\"value\",\"value\":0.2},\"hatch_color\":{\"type\":\"field\",\"field\":\"color\"},\"hatch_alpha\":{\"type\":\"value\",\"value\":0.2}}}}}],\"toolbar\":{\"type\":\"object\",\"name\":\"Toolbar\",\"id\":\"p1063\",\"attributes\":{\"tools\":[{\"type\":\"object\",\"name\":\"PanTool\",\"id\":\"p1076\"},{\"type\":\"object\",\"name\":\"WheelZoomTool\",\"id\":\"p1077\",\"attributes\":{\"renderers\":\"auto\"}},{\"type\":\"object\",\"name\":\"BoxZoomTool\",\"id\":\"p1078\",\"attributes\":{\"overlay\":{\"type\":\"object\",\"name\":\"BoxAnnotation\",\"id\":\"p1079\",\"attributes\":{\"syncable\":false,\"line_color\":\"black\",\"line_alpha\":1.0,\"line_width\":2,\"line_dash\":[4,4],\"fill_color\":\"lightgrey\",\"fill_alpha\":0.5,\"level\":\"overlay\",\"visible\":false,\"left\":{\"type\":\"number\",\"value\":\"nan\"},\"right\":{\"type\":\"number\",\"value\":\"nan\"},\"top\":{\"type\":\"number\",\"value\":\"nan\"},\"bottom\":{\"type\":\"number\",\"value\":\"nan\"},\"left_units\":\"canvas\",\"right_units\":\"canvas\",\"top_units\":\"canvas\",\"bottom_units\":\"canvas\",\"handles\":{\"type\":\"object\",\"name\":\"BoxInteractionHandles\",\"id\":\"p1085\",\"attributes\":{\"all\":{\"type\":\"object\",\"name\":\"AreaVisuals\",\"id\":\"p1084\",\"attributes\":{\"fill_color\":\"white\",\"hover_fill_color\":\"lightgray\"}}}}}}}},{\"type\":\"object\",\"name\":\"SaveTool\",\"id\":\"p1086\"},{\"type\":\"object\",\"name\":\"ResetTool\",\"id\":\"p1087\"},{\"type\":\"object\",\"name\":\"HelpTool\",\"id\":\"p1088\"},{\"type\":\"object\",\"name\":\"HoverTool\",\"id\":\"p1098\",\"attributes\":{\"renderers\":\"auto\",\"tooltips\":[[\"token\",\"@token\"]]}}],\"active_scroll\":{\"id\":\"p1077\"}}},\"left\":[{\"type\":\"object\",\"name\":\"LinearAxis\",\"id\":\"p1071\",\"attributes\":{\"ticker\":{\"type\":\"object\",\"name\":\"BasicTicker\",\"id\":\"p1072\",\"attributes\":{\"mantissas\":[1,2,5]}},\"formatter\":{\"type\":\"object\",\"name\":\"BasicTickFormatter\",\"id\":\"p1073\"},\"major_label_policy\":{\"type\":\"object\",\"name\":\"AllLabels\",\"id\":\"p1074\"}}}],\"below\":[{\"type\":\"object\",\"name\":\"LinearAxis\",\"id\":\"p1066\",\"attributes\":{\"ticker\":{\"type\":\"object\",\"name\":\"BasicTicker\",\"id\":\"p1067\",\"attributes\":{\"mantissas\":[1,2,5]}},\"formatter\":{\"type\":\"object\",\"name\":\"BasicTickFormatter\",\"id\":\"p1068\"},\"major_label_policy\":{\"type\":\"object\",\"name\":\"AllLabels\",\"id\":\"p1069\"}}}],\"center\":[{\"type\":\"object\",\"name\":\"Grid\",\"id\":\"p1070\",\"attributes\":{\"axis\":{\"id\":\"p1066\"}}},{\"type\":\"object\",\"name\":\"Grid\",\"id\":\"p1075\",\"attributes\":{\"dimension\":1,\"axis\":{\"id\":\"p1071\"}}}]}}]}};\n",
              "  const render_items = [{\"docid\":\"672e4d5d-d50a-41f6-9624-69da0731d87f\",\"roots\":{\"p1055\":\"faefbafc-7ef1-4ed1-a66a-c546d680717f\"},\"root_ids\":[\"p1055\"]}];\n",
              "  void root.Bokeh.embed.embed_items_notebook(docs_json, render_items);\n",
              "  }\n",
              "  if (root.Bokeh !== undefined) {\n",
              "    embed_document(root);\n",
              "  } else {\n",
              "    let attempts = 0;\n",
              "    const timer = setInterval(function(root) {\n",
              "      if (root.Bokeh !== undefined) {\n",
              "        clearInterval(timer);\n",
              "        embed_document(root);\n",
              "      } else {\n",
              "        attempts++;\n",
              "        if (attempts > 100) {\n",
              "          clearInterval(timer);\n",
              "          console.log(\"Bokeh: ERROR: Unable to run BokehJS code because BokehJS library is missing\");\n",
              "        }\n",
              "      }\n",
              "    }, 10, root)\n",
              "  }\n",
              "})(window);"
            ],
            "application/vnd.bokehjs_exec.v0+json": ""
          },
          "metadata": {
            "application/vnd.bokehjs_exec.v0+json": {
              "id": "p1055"
            }
          }
        },
        {
          "output_type": "execute_result",
          "data": {
            "text/plain": [
              "figure(id='p1055', ...)"
            ],
            "text/html": [
              "<div style=\"display: table;\"><div style=\"display: table-row;\"><div style=\"display: table-cell;\"><b title=\"bokeh.plotting._figure.figure\">figure</b>(</div><div style=\"display: table-cell;\">id&nbsp;=&nbsp;'p1055', <span id=\"p1102\" style=\"cursor: pointer;\">&hellip;)</span></div></div><div class=\"p1101\" style=\"display: none;\"><div style=\"display: table-cell;\"></div><div style=\"display: table-cell;\">above&nbsp;=&nbsp;[],</div></div><div class=\"p1101\" style=\"display: none;\"><div style=\"display: table-cell;\"></div><div style=\"display: table-cell;\">align&nbsp;=&nbsp;'auto',</div></div><div class=\"p1101\" style=\"display: none;\"><div style=\"display: table-cell;\"></div><div style=\"display: table-cell;\">aspect_ratio&nbsp;=&nbsp;None,</div></div><div class=\"p1101\" style=\"display: none;\"><div style=\"display: table-cell;\"></div><div style=\"display: table-cell;\">aspect_scale&nbsp;=&nbsp;1,</div></div><div class=\"p1101\" style=\"display: none;\"><div style=\"display: table-cell;\"></div><div style=\"display: table-cell;\">attribution&nbsp;=&nbsp;[],</div></div><div class=\"p1101\" style=\"display: none;\"><div style=\"display: table-cell;\"></div><div style=\"display: table-cell;\">background_fill_alpha&nbsp;=&nbsp;1.0,</div></div><div class=\"p1101\" style=\"display: none;\"><div style=\"display: table-cell;\"></div><div style=\"display: table-cell;\">background_fill_color&nbsp;=&nbsp;'#ffffff',</div></div><div class=\"p1101\" style=\"display: none;\"><div style=\"display: table-cell;\"></div><div style=\"display: table-cell;\">below&nbsp;=&nbsp;[LinearAxis(id='p1066', ...)],</div></div><div class=\"p1101\" style=\"display: none;\"><div style=\"display: table-cell;\"></div><div style=\"display: table-cell;\">border_fill_alpha&nbsp;=&nbsp;1.0,</div></div><div class=\"p1101\" style=\"display: none;\"><div style=\"display: table-cell;\"></div><div style=\"display: table-cell;\">border_fill_color&nbsp;=&nbsp;'#ffffff',</div></div><div class=\"p1101\" style=\"display: none;\"><div style=\"display: table-cell;\"></div><div style=\"display: table-cell;\">center&nbsp;=&nbsp;[Grid(id='p1070', ...), Grid(id='p1075', ...)],</div></div><div class=\"p1101\" style=\"display: none;\"><div style=\"display: table-cell;\"></div><div style=\"display: table-cell;\">context_menu&nbsp;=&nbsp;None,</div></div><div class=\"p1101\" style=\"display: none;\"><div style=\"display: table-cell;\"></div><div style=\"display: table-cell;\">css_classes&nbsp;=&nbsp;[],</div></div><div class=\"p1101\" style=\"display: none;\"><div style=\"display: table-cell;\"></div><div style=\"display: table-cell;\">css_variables&nbsp;=&nbsp;{},</div></div><div class=\"p1101\" style=\"display: none;\"><div style=\"display: table-cell;\"></div><div style=\"display: table-cell;\">disabled&nbsp;=&nbsp;False,</div></div><div class=\"p1101\" style=\"display: none;\"><div style=\"display: table-cell;\"></div><div style=\"display: table-cell;\">elements&nbsp;=&nbsp;[],</div></div><div class=\"p1101\" style=\"display: none;\"><div style=\"display: table-cell;\"></div><div style=\"display: table-cell;\">extra_x_ranges&nbsp;=&nbsp;{},</div></div><div class=\"p1101\" style=\"display: none;\"><div style=\"display: table-cell;\"></div><div style=\"display: table-cell;\">extra_x_scales&nbsp;=&nbsp;{},</div></div><div class=\"p1101\" style=\"display: none;\"><div style=\"display: table-cell;\"></div><div style=\"display: table-cell;\">extra_y_ranges&nbsp;=&nbsp;{},</div></div><div class=\"p1101\" style=\"display: none;\"><div style=\"display: table-cell;\"></div><div style=\"display: table-cell;\">extra_y_scales&nbsp;=&nbsp;{},</div></div><div class=\"p1101\" style=\"display: none;\"><div style=\"display: table-cell;\"></div><div style=\"display: table-cell;\">flow_mode&nbsp;=&nbsp;'block',</div></div><div class=\"p1101\" style=\"display: none;\"><div style=\"display: table-cell;\"></div><div style=\"display: table-cell;\">frame_align&nbsp;=&nbsp;True,</div></div><div class=\"p1101\" style=\"display: none;\"><div style=\"display: table-cell;\"></div><div style=\"display: table-cell;\">frame_height&nbsp;=&nbsp;None,</div></div><div class=\"p1101\" style=\"display: none;\"><div style=\"display: table-cell;\"></div><div style=\"display: table-cell;\">frame_width&nbsp;=&nbsp;None,</div></div><div class=\"p1101\" style=\"display: none;\"><div style=\"display: table-cell;\"></div><div style=\"display: table-cell;\">height&nbsp;=&nbsp;400,</div></div><div class=\"p1101\" style=\"display: none;\"><div style=\"display: table-cell;\"></div><div style=\"display: table-cell;\">height_policy&nbsp;=&nbsp;'auto',</div></div><div class=\"p1101\" style=\"display: none;\"><div style=\"display: table-cell;\"></div><div style=\"display: table-cell;\">hidpi&nbsp;=&nbsp;True,</div></div><div class=\"p1101\" style=\"display: none;\"><div style=\"display: table-cell;\"></div><div style=\"display: table-cell;\">hold_render&nbsp;=&nbsp;False,</div></div><div class=\"p1101\" style=\"display: none;\"><div style=\"display: table-cell;\"></div><div style=\"display: table-cell;\">js_event_callbacks&nbsp;=&nbsp;{},</div></div><div class=\"p1101\" style=\"display: none;\"><div style=\"display: table-cell;\"></div><div style=\"display: table-cell;\">js_property_callbacks&nbsp;=&nbsp;{},</div></div><div class=\"p1101\" style=\"display: none;\"><div style=\"display: table-cell;\"></div><div style=\"display: table-cell;\">left&nbsp;=&nbsp;[LinearAxis(id='p1071', ...)],</div></div><div class=\"p1101\" style=\"display: none;\"><div style=\"display: table-cell;\"></div><div style=\"display: table-cell;\">lod_factor&nbsp;=&nbsp;10,</div></div><div class=\"p1101\" style=\"display: none;\"><div style=\"display: table-cell;\"></div><div style=\"display: table-cell;\">lod_interval&nbsp;=&nbsp;300,</div></div><div class=\"p1101\" style=\"display: none;\"><div style=\"display: table-cell;\"></div><div style=\"display: table-cell;\">lod_threshold&nbsp;=&nbsp;2000,</div></div><div class=\"p1101\" style=\"display: none;\"><div style=\"display: table-cell;\"></div><div style=\"display: table-cell;\">lod_timeout&nbsp;=&nbsp;500,</div></div><div class=\"p1101\" style=\"display: none;\"><div style=\"display: table-cell;\"></div><div style=\"display: table-cell;\">margin&nbsp;=&nbsp;None,</div></div><div class=\"p1101\" style=\"display: none;\"><div style=\"display: table-cell;\"></div><div style=\"display: table-cell;\">match_aspect&nbsp;=&nbsp;False,</div></div><div class=\"p1101\" style=\"display: none;\"><div style=\"display: table-cell;\"></div><div style=\"display: table-cell;\">max_height&nbsp;=&nbsp;None,</div></div><div class=\"p1101\" style=\"display: none;\"><div style=\"display: table-cell;\"></div><div style=\"display: table-cell;\">max_width&nbsp;=&nbsp;None,</div></div><div class=\"p1101\" style=\"display: none;\"><div style=\"display: table-cell;\"></div><div style=\"display: table-cell;\">min_border&nbsp;=&nbsp;5,</div></div><div class=\"p1101\" style=\"display: none;\"><div style=\"display: table-cell;\"></div><div style=\"display: table-cell;\">min_border_bottom&nbsp;=&nbsp;None,</div></div><div class=\"p1101\" style=\"display: none;\"><div style=\"display: table-cell;\"></div><div style=\"display: table-cell;\">min_border_left&nbsp;=&nbsp;None,</div></div><div class=\"p1101\" style=\"display: none;\"><div style=\"display: table-cell;\"></div><div style=\"display: table-cell;\">min_border_right&nbsp;=&nbsp;None,</div></div><div class=\"p1101\" style=\"display: none;\"><div style=\"display: table-cell;\"></div><div style=\"display: table-cell;\">min_border_top&nbsp;=&nbsp;None,</div></div><div class=\"p1101\" style=\"display: none;\"><div style=\"display: table-cell;\"></div><div style=\"display: table-cell;\">min_height&nbsp;=&nbsp;None,</div></div><div class=\"p1101\" style=\"display: none;\"><div style=\"display: table-cell;\"></div><div style=\"display: table-cell;\">min_width&nbsp;=&nbsp;None,</div></div><div class=\"p1101\" style=\"display: none;\"><div style=\"display: table-cell;\"></div><div style=\"display: table-cell;\">name&nbsp;=&nbsp;None,</div></div><div class=\"p1101\" style=\"display: none;\"><div style=\"display: table-cell;\"></div><div style=\"display: table-cell;\">outline_line_alpha&nbsp;=&nbsp;1.0,</div></div><div class=\"p1101\" style=\"display: none;\"><div style=\"display: table-cell;\"></div><div style=\"display: table-cell;\">outline_line_cap&nbsp;=&nbsp;'butt',</div></div><div class=\"p1101\" style=\"display: none;\"><div style=\"display: table-cell;\"></div><div style=\"display: table-cell;\">outline_line_color&nbsp;=&nbsp;'#e5e5e5',</div></div><div class=\"p1101\" style=\"display: none;\"><div style=\"display: table-cell;\"></div><div style=\"display: table-cell;\">outline_line_dash&nbsp;=&nbsp;[],</div></div><div class=\"p1101\" style=\"display: none;\"><div style=\"display: table-cell;\"></div><div style=\"display: table-cell;\">outline_line_dash_offset&nbsp;=&nbsp;0,</div></div><div class=\"p1101\" style=\"display: none;\"><div style=\"display: table-cell;\"></div><div style=\"display: table-cell;\">outline_line_join&nbsp;=&nbsp;'bevel',</div></div><div class=\"p1101\" style=\"display: none;\"><div style=\"display: table-cell;\"></div><div style=\"display: table-cell;\">outline_line_width&nbsp;=&nbsp;1,</div></div><div class=\"p1101\" style=\"display: none;\"><div style=\"display: table-cell;\"></div><div style=\"display: table-cell;\">output_backend&nbsp;=&nbsp;'canvas',</div></div><div class=\"p1101\" style=\"display: none;\"><div style=\"display: table-cell;\"></div><div style=\"display: table-cell;\">renderers&nbsp;=&nbsp;[GlyphRenderer(id='p1095', ...)],</div></div><div class=\"p1101\" style=\"display: none;\"><div style=\"display: table-cell;\"></div><div style=\"display: table-cell;\">reset_policy&nbsp;=&nbsp;'standard',</div></div><div class=\"p1101\" style=\"display: none;\"><div style=\"display: table-cell;\"></div><div style=\"display: table-cell;\">resizable&nbsp;=&nbsp;False,</div></div><div class=\"p1101\" style=\"display: none;\"><div style=\"display: table-cell;\"></div><div style=\"display: table-cell;\">right&nbsp;=&nbsp;[],</div></div><div class=\"p1101\" style=\"display: none;\"><div style=\"display: table-cell;\"></div><div style=\"display: table-cell;\">sizing_mode&nbsp;=&nbsp;None,</div></div><div class=\"p1101\" style=\"display: none;\"><div style=\"display: table-cell;\"></div><div style=\"display: table-cell;\">styles&nbsp;=&nbsp;{},</div></div><div class=\"p1101\" style=\"display: none;\"><div style=\"display: table-cell;\"></div><div style=\"display: table-cell;\">stylesheets&nbsp;=&nbsp;[],</div></div><div class=\"p1101\" style=\"display: none;\"><div style=\"display: table-cell;\"></div><div style=\"display: table-cell;\">subscribed_events&nbsp;=&nbsp;PropertyValueSet(),</div></div><div class=\"p1101\" style=\"display: none;\"><div style=\"display: table-cell;\"></div><div style=\"display: table-cell;\">syncable&nbsp;=&nbsp;True,</div></div><div class=\"p1101\" style=\"display: none;\"><div style=\"display: table-cell;\"></div><div style=\"display: table-cell;\">tags&nbsp;=&nbsp;[],</div></div><div class=\"p1101\" style=\"display: none;\"><div style=\"display: table-cell;\"></div><div style=\"display: table-cell;\">title&nbsp;=&nbsp;Title(id='p1062', ...),</div></div><div class=\"p1101\" style=\"display: none;\"><div style=\"display: table-cell;\"></div><div style=\"display: table-cell;\">title_location&nbsp;=&nbsp;'above',</div></div><div class=\"p1101\" style=\"display: none;\"><div style=\"display: table-cell;\"></div><div style=\"display: table-cell;\">toolbar&nbsp;=&nbsp;Toolbar(id='p1063', ...),</div></div><div class=\"p1101\" style=\"display: none;\"><div style=\"display: table-cell;\"></div><div style=\"display: table-cell;\">toolbar_inner&nbsp;=&nbsp;False,</div></div><div class=\"p1101\" style=\"display: none;\"><div style=\"display: table-cell;\"></div><div style=\"display: table-cell;\">toolbar_location&nbsp;=&nbsp;'right',</div></div><div class=\"p1101\" style=\"display: none;\"><div style=\"display: table-cell;\"></div><div style=\"display: table-cell;\">toolbar_sticky&nbsp;=&nbsp;True,</div></div><div class=\"p1101\" style=\"display: none;\"><div style=\"display: table-cell;\"></div><div style=\"display: table-cell;\">visible&nbsp;=&nbsp;True,</div></div><div class=\"p1101\" style=\"display: none;\"><div style=\"display: table-cell;\"></div><div style=\"display: table-cell;\">width&nbsp;=&nbsp;600,</div></div><div class=\"p1101\" style=\"display: none;\"><div style=\"display: table-cell;\"></div><div style=\"display: table-cell;\">width_policy&nbsp;=&nbsp;'auto',</div></div><div class=\"p1101\" style=\"display: none;\"><div style=\"display: table-cell;\"></div><div style=\"display: table-cell;\">x_range&nbsp;=&nbsp;DataRange1d(id='p1056', ...),</div></div><div class=\"p1101\" style=\"display: none;\"><div style=\"display: table-cell;\"></div><div style=\"display: table-cell;\">x_scale&nbsp;=&nbsp;LinearScale(id='p1064', ...),</div></div><div class=\"p1101\" style=\"display: none;\"><div style=\"display: table-cell;\"></div><div style=\"display: table-cell;\">y_range&nbsp;=&nbsp;DataRange1d(id='p1057', ...),</div></div><div class=\"p1101\" style=\"display: none;\"><div style=\"display: table-cell;\"></div><div style=\"display: table-cell;\">y_scale&nbsp;=&nbsp;LinearScale(id='p1065', ...))</div></div></div>\n",
              "<script>\n",
              "(function() {\n",
              "  let expanded = false;\n",
              "  const ellipsis = document.getElementById(\"p1102\");\n",
              "  ellipsis.addEventListener(\"click\", function() {\n",
              "    const rows = document.getElementsByClassName(\"p1101\");\n",
              "    for (let i = 0; i < rows.length; i++) {\n",
              "      const el = rows[i];\n",
              "      el.style.display = expanded ? \"none\" : \"table-row\";\n",
              "    }\n",
              "    ellipsis.innerHTML = expanded ? \"&hellip;)\" : \"&lsaquo;&lsaquo;&lsaquo;\";\n",
              "    expanded = !expanded;\n",
              "  });\n",
              "})();\n",
              "</script>\n"
            ]
          },
          "metadata": {},
          "execution_count": 52
        }
      ],
      "source": [
        "draw_vectors(embedding[:, 0], embedding[:, 1], token=top_words)"
      ]
    },
    {
      "cell_type": "markdown",
      "metadata": {
        "id": "Fb6ZXfrfjNaV"
      },
      "source": [
        "Для сдачи задания необходимо загрузить функции `subsample_frequent_words` и `get_negative_sampling_prob`, а также сгенерировать файл для посылки ниже и приложить в соответствующую задачу. Успехов!"
      ]
    },
    {
      "cell_type": "code",
      "execution_count": 51,
      "metadata": {
        "id": "nao6PYUBjNaV",
        "outputId": "97f0b1ae-eac1-4302-ab60-773f618622e1",
        "colab": {
          "base_uri": "https://localhost:8080/"
        }
      },
      "outputs": [
        {
          "output_type": "stream",
          "name": "stdout",
          "text": [
            "File saved to `submission_dict.json`\n"
          ]
        }
      ],
      "source": [
        "# do not change the code in the block below\n",
        "# __________start of block__________\n",
        "import os\n",
        "import json\n",
        "\n",
        "assert os.path.exists(\n",
        "    \"words_subset.txt\"\n",
        "), \"Please, download `words_subset.txt` and place it in the working directory\"\n",
        "\n",
        "with open(\"words_subset.txt\") as iofile:\n",
        "    selected_words = iofile.read().split(\"\\n\")\n",
        "\n",
        "\n",
        "def get_matrix_for_selected_words(selected_words, embedding_matrix, word_to_index):\n",
        "    word_vectors = []\n",
        "    for word in selected_words:\n",
        "        index = word_to_index.get(word, None)\n",
        "        vector = [0.0] * embedding_matrix.shape[1]\n",
        "        if index is not None:\n",
        "            vector = embedding_matrix[index].numpy().tolist()\n",
        "        word_vectors.append(vector)\n",
        "    return word_vectors\n",
        "\n",
        "\n",
        "word_vectors = get_matrix_for_selected_words(\n",
        "    selected_words, embedding_matrix_context, word_to_index\n",
        ")\n",
        "\n",
        "with open(\"submission_dict.json\", \"w\") as iofile:\n",
        "    json.dump(word_vectors, iofile)\n",
        "print(\"File saved to `submission_dict.json`\")\n",
        "# __________end of block__________"
      ]
    },
    {
      "cell_type": "code",
      "source": [],
      "metadata": {
        "id": "nkYhE6BrRfNF"
      },
      "execution_count": null,
      "outputs": []
    }
  ],
  "metadata": {
    "colab": {
      "provenance": []
    },
    "kernelspec": {
      "display_name": "py3_research",
      "language": "python",
      "name": "python3"
    },
    "language_info": {
      "codemirror_mode": {
        "name": "ipython",
        "version": 3
      },
      "file_extension": ".py",
      "mimetype": "text/x-python",
      "name": "python",
      "nbconvert_exporter": "python",
      "pygments_lexer": "ipython3",
      "version": "3.11.2"
    },
    "widgets": {
      "application/vnd.jupyter.widget-state+json": {
        "2248b404cddb454e919e6783371245ec": {
          "model_module": "@jupyter-widgets/controls",
          "model_name": "HBoxModel",
          "model_module_version": "1.5.0",
          "state": {
            "_dom_classes": [],
            "_model_module": "@jupyter-widgets/controls",
            "_model_module_version": "1.5.0",
            "_model_name": "HBoxModel",
            "_view_count": null,
            "_view_module": "@jupyter-widgets/controls",
            "_view_module_version": "1.5.0",
            "_view_name": "HBoxView",
            "box_style": "",
            "children": [
              "IPY_MODEL_bb65c9f8266b4d44b07cdc9dc27ac4ff",
              "IPY_MODEL_28dc62e1188a4d38ae0164af082d2c21",
              "IPY_MODEL_226e0104bb19412786e98a0f0ddb2b39"
            ],
            "layout": "IPY_MODEL_d9e2eacf2e9e4d95976ec8d6d3bf22d5"
          }
        },
        "bb65c9f8266b4d44b07cdc9dc27ac4ff": {
          "model_module": "@jupyter-widgets/controls",
          "model_name": "HTMLModel",
          "model_module_version": "1.5.0",
          "state": {
            "_dom_classes": [],
            "_model_module": "@jupyter-widgets/controls",
            "_model_module_version": "1.5.0",
            "_model_name": "HTMLModel",
            "_view_count": null,
            "_view_module": "@jupyter-widgets/controls",
            "_view_module_version": "1.5.0",
            "_view_name": "HTMLView",
            "description": "",
            "description_tooltip": null,
            "layout": "IPY_MODEL_b4daec31c3b24a97bc5c2f0680b0e402",
            "placeholder": "​",
            "style": "IPY_MODEL_ca544ef0f5014c9ba8e6c07243fb309c",
            "value": " 99%"
          }
        },
        "28dc62e1188a4d38ae0164af082d2c21": {
          "model_module": "@jupyter-widgets/controls",
          "model_name": "FloatProgressModel",
          "model_module_version": "1.5.0",
          "state": {
            "_dom_classes": [],
            "_model_module": "@jupyter-widgets/controls",
            "_model_module_version": "1.5.0",
            "_model_name": "FloatProgressModel",
            "_view_count": null,
            "_view_module": "@jupyter-widgets/controls",
            "_view_module_version": "1.5.0",
            "_view_name": "ProgressView",
            "bar_style": "",
            "description": "",
            "description_tooltip": null,
            "layout": "IPY_MODEL_992bfd6d3ff548b0bd065b938e42f5f2",
            "max": 2500,
            "min": 0,
            "orientation": "horizontal",
            "style": "IPY_MODEL_ee1af7ce33924a6f8054464a723aa884",
            "value": 2478
          }
        },
        "226e0104bb19412786e98a0f0ddb2b39": {
          "model_module": "@jupyter-widgets/controls",
          "model_name": "HTMLModel",
          "model_module_version": "1.5.0",
          "state": {
            "_dom_classes": [],
            "_model_module": "@jupyter-widgets/controls",
            "_model_module_version": "1.5.0",
            "_model_name": "HTMLModel",
            "_view_count": null,
            "_view_module": "@jupyter-widgets/controls",
            "_view_module_version": "1.5.0",
            "_view_name": "HTMLView",
            "description": "",
            "description_tooltip": null,
            "layout": "IPY_MODEL_c83c4a25eda94e528ad73d3ab18b952e",
            "placeholder": "​",
            "style": "IPY_MODEL_d29bdf91f85e46799de72ffb6f8219b1",
            "value": " 2477/2500 [1:01:34&lt;00:33,  1.47s/it]"
          }
        },
        "d9e2eacf2e9e4d95976ec8d6d3bf22d5": {
          "model_module": "@jupyter-widgets/base",
          "model_name": "LayoutModel",
          "model_module_version": "1.2.0",
          "state": {
            "_model_module": "@jupyter-widgets/base",
            "_model_module_version": "1.2.0",
            "_model_name": "LayoutModel",
            "_view_count": null,
            "_view_module": "@jupyter-widgets/base",
            "_view_module_version": "1.2.0",
            "_view_name": "LayoutView",
            "align_content": null,
            "align_items": null,
            "align_self": null,
            "border": null,
            "bottom": null,
            "display": null,
            "flex": null,
            "flex_flow": null,
            "grid_area": null,
            "grid_auto_columns": null,
            "grid_auto_flow": null,
            "grid_auto_rows": null,
            "grid_column": null,
            "grid_gap": null,
            "grid_row": null,
            "grid_template_areas": null,
            "grid_template_columns": null,
            "grid_template_rows": null,
            "height": null,
            "justify_content": null,
            "justify_items": null,
            "left": null,
            "margin": null,
            "max_height": null,
            "max_width": null,
            "min_height": null,
            "min_width": null,
            "object_fit": null,
            "object_position": null,
            "order": null,
            "overflow": null,
            "overflow_x": null,
            "overflow_y": null,
            "padding": null,
            "right": null,
            "top": null,
            "visibility": null,
            "width": null
          }
        },
        "b4daec31c3b24a97bc5c2f0680b0e402": {
          "model_module": "@jupyter-widgets/base",
          "model_name": "LayoutModel",
          "model_module_version": "1.2.0",
          "state": {
            "_model_module": "@jupyter-widgets/base",
            "_model_module_version": "1.2.0",
            "_model_name": "LayoutModel",
            "_view_count": null,
            "_view_module": "@jupyter-widgets/base",
            "_view_module_version": "1.2.0",
            "_view_name": "LayoutView",
            "align_content": null,
            "align_items": null,
            "align_self": null,
            "border": null,
            "bottom": null,
            "display": null,
            "flex": null,
            "flex_flow": null,
            "grid_area": null,
            "grid_auto_columns": null,
            "grid_auto_flow": null,
            "grid_auto_rows": null,
            "grid_column": null,
            "grid_gap": null,
            "grid_row": null,
            "grid_template_areas": null,
            "grid_template_columns": null,
            "grid_template_rows": null,
            "height": null,
            "justify_content": null,
            "justify_items": null,
            "left": null,
            "margin": null,
            "max_height": null,
            "max_width": null,
            "min_height": null,
            "min_width": null,
            "object_fit": null,
            "object_position": null,
            "order": null,
            "overflow": null,
            "overflow_x": null,
            "overflow_y": null,
            "padding": null,
            "right": null,
            "top": null,
            "visibility": null,
            "width": null
          }
        },
        "ca544ef0f5014c9ba8e6c07243fb309c": {
          "model_module": "@jupyter-widgets/controls",
          "model_name": "DescriptionStyleModel",
          "model_module_version": "1.5.0",
          "state": {
            "_model_module": "@jupyter-widgets/controls",
            "_model_module_version": "1.5.0",
            "_model_name": "DescriptionStyleModel",
            "_view_count": null,
            "_view_module": "@jupyter-widgets/base",
            "_view_module_version": "1.2.0",
            "_view_name": "StyleView",
            "description_width": ""
          }
        },
        "992bfd6d3ff548b0bd065b938e42f5f2": {
          "model_module": "@jupyter-widgets/base",
          "model_name": "LayoutModel",
          "model_module_version": "1.2.0",
          "state": {
            "_model_module": "@jupyter-widgets/base",
            "_model_module_version": "1.2.0",
            "_model_name": "LayoutModel",
            "_view_count": null,
            "_view_module": "@jupyter-widgets/base",
            "_view_module_version": "1.2.0",
            "_view_name": "LayoutView",
            "align_content": null,
            "align_items": null,
            "align_self": null,
            "border": null,
            "bottom": null,
            "display": null,
            "flex": null,
            "flex_flow": null,
            "grid_area": null,
            "grid_auto_columns": null,
            "grid_auto_flow": null,
            "grid_auto_rows": null,
            "grid_column": null,
            "grid_gap": null,
            "grid_row": null,
            "grid_template_areas": null,
            "grid_template_columns": null,
            "grid_template_rows": null,
            "height": null,
            "justify_content": null,
            "justify_items": null,
            "left": null,
            "margin": null,
            "max_height": null,
            "max_width": null,
            "min_height": null,
            "min_width": null,
            "object_fit": null,
            "object_position": null,
            "order": null,
            "overflow": null,
            "overflow_x": null,
            "overflow_y": null,
            "padding": null,
            "right": null,
            "top": null,
            "visibility": null,
            "width": null
          }
        },
        "ee1af7ce33924a6f8054464a723aa884": {
          "model_module": "@jupyter-widgets/controls",
          "model_name": "ProgressStyleModel",
          "model_module_version": "1.5.0",
          "state": {
            "_model_module": "@jupyter-widgets/controls",
            "_model_module_version": "1.5.0",
            "_model_name": "ProgressStyleModel",
            "_view_count": null,
            "_view_module": "@jupyter-widgets/base",
            "_view_module_version": "1.2.0",
            "_view_name": "StyleView",
            "bar_color": null,
            "description_width": ""
          }
        },
        "c83c4a25eda94e528ad73d3ab18b952e": {
          "model_module": "@jupyter-widgets/base",
          "model_name": "LayoutModel",
          "model_module_version": "1.2.0",
          "state": {
            "_model_module": "@jupyter-widgets/base",
            "_model_module_version": "1.2.0",
            "_model_name": "LayoutModel",
            "_view_count": null,
            "_view_module": "@jupyter-widgets/base",
            "_view_module_version": "1.2.0",
            "_view_name": "LayoutView",
            "align_content": null,
            "align_items": null,
            "align_self": null,
            "border": null,
            "bottom": null,
            "display": null,
            "flex": null,
            "flex_flow": null,
            "grid_area": null,
            "grid_auto_columns": null,
            "grid_auto_flow": null,
            "grid_auto_rows": null,
            "grid_column": null,
            "grid_gap": null,
            "grid_row": null,
            "grid_template_areas": null,
            "grid_template_columns": null,
            "grid_template_rows": null,
            "height": null,
            "justify_content": null,
            "justify_items": null,
            "left": null,
            "margin": null,
            "max_height": null,
            "max_width": null,
            "min_height": null,
            "min_width": null,
            "object_fit": null,
            "object_position": null,
            "order": null,
            "overflow": null,
            "overflow_x": null,
            "overflow_y": null,
            "padding": null,
            "right": null,
            "top": null,
            "visibility": null,
            "width": null
          }
        },
        "d29bdf91f85e46799de72ffb6f8219b1": {
          "model_module": "@jupyter-widgets/controls",
          "model_name": "DescriptionStyleModel",
          "model_module_version": "1.5.0",
          "state": {
            "_model_module": "@jupyter-widgets/controls",
            "_model_module_version": "1.5.0",
            "_model_name": "DescriptionStyleModel",
            "_view_count": null,
            "_view_module": "@jupyter-widgets/base",
            "_view_module_version": "1.2.0",
            "_view_name": "StyleView",
            "description_width": ""
          }
        }
      }
    }
  },
  "nbformat": 4,
  "nbformat_minor": 0
}